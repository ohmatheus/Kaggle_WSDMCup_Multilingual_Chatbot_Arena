{
 "cells": [
  {
   "cell_type": "markdown",
   "id": "4d657ffb",
   "metadata": {
    "_cell_guid": "79baff96-0450-4344-905b-73f4686246fd",
    "_uuid": "8fae4cc9-73ea-4ef4-b764-b80717fca22d",
    "collapsed": false,
    "jupyter": {
     "outputs_hidden": false
    },
    "papermill": {
     "duration": 0.007067,
     "end_time": "2025-01-24T07:11:43.815456",
     "exception": false,
     "start_time": "2025-01-24T07:11:43.808389",
     "status": "completed"
    },
    "tags": []
   },
   "source": [
    "# Kaggle Predict"
   ]
  },
  {
   "cell_type": "markdown",
   "id": "8875daec",
   "metadata": {
    "_cell_guid": "7a2c3012-7628-4774-a95b-3d78b27b747e",
    "_uuid": "60e4fd72-1598-4a25-88c9-52f8b94311d5",
    "collapsed": false,
    "jupyter": {
     "outputs_hidden": false
    },
    "papermill": {
     "duration": 0.006197,
     "end_time": "2025-01-24T07:11:43.827813",
     "exception": false,
     "start_time": "2025-01-24T07:11:43.821616",
     "status": "completed"
    },
    "tags": []
   },
   "source": [
    "## Imports"
   ]
  },
  {
   "cell_type": "code",
   "execution_count": 32,
   "id": "5349be9d",
   "metadata": {
    "_cell_guid": "95b4f567-ccf9-4e5b-8cd2-96493ab6996d",
    "_uuid": "c656c4ac-0537-4fb0-aa0e-92ed1fda11bb",
    "collapsed": false,
    "execution": {
     "iopub.execute_input": "2025-01-24T16:16:54.123897Z",
     "iopub.status.busy": "2025-01-24T16:16:54.123605Z",
     "iopub.status.idle": "2025-01-24T16:16:57.902164Z",
     "shell.execute_reply": "2025-01-24T16:16:57.901312Z",
     "shell.execute_reply.started": "2025-01-24T16:16:54.123867Z"
    },
    "jupyter": {
     "outputs_hidden": false
    },
    "papermill": {
     "duration": 3.643648,
     "end_time": "2025-01-24T07:11:47.477607",
     "exception": false,
     "start_time": "2025-01-24T07:11:43.833959",
     "status": "completed"
    },
    "tags": [],
    "trusted": true
   },
   "outputs": [
    {
     "name": "stdout",
     "output_type": "stream",
     "text": [
      "Transformers: 4.47.1\n"
     ]
    }
   ],
   "source": [
    "import transformers as trsf\n",
    "print(\"Transformers:\", trsf.__version__)"
   ]
  },
  {
   "cell_type": "code",
   "execution_count": 33,
   "id": "5eb732dc",
   "metadata": {
    "_cell_guid": "6ee595ee-0b8f-4f49-b73c-566e022c7a53",
    "_uuid": "c1cdab4b-8e3f-4946-bfae-b69377e79b4c",
    "collapsed": false,
    "execution": {
     "iopub.execute_input": "2025-01-24T16:16:57.903441Z",
     "iopub.status.busy": "2025-01-24T16:16:57.903087Z",
     "iopub.status.idle": "2025-01-24T16:17:14.141020Z",
     "shell.execute_reply": "2025-01-24T16:17:14.140344Z",
     "shell.execute_reply.started": "2025-01-24T16:16:57.903418Z"
    },
    "jupyter": {
     "outputs_hidden": false
    },
    "papermill": {
     "duration": 11.691663,
     "end_time": "2025-01-24T07:11:59.175855",
     "exception": false,
     "start_time": "2025-01-24T07:11:47.484192",
     "status": "completed"
    },
    "tags": [],
    "trusted": true
   },
   "outputs": [],
   "source": [
    "import os\n",
    "import copy\n",
    "from dataclasses import dataclass\n",
    "import pickle\n",
    "from timeit import default_timer as timer\n",
    "import numpy as np\n",
    "import pandas as pd\n",
    "\n",
    "import torch\n",
    "import torch.nn as nn\n",
    "import torch.optim as optim\n",
    "from torch.utils.data import Dataset, DataLoader\n",
    "import torch.nn.functional as F\n",
    "from torch import Tensor\n",
    "\n",
    "#from datasets import Dataset\n",
    "\n",
    "from tqdm import tqdm\n",
    "\n",
    "from transformers import (\n",
    "    BitsAndBytesConfig,\n",
    "    GemmaTokenizerFast,\n",
    "    AutoModelForSequenceClassification,\n",
    "    AutoTokenizer,\n",
    "    AutoModel,\n",
    "    get_cosine_schedule_with_warmup,\n",
    ")\n",
    "\n",
    "from peft import PeftModel, LoraConfig, get_peft_model, prepare_model_for_kbit_training, TaskType\n",
    "\n",
    "from sklearn.metrics import log_loss, accuracy_score\n",
    "from sklearn.model_selection import train_test_split\n",
    "\n",
    "import ModelsUtils as Utils\n",
    "import Configurations as Configs\n",
    "#import wsdm_modelutils as Utils"
   ]
  },
  {
   "cell_type": "code",
   "execution_count": 34,
   "id": "d9456e85",
   "metadata": {
    "_cell_guid": "a237db0f-1d0e-4e9c-ac5d-b47d8041584f",
    "_uuid": "08ce20e0-a16a-4c5c-8fcb-f1df3bbb3838",
    "collapsed": false,
    "execution": {
     "iopub.execute_input": "2025-01-24T16:17:14.142402Z",
     "iopub.status.busy": "2025-01-24T16:17:14.141885Z",
     "iopub.status.idle": "2025-01-24T16:17:14.146489Z",
     "shell.execute_reply": "2025-01-24T16:17:14.145736Z",
     "shell.execute_reply.started": "2025-01-24T16:17:14.142377Z"
    },
    "jupyter": {
     "outputs_hidden": false
    },
    "papermill": {
     "duration": 0.01323,
     "end_time": "2025-01-24T07:11:59.195933",
     "exception": false,
     "start_time": "2025-01-24T07:11:59.182703",
     "status": "completed"
    },
    "tags": [],
    "trusted": true
   },
   "outputs": [
    {
     "name": "stdout",
     "output_type": "stream",
     "text": [
      "Peft: 0.14.0\n"
     ]
    }
   ],
   "source": [
    "import peft as pft\n",
    "print(\"Peft:\", pft.__version__)"
   ]
  },
  {
   "cell_type": "code",
   "execution_count": 35,
   "id": "e48fcc69",
   "metadata": {
    "_cell_guid": "00142c87-3b04-42cc-bde3-c5796844a017",
    "_uuid": "adb38371-6423-4abb-a7f2-3c315e689c10",
    "collapsed": false,
    "execution": {
     "iopub.execute_input": "2025-01-24T16:17:14.147681Z",
     "iopub.status.busy": "2025-01-24T16:17:14.147431Z",
     "iopub.status.idle": "2025-01-24T16:17:14.212127Z",
     "shell.execute_reply": "2025-01-24T16:17:14.211276Z",
     "shell.execute_reply.started": "2025-01-24T16:17:14.147654Z"
    },
    "jupyter": {
     "outputs_hidden": false
    },
    "papermill": {
     "duration": 0.085459,
     "end_time": "2025-01-24T07:11:59.288049",
     "exception": false,
     "start_time": "2025-01-24T07:11:59.202590",
     "status": "completed"
    },
    "tags": [],
    "trusted": true
   },
   "outputs": [
    {
     "name": "stdout",
     "output_type": "stream",
     "text": [
      "Torch version: 2.5.1+cu118\n",
      "Torch is build with CUDA: True\n",
      "Torch device : cuda:0\n",
      "------------------------------\n"
     ]
    }
   ],
   "source": [
    "print('Torch version:', torch.__version__)\n",
    "print('Torch is build with CUDA:', torch.cuda.is_available())\n",
    "device = torch.device(\"cuda:0\" if torch.cuda.is_available() else \"cpu\")\n",
    "print(f'Torch device : {device}')\n",
    "print('------------------------------')"
   ]
  },
  {
   "cell_type": "code",
   "execution_count": 36,
   "id": "08d64965",
   "metadata": {
    "execution": {
     "iopub.execute_input": "2025-01-24T16:17:14.214860Z",
     "iopub.status.busy": "2025-01-24T16:17:14.214619Z",
     "iopub.status.idle": "2025-01-24T16:17:14.249550Z",
     "shell.execute_reply": "2025-01-24T16:17:14.248852Z",
     "shell.execute_reply.started": "2025-01-24T16:17:14.214840Z"
    },
    "papermill": {
     "duration": 0.041467,
     "end_time": "2025-01-24T07:11:59.335912",
     "exception": false,
     "start_time": "2025-01-24T07:11:59.294445",
     "status": "completed"
    },
    "tags": [],
    "trusted": true
   },
   "outputs": [
    {
     "data": {
      "text/plain": [
       "[0]"
      ]
     },
     "execution_count": 36,
     "metadata": {},
     "output_type": "execute_result"
    }
   ],
   "source": [
    "device_ids = list(range(torch.cuda.device_count()))\n",
    "device_ids"
   ]
  },
  {
   "cell_type": "markdown",
   "id": "095bcf44",
   "metadata": {
    "_cell_guid": "4f377040-831f-4219-a96a-87fab76b027e",
    "_uuid": "43e9c741-6dbb-4cbe-9f75-ca7274b7a2f2",
    "collapsed": false,
    "jupyter": {
     "outputs_hidden": false
    },
    "papermill": {
     "duration": 0.006499,
     "end_time": "2025-01-24T07:11:59.349210",
     "exception": false,
     "start_time": "2025-01-24T07:11:59.342711",
     "status": "completed"
    },
    "tags": []
   },
   "source": [
    "## Config"
   ]
  },
  {
   "cell_type": "code",
   "execution_count": 37,
   "id": "8bf5c567",
   "metadata": {
    "_cell_guid": "a5c3a312-8c21-4708-908b-fe45eb4149d7",
    "_uuid": "9ae40850-0dc1-46a5-ae2b-190c5f35ce1f",
    "collapsed": false,
    "execution": {
     "iopub.execute_input": "2025-01-24T16:17:14.251048Z",
     "iopub.status.busy": "2025-01-24T16:17:14.250843Z",
     "iopub.status.idle": "2025-01-24T16:17:14.266424Z",
     "shell.execute_reply": "2025-01-24T16:17:14.265793Z",
     "shell.execute_reply.started": "2025-01-24T16:17:14.251031Z"
    },
    "jupyter": {
     "outputs_hidden": false
    },
    "papermill": {
     "duration": 0.018551,
     "end_time": "2025-01-24T07:11:59.374173",
     "exception": false,
     "start_time": "2025-01-24T07:11:59.355622",
     "status": "completed"
    },
    "tags": [],
    "trusted": true
   },
   "outputs": [
    {
     "data": {
      "text/plain": [
       "'micro_gemma2_2b_fp16_4bit'"
      ]
     },
     "execution_count": 37,
     "metadata": {},
     "output_type": "execute_result"
    }
   ],
   "source": [
    "config_file = 'Configs.py'\n",
    "manager = Configs.ConfigManager(config_file)\n",
    "\n",
    "config = manager.micro\n",
    "\n",
    "config.config_name"
   ]
  },
  {
   "cell_type": "code",
   "execution_count": 38,
   "id": "87bd5655",
   "metadata": {
    "_cell_guid": "f1b5d674-e3f6-40d2-9dfb-5ef078176905",
    "_uuid": "5eb22174-aeec-42db-b05e-7a94ba69f835",
    "collapsed": false,
    "execution": {
     "iopub.execute_input": "2025-01-24T16:17:14.267437Z",
     "iopub.status.busy": "2025-01-24T16:17:14.267121Z",
     "iopub.status.idle": "2025-01-24T16:17:14.270975Z",
     "shell.execute_reply": "2025-01-24T16:17:14.270274Z",
     "shell.execute_reply.started": "2025-01-24T16:17:14.267407Z"
    },
    "jupyter": {
     "outputs_hidden": false
    },
    "papermill": {
     "duration": 0.01197,
     "end_time": "2025-01-24T07:11:59.393212",
     "exception": false,
     "start_time": "2025-01-24T07:11:59.381242",
     "status": "completed"
    },
    "tags": [],
    "trusted": true
   },
   "outputs": [],
   "source": [
    "basemodel_path = config.basemodel_path #config.basemodel_path #../BaseModel/gemma2_9b_fp16_4bit'\n",
    "#basemodel_path = '/kaggle/input/gemma2_9b_4bit_fp32/other/default/1/gemma2_9b_4bit_fp32' #\"unsloth/gemma-2-9b-it-bnb-4bit\"\n",
    "\n",
    "peft_model_path = '../Checkpoints/'\n",
    "\n",
    "checkpoint_name = \"01-24-2025_22-04_1024_train_lossBest\"\n",
    "#kaggle_PeftPath = '/kaggle/input/trainned_06/pytorch/default/1'"
   ]
  },
  {
   "cell_type": "code",
   "execution_count": 39,
   "id": "b336e333",
   "metadata": {
    "_cell_guid": "7294f901-d41a-41c4-932c-169ee220b7e7",
    "_uuid": "59f6d093-1b08-430a-b4a3-aea5ebd55d33",
    "collapsed": false,
    "execution": {
     "iopub.execute_input": "2025-01-24T16:17:14.272062Z",
     "iopub.status.busy": "2025-01-24T16:17:14.271850Z",
     "iopub.status.idle": "2025-01-24T16:17:17.366230Z",
     "shell.execute_reply": "2025-01-24T16:17:17.365285Z",
     "shell.execute_reply.started": "2025-01-24T16:17:14.272044Z"
    },
    "jupyter": {
     "outputs_hidden": false
    },
    "papermill": {
     "duration": 0.145264,
     "end_time": "2025-01-24T07:11:59.545038",
     "exception": false,
     "start_time": "2025-01-24T07:11:59.399774",
     "status": "completed"
    },
    "tags": [],
    "trusted": true
   },
   "outputs": [
    {
     "data": {
      "text/plain": [
       "(10200, 8)"
      ]
     },
     "execution_count": 39,
     "metadata": {},
     "output_type": "execute_result"
    }
   ],
   "source": [
    "#dataframe_path = config.train_data\n",
    "\n",
    "#df_test = pd.read_csv(dataframe_path)\n",
    "\n",
    "\n",
    "df_train = pd.read_parquet('../Data/Original/wsdm-cup-multilingual-chatbot-arena/train.parquet', engine='pyarrow') # original\n",
    "df_test = df_train.iloc[:10200].copy()\n",
    "#df_test = df_train.iloc[:5100].copy()\n",
    "#df_test = df_train.iloc[:1002].copy()\n",
    "#df_test = df_train.iloc[:8].copy()\n",
    "\n",
    "local_max_length = config.max_length\n",
    "#local_max_length = 2048\n",
    "local_batch_size = config.eval_batch\n",
    "#local_batch_size = 8\n",
    "\n",
    "df_test.shape"
   ]
  },
  {
   "cell_type": "code",
   "execution_count": 40,
   "id": "bec06ea6",
   "metadata": {
    "_cell_guid": "a915795c-5e2c-47ba-967c-81675deb0afa",
    "_uuid": "a3c149b0-3682-452e-a6d4-677a7ddf90c5",
    "collapsed": false,
    "execution": {
     "iopub.execute_input": "2025-01-24T16:17:17.367507Z",
     "iopub.status.busy": "2025-01-24T16:17:17.367157Z",
     "iopub.status.idle": "2025-01-24T16:17:17.378538Z",
     "shell.execute_reply": "2025-01-24T16:17:17.377561Z",
     "shell.execute_reply.started": "2025-01-24T16:17:17.367482Z"
    },
    "jupyter": {
     "outputs_hidden": false
    },
    "papermill": {
     "duration": 0.019321,
     "end_time": "2025-01-24T07:11:59.571199",
     "exception": false,
     "start_time": "2025-01-24T07:11:59.551878",
     "status": "completed"
    },
    "tags": [],
    "trusted": true
   },
   "outputs": [],
   "source": [
    "df_test['id'] = df_test['id'].astype(str)\n",
    "df_test['prompt'] = df_test['prompt'].astype(str)\n",
    "df_test['response_a'] = df_test['response_a'].astype(str)\n",
    "df_test['response_b'] = df_test['response_b'].astype(str)"
   ]
  },
  {
   "cell_type": "code",
   "execution_count": 41,
   "id": "fd8f12c1",
   "metadata": {},
   "outputs": [],
   "source": [
    "#df_test = df_test.sample(frac=config.sample_size, random_state=config.random_seed)\n"
   ]
  },
  {
   "cell_type": "code",
   "execution_count": 42,
   "id": "38a80150",
   "metadata": {},
   "outputs": [
    {
     "data": {
      "text/html": [
       "<div>\n",
       "<style scoped>\n",
       "    .dataframe tbody tr th:only-of-type {\n",
       "        vertical-align: middle;\n",
       "    }\n",
       "\n",
       "    .dataframe tbody tr th {\n",
       "        vertical-align: top;\n",
       "    }\n",
       "\n",
       "    .dataframe thead th {\n",
       "        text-align: right;\n",
       "    }\n",
       "</style>\n",
       "<table border=\"1\" class=\"dataframe\">\n",
       "  <thead>\n",
       "    <tr style=\"text-align: right;\">\n",
       "      <th></th>\n",
       "      <th>id</th>\n",
       "      <th>prompt</th>\n",
       "      <th>response_a</th>\n",
       "      <th>response_b</th>\n",
       "      <th>winner</th>\n",
       "      <th>model_a</th>\n",
       "      <th>model_b</th>\n",
       "      <th>language</th>\n",
       "    </tr>\n",
       "  </thead>\n",
       "  <tbody>\n",
       "    <tr>\n",
       "      <th>0</th>\n",
       "      <td>00007cff95d7f7974642a785aca248b0f26e60d3312fac...</td>\n",
       "      <td>vieš po Slovensky?</td>\n",
       "      <td>Áno, hovorím po slovensky. Ako vám môžem pomôcť?</td>\n",
       "      <td>Áno, veď som tu! Môžem ti pomôcť s otázkami al...</td>\n",
       "      <td>model_a</td>\n",
       "      <td>o1-preview</td>\n",
       "      <td>reka-core-20240904</td>\n",
       "      <td>Slovak</td>\n",
       "    </tr>\n",
       "  </tbody>\n",
       "</table>\n",
       "</div>"
      ],
      "text/plain": [
       "                                                  id              prompt  \\\n",
       "0  00007cff95d7f7974642a785aca248b0f26e60d3312fac...  vieš po Slovensky?   \n",
       "\n",
       "                                         response_a  \\\n",
       "0  Áno, hovorím po slovensky. Ako vám môžem pomôcť?   \n",
       "\n",
       "                                          response_b   winner     model_a  \\\n",
       "0  Áno, veď som tu! Môžem ti pomôcť s otázkami al...  model_a  o1-preview   \n",
       "\n",
       "              model_b language  \n",
       "0  reka-core-20240904   Slovak  "
      ]
     },
     "execution_count": 42,
     "metadata": {},
     "output_type": "execute_result"
    }
   ],
   "source": [
    "df_test.head(1)"
   ]
  },
  {
   "cell_type": "code",
   "execution_count": 43,
   "id": "07dd2403",
   "metadata": {},
   "outputs": [
    {
     "data": {
      "text/plain": [
       "(10200, 8)"
      ]
     },
     "execution_count": 43,
     "metadata": {},
     "output_type": "execute_result"
    }
   ],
   "source": [
    "df_test.shape"
   ]
  },
  {
   "cell_type": "code",
   "execution_count": 44,
   "id": "01fc3c96",
   "metadata": {
    "_cell_guid": "36967222-638a-4a22-9203-5105b323ddba",
    "_uuid": "b20961d0-3161-44ed-90d0-5d877a3940fb",
    "collapsed": false,
    "execution": {
     "iopub.execute_input": "2025-01-24T16:17:17.379842Z",
     "iopub.status.busy": "2025-01-24T16:17:17.379549Z",
     "iopub.status.idle": "2025-01-24T16:17:18.021801Z",
     "shell.execute_reply": "2025-01-24T16:17:18.021116Z",
     "shell.execute_reply.started": "2025-01-24T16:17:17.379820Z"
    },
    "jupyter": {
     "outputs_hidden": false
    },
    "papermill": {
     "duration": 0.018319,
     "end_time": "2025-01-24T07:11:59.596089",
     "exception": false,
     "start_time": "2025-01-24T07:11:59.577770",
     "status": "completed"
    },
    "tags": [],
    "trusted": true
   },
   "outputs": [],
   "source": [
    "df_test = df_test.apply(Utils.reencode, axis=1)  # Apply the make_pairs function to each row in df\n",
    "#df_test = df_test.fillna('')"
   ]
  },
  {
   "cell_type": "code",
   "execution_count": 45,
   "id": "62fb4369-30d1-479b-bf88-067231c1e44e",
   "metadata": {
    "execution": {
     "iopub.execute_input": "2025-01-24T16:17:18.023052Z",
     "iopub.status.busy": "2025-01-24T16:17:18.022839Z",
     "iopub.status.idle": "2025-01-24T16:17:18.029906Z",
     "shell.execute_reply": "2025-01-24T16:17:18.028901Z",
     "shell.execute_reply.started": "2025-01-24T16:17:18.023033Z"
    },
    "trusted": true
   },
   "outputs": [],
   "source": [
    "df_test[\"class_label\"] = df_test.winner.map(Utils.name2label)\n"
   ]
  },
  {
   "cell_type": "code",
   "execution_count": 46,
   "id": "2b92b3ca",
   "metadata": {
    "_cell_guid": "2b8c0329-8245-4b66-98fe-2a4b8ccc739f",
    "_uuid": "cdfa4688-4226-45c5-b8c0-59182ee32188",
    "collapsed": false,
    "execution": {
     "iopub.execute_input": "2025-01-24T16:17:18.031167Z",
     "iopub.status.busy": "2025-01-24T16:17:18.030890Z",
     "iopub.status.idle": "2025-01-24T16:17:28.005283Z",
     "shell.execute_reply": "2025-01-24T16:17:28.004296Z",
     "shell.execute_reply.started": "2025-01-24T16:17:18.031140Z"
    },
    "jupyter": {
     "outputs_hidden": false
    },
    "papermill": {
     "duration": 0.134771,
     "end_time": "2025-01-24T07:11:59.737570",
     "exception": false,
     "start_time": "2025-01-24T07:11:59.602799",
     "status": "completed"
    },
    "tags": [],
    "trusted": true
   },
   "outputs": [
    {
     "name": "stdout",
     "output_type": "stream",
     "text": [
      "Error processing document 727: empty vocabulary; perhaps the documents only contain stop words\n",
      "Error processing document 1345: empty vocabulary; perhaps the documents only contain stop words\n",
      "Error processing document 3289: empty vocabulary; perhaps the documents only contain stop words\n",
      "Error processing document 3907: empty vocabulary; perhaps the documents only contain stop words\n",
      "Error processing document 5182: empty vocabulary; perhaps the documents only contain stop words\n",
      "Error processing document 6770: empty vocabulary; perhaps the documents only contain stop words\n",
      "Error processing document 7439: empty vocabulary; perhaps the documents only contain stop words\n",
      "Error processing document 7630: empty vocabulary; perhaps the documents only contain stop words\n",
      "CPU times: total: 1min 13s\n",
      "Wall time: 1min 13s\n"
     ]
    }
   ],
   "source": [
    "%%time\n",
    "\n",
    "for col in [\"prompt\", \"response_a\", \"response_b\"]:\n",
    "    df_test[f\"{col}_len\"] = df_test[f\"{col}\"].str.len()\n",
    "\n",
    "df_test = Utils.extract_all_features(df_test)"
   ]
  },
  {
   "cell_type": "code",
   "execution_count": 47,
   "id": "e18ef7d5-829c-42c0-8ccc-5ca5bf4f1a16",
   "metadata": {
    "execution": {
     "iopub.execute_input": "2025-01-24T16:17:28.006516Z",
     "iopub.status.busy": "2025-01-24T16:17:28.006189Z",
     "iopub.status.idle": "2025-01-24T16:17:28.015180Z",
     "shell.execute_reply": "2025-01-24T16:17:28.014292Z",
     "shell.execute_reply.started": "2025-01-24T16:17:28.006483Z"
    },
    "trusted": true
   },
   "outputs": [
    {
     "data": {
      "text/plain": [
       "0"
      ]
     },
     "execution_count": 47,
     "metadata": {},
     "output_type": "execute_result"
    }
   ],
   "source": [
    "df_test.isnull().T.any().sum()"
   ]
  },
  {
   "cell_type": "markdown",
   "id": "1acf2d81",
   "metadata": {
    "_cell_guid": "0b5e00f2-fc48-46a8-b051-acedcae60efa",
    "_uuid": "38889030-2b0d-4dd0-9fd4-ffb488ca8c90",
    "collapsed": false,
    "jupyter": {
     "outputs_hidden": false
    },
    "papermill": {
     "duration": 0.006615,
     "end_time": "2025-01-24T07:11:59.751252",
     "exception": false,
     "start_time": "2025-01-24T07:11:59.744637",
     "status": "completed"
    },
    "tags": []
   },
   "source": [
    "## Tokenize"
   ]
  },
  {
   "cell_type": "code",
   "execution_count": 48,
   "id": "76d67132",
   "metadata": {
    "_cell_guid": "f4f7135c-bdcd-46b5-be48-fd09819248be",
    "_uuid": "1e8261e3-d399-408c-b25a-f96a64663590",
    "collapsed": false,
    "execution": {
     "iopub.execute_input": "2025-01-24T16:17:28.016397Z",
     "iopub.status.busy": "2025-01-24T16:17:28.016145Z",
     "iopub.status.idle": "2025-01-24T16:17:29.932472Z",
     "shell.execute_reply": "2025-01-24T16:17:29.931466Z",
     "shell.execute_reply.started": "2025-01-24T16:17:28.016378Z"
    },
    "jupyter": {
     "outputs_hidden": false
    },
    "papermill": {
     "duration": 1.742159,
     "end_time": "2025-01-24T07:12:01.500116",
     "exception": false,
     "start_time": "2025-01-24T07:11:59.757957",
     "status": "completed"
    },
    "tags": [],
    "trusted": true
   },
   "outputs": [],
   "source": [
    "tokenizer = GemmaTokenizerFast.from_pretrained(basemodel_path)\n",
    "#tokenizer = AutoTokenizer.from_pretrained(basemodel_path)\n",
    "tokenizer.add_eos_token = True      # We'll add <eos> at the end\n",
    "tokenizer.padding_side = \"right\""
   ]
  },
  {
   "cell_type": "code",
   "execution_count": 49,
   "id": "db0699fb",
   "metadata": {
    "_cell_guid": "65b58375-6bfd-46f6-af95-894cbfb14b6d",
    "_uuid": "610c39d0-b26b-4792-957a-8e34416833ee",
    "collapsed": false,
    "execution": {
     "iopub.execute_input": "2025-01-24T16:17:29.933778Z",
     "iopub.status.busy": "2025-01-24T16:17:29.933457Z",
     "iopub.status.idle": "2025-01-24T16:17:29.938723Z",
     "shell.execute_reply": "2025-01-24T16:17:29.938063Z",
     "shell.execute_reply.started": "2025-01-24T16:17:29.933749Z"
    },
    "jupyter": {
     "outputs_hidden": false
    },
    "papermill": {
     "duration": 0.013229,
     "end_time": "2025-01-24T07:12:01.520626",
     "exception": false,
     "start_time": "2025-01-24T07:12:01.507397",
     "status": "completed"
    },
    "tags": [],
    "trusted": true
   },
   "outputs": [
    {
     "data": {
      "text/plain": [
       "(10200, 73)"
      ]
     },
     "execution_count": 49,
     "metadata": {},
     "output_type": "execute_result"
    }
   ],
   "source": [
    "df_test.shape"
   ]
  },
  {
   "cell_type": "code",
   "execution_count": 50,
   "id": "00b12246",
   "metadata": {
    "execution": {
     "iopub.execute_input": "2025-01-24T16:17:29.939698Z",
     "iopub.status.busy": "2025-01-24T16:17:29.939456Z",
     "iopub.status.idle": "2025-01-24T16:17:29.956690Z",
     "shell.execute_reply": "2025-01-24T16:17:29.955889Z",
     "shell.execute_reply.started": "2025-01-24T16:17:29.939675Z"
    },
    "papermill": {
     "duration": 0.014627,
     "end_time": "2025-01-24T07:12:01.541808",
     "exception": false,
     "start_time": "2025-01-24T07:12:01.527181",
     "status": "completed"
    },
    "tags": [],
    "trusted": true
   },
   "outputs": [],
   "source": [
    "#-------------------------------------------------------------------\n",
    "# Tokenization function\n",
    "def tokenize(tokenizer, prompt, response_a, response_b, max_length=256, spread_max_length=False):\n",
    "    prompt = [\"<prompt>: \" + p for p in prompt]\n",
    "    response_a = [\"\\n\\n<response_a>: \" + r_a for r_a in response_a]\n",
    "    response_b = [\"\\n\\n<response_b>: \" + r_b for r_b in response_b]\n",
    "\n",
    "    if spread_max_length:\n",
    "        prompt = tokenizer(prompt, max_length=max_length//3, return_tensors=\"pt\", truncation=True,  padding=\"max_length\").input_ids\n",
    "        response_a = tokenizer(response_a, max_length=max_length//3, return_tensors=\"pt\", truncation=True, padding=\"max_length\").input_ids\n",
    "        response_b = tokenizer(response_b, max_length=max_length//3, return_tensors=\"pt\", truncation=True, padding=\"max_length\").input_ids\n",
    "        input_ids = [p + r_a + r_b for p, r_a, r_b in zip(prompt, response_a, response_b)]\n",
    "        attention_mask = [[1]* len(i) for i in input_ids]\n",
    "    else:\n",
    "        text = [p + r_a + r_b for p, r_a, r_b in zip(prompt, response_a, response_b)]\n",
    "        #tokenized = tokenizer(text, max_length=max_length, return_tensors=\"pt\", padding=False, truncation=True) # padding=False\n",
    "        tokenized = tokenizer(text, max_length=max_length, return_tensors=\"pt\", padding=\"max_length\", truncation=True) # padding=False\n",
    "        input_ids = tokenized.input_ids\n",
    "        attention_mask = tokenized.attention_mask\n",
    "\n",
    "    return {\n",
    "        'input_ids': input_ids,\n",
    "        'attention_mask': attention_mask,\n",
    "        #'token_len': [len(item) for item in input_ids],\n",
    "    }\n",
    "    #return input_ids, attention_mask"
   ]
  },
  {
   "cell_type": "code",
   "execution_count": 51,
   "id": "bcec2f70",
   "metadata": {
    "execution": {
     "iopub.execute_input": "2025-01-24T16:17:29.957971Z",
     "iopub.status.busy": "2025-01-24T16:17:29.957638Z",
     "iopub.status.idle": "2025-01-24T16:17:33.994939Z",
     "shell.execute_reply": "2025-01-24T16:17:33.994192Z",
     "shell.execute_reply.started": "2025-01-24T16:17:29.957941Z"
    },
    "papermill": {
     "duration": 0.026529,
     "end_time": "2025-01-24T07:12:01.575087",
     "exception": false,
     "start_time": "2025-01-24T07:12:01.548558",
     "status": "completed"
    },
    "tags": [],
    "trusted": true
   },
   "outputs": [
    {
     "name": "stdout",
     "output_type": "stream",
     "text": [
      "CPU times: total: 31.1 s\n",
      "Wall time: 30.6 s\n"
     ]
    }
   ],
   "source": [
    "%%time\n",
    "def tokenize_df(row):\n",
    "    return tokenize(tokenizer, [row['prompt']], [row['response_a']], [row['response_b']], max_length=local_max_length)\n",
    "\n",
    "df_test['tokens'] = df_test.apply(tokenize_df, axis=1)\n",
    "#df_test[\"input_ids\"], df_test[\"attention_mask\"] = tokenize(tokenizer, df_test['prompt'], df_test['response_a'], df_test['response_b'], max_length=local_max_length)\n"
   ]
  },
  {
   "cell_type": "code",
   "execution_count": 52,
   "id": "ac201fbb",
   "metadata": {
    "execution": {
     "iopub.execute_input": "2025-01-24T16:17:33.995954Z",
     "iopub.status.busy": "2025-01-24T16:17:33.995702Z",
     "iopub.status.idle": "2025-01-24T16:17:34.000649Z",
     "shell.execute_reply": "2025-01-24T16:17:33.999808Z",
     "shell.execute_reply.started": "2025-01-24T16:17:33.995921Z"
    },
    "papermill": {
     "duration": 0.012647,
     "end_time": "2025-01-24T07:12:01.594687",
     "exception": false,
     "start_time": "2025-01-24T07:12:01.582040",
     "status": "completed"
    },
    "tags": [],
    "trusted": true
   },
   "outputs": [],
   "source": [
    "df_test['len'] = df_test['prompt_len'] + df_test['response_a_len'] + df_test['response_b_len']\n"
   ]
  },
  {
   "cell_type": "code",
   "execution_count": 53,
   "id": "64540b07",
   "metadata": {
    "execution": {
     "iopub.execute_input": "2025-01-24T16:17:34.005736Z",
     "iopub.status.busy": "2025-01-24T16:17:34.005525Z",
     "iopub.status.idle": "2025-01-24T16:17:34.577436Z",
     "shell.execute_reply": "2025-01-24T16:17:34.576562Z",
     "shell.execute_reply.started": "2025-01-24T16:17:34.005718Z"
    },
    "papermill": {
     "duration": 0.223086,
     "end_time": "2025-01-24T07:12:01.824666",
     "exception": false,
     "start_time": "2025-01-24T07:12:01.601580",
     "status": "completed"
    },
    "tags": [],
    "trusted": true
   },
   "outputs": [],
   "source": [
    "df_test = df_test.sort_values('len', ascending=False).reset_index(drop=True)\n",
    "#df_test"
   ]
  },
  {
   "cell_type": "markdown",
   "id": "3fcf0a25",
   "metadata": {
    "_cell_guid": "513effd3-5acb-4d5f-8205-75240c312c21",
    "_uuid": "166e0060-c22e-4660-9853-0bacd5dc4c33",
    "collapsed": false,
    "jupyter": {
     "outputs_hidden": false
    },
    "papermill": {
     "duration": 0.007568,
     "end_time": "2025-01-24T07:12:01.840318",
     "exception": false,
     "start_time": "2025-01-24T07:12:01.832750",
     "status": "completed"
    },
    "tags": []
   },
   "source": [
    "## Data Loader"
   ]
  },
  {
   "cell_type": "code",
   "execution_count": 54,
   "id": "2c28ee84",
   "metadata": {
    "execution": {
     "iopub.execute_input": "2025-01-24T16:17:34.579344Z",
     "iopub.status.busy": "2025-01-24T16:17:34.579030Z",
     "iopub.status.idle": "2025-01-24T16:17:34.586493Z",
     "shell.execute_reply": "2025-01-24T16:17:34.585655Z",
     "shell.execute_reply.started": "2025-01-24T16:17:34.579322Z"
    },
    "papermill": {
     "duration": 0.017472,
     "end_time": "2025-01-24T07:12:01.865396",
     "exception": false,
     "start_time": "2025-01-24T07:12:01.847924",
     "status": "completed"
    },
    "tags": [],
    "trusted": true
   },
   "outputs": [],
   "source": [
    "#-------------------------------------------------------------------\n",
    "class ChatbotArenaDataset(Dataset):\n",
    "    def __init__(self, dataframe, tokenizer, test=False, max_length=256):\n",
    "        self.data = dataframe\n",
    "        self.tokenizer = tokenizer\n",
    "        self.max_length = max_length\n",
    "        self.num_classes = 1\n",
    "        self.test = test\n",
    "\n",
    "    def __len__(self):\n",
    "        return len(self.data)\n",
    "\n",
    "    def __getitem__(self, idx):\n",
    "        row = self.data.iloc[idx]\n",
    "\n",
    "        # Tokenize the text\n",
    "        #tokens = Utils.tokenize(self.tokenizer, [row['prompt']], [row['response_a']], [row['response_b']], max_length=self.max_length)\n",
    "        tokens = row['tokens']\n",
    "\n",
    "         # Extract features\n",
    "        features = torch.tensor([], dtype=torch.float)\n",
    "\n",
    "        for feat in Utils.feature_list_bycol:\n",
    "            feat = torch.tensor([\n",
    "                row[f'prompt{feat}'],\n",
    "                row[f'response_a{feat}'],\n",
    "                row[f'response_b{feat}']\n",
    "                ], dtype=torch.float)\n",
    "            features = torch.cat((features, feat))\n",
    "\n",
    "        similarity_feat = torch.tensor([\n",
    "                row[f'cosine_similarity_a'],\n",
    "                row[f'cosine_similarity_b'],\n",
    "                row[f'cosine_similarity_diff']\n",
    "                ], dtype=torch.float)\n",
    "\n",
    "        features = torch.cat((features, similarity_feat))\n",
    "\n",
    "        rid = row['id']\n",
    "        \n",
    "        if not self.test:\n",
    "            # Label\n",
    "            label = torch.tensor([row['class_label']]).float()\n",
    "\n",
    "            return {\n",
    "                'input_ids': tokens['input_ids'].squeeze(0),\n",
    "                'attention_mask': tokens['attention_mask'].squeeze(0),\n",
    "                'features': features,\n",
    "                'label': label,\n",
    "                'id' : rid\n",
    "            }\n",
    "        else:\n",
    "            return {\n",
    "                'input_ids': tokens['input_ids'].squeeze(0),\n",
    "                'attention_mask': tokens['attention_mask'].squeeze(0),\n",
    "                'features': features,\n",
    "                'id' : rid\n",
    "            }"
   ]
  },
  {
   "cell_type": "code",
   "execution_count": 55,
   "id": "1522d71d",
   "metadata": {
    "_cell_guid": "b5a912bd-61ad-490e-931a-5a5cc95fd4f5",
    "_uuid": "836e1ad6-1513-4d6c-8d10-2569895956fe",
    "collapsed": false,
    "execution": {
     "iopub.execute_input": "2025-01-24T16:17:34.587661Z",
     "iopub.status.busy": "2025-01-24T16:17:34.587371Z",
     "iopub.status.idle": "2025-01-24T16:17:34.606215Z",
     "shell.execute_reply": "2025-01-24T16:17:34.605443Z",
     "shell.execute_reply.started": "2025-01-24T16:17:34.587631Z"
    },
    "jupyter": {
     "outputs_hidden": false
    },
    "papermill": {
     "duration": 0.014896,
     "end_time": "2025-01-24T07:12:01.888111",
     "exception": false,
     "start_time": "2025-01-24T07:12:01.873215",
     "status": "completed"
    },
    "tags": [],
    "trusted": true
   },
   "outputs": [],
   "source": [
    "sub_0 = df_test.iloc[0::2].copy()\n",
    "sub_1 = df_test.iloc[1::2].copy()\n",
    "\n",
    "# Prepare dataset and dataloader\n",
    "dataset_test_0 = ChatbotArenaDataset(sub_0, tokenizer, max_length=local_max_length, test=False)\n",
    "dataloader_test_0 = Utils.DataLoader(dataset_test_0, batch_size=local_batch_size, shuffle=False)\n",
    "\n",
    "dataset_test_1 = ChatbotArenaDataset(sub_1, tokenizer, max_length=local_max_length, test=False)\n",
    "dataloader_test_1 = Utils.DataLoader(dataset_test_1, batch_size=local_batch_size, shuffle=False)\n",
    "\n",
    "dataset_test_full = ChatbotArenaDataset(df_test, tokenizer, max_length=local_max_length, test=False)\n",
    "dataloader_test_full = Utils.DataLoader(dataset_test_full, batch_size=local_batch_size, shuffle=False)"
   ]
  },
  {
   "cell_type": "code",
   "execution_count": 56,
   "id": "8bc57d63",
   "metadata": {
    "execution": {
     "iopub.execute_input": "2025-01-24T16:17:34.607365Z",
     "iopub.status.busy": "2025-01-24T16:17:34.607064Z",
     "iopub.status.idle": "2025-01-24T16:17:34.646520Z",
     "shell.execute_reply": "2025-01-24T16:17:34.645729Z",
     "shell.execute_reply.started": "2025-01-24T16:17:34.607336Z"
    },
    "papermill": {
     "duration": 0.038093,
     "end_time": "2025-01-24T07:12:01.933619",
     "exception": false,
     "start_time": "2025-01-24T07:12:01.895526",
     "status": "completed"
    },
    "tags": [],
    "trusted": true
   },
   "outputs": [
    {
     "data": {
      "text/plain": [
       "['03f17f43a1bf31be8fbc7ea000fbe1f4504e876df6e67a625ca1ae53e931516d',\n",
       " '30db249876adb6d4ecac30bdf2706a4171963efd763af6454eeefc3081f0195d']"
      ]
     },
     "execution_count": 56,
     "metadata": {},
     "output_type": "execute_result"
    }
   ],
   "source": [
    "tost = next(iter(dataloader_test_0))['id']\n",
    "###test.to('cuda:0')\n",
    "tost"
   ]
  },
  {
   "cell_type": "markdown",
   "id": "48536460",
   "metadata": {
    "_cell_guid": "0b43b87c-eb15-416f-9722-5f7bc3a37384",
    "_uuid": "23308a8d-0640-4341-985d-0aa38c501cca",
    "collapsed": false,
    "jupyter": {
     "outputs_hidden": false
    },
    "papermill": {
     "duration": 0.006812,
     "end_time": "2025-01-24T07:12:01.947689",
     "exception": false,
     "start_time": "2025-01-24T07:12:01.940877",
     "status": "completed"
    },
    "tags": []
   },
   "source": [
    "## Model"
   ]
  },
  {
   "cell_type": "code",
   "execution_count": 57,
   "id": "fd23db65",
   "metadata": {
    "_cell_guid": "bb1fccc1-10a0-4042-a1d3-2c508a8c65ba",
    "_uuid": "8c5e52f7-646e-46bb-8059-b15bbcf876c9",
    "collapsed": false,
    "execution": {
     "iopub.execute_input": "2025-01-24T16:17:34.647778Z",
     "iopub.status.busy": "2025-01-24T16:17:34.647472Z",
     "iopub.status.idle": "2025-01-24T16:18:56.466919Z",
     "shell.execute_reply": "2025-01-24T16:18:56.466020Z",
     "shell.execute_reply.started": "2025-01-24T16:17:34.647749Z"
    },
    "jupyter": {
     "outputs_hidden": false
    },
    "papermill": {
     "duration": 93.996834,
     "end_time": "2025-01-24T07:13:35.951397",
     "exception": false,
     "start_time": "2025-01-24T07:12:01.954563",
     "status": "completed"
    },
    "tags": [],
    "trusted": true
   },
   "outputs": [
    {
     "name": "stderr",
     "output_type": "stream",
     "text": [
      "Unused kwargs: ['_load_in_4bit', '_load_in_8bit', 'quant_method']. These kwargs are not used in <class 'transformers.utils.quantization_config.BitsAndBytesConfig'>.\n"
     ]
    },
    {
     "name": "stdout",
     "output_type": "stream",
     "text": [
      "../Checkpoints/micro_gemma2_2b_fp16_4bit/01-24-2025_22-04_1024_train_lossBest\n"
     ]
    },
    {
     "data": {
      "text/plain": [
       "PreferencePredictionModel(\n",
       "  (gemma_model): PeftModel(\n",
       "    (base_model): LoraModel(\n",
       "      (model): Gemma2Model(\n",
       "        (embed_tokens): Embedding(256000, 2304, padding_idx=0)\n",
       "        (layers): ModuleList(\n",
       "          (0-25): 26 x Gemma2DecoderLayer(\n",
       "            (self_attn): Gemma2Attention(\n",
       "              (q_proj): lora.Linear4bit(\n",
       "                (base_layer): Linear4bit(in_features=2304, out_features=2048, bias=False)\n",
       "                (lora_dropout): ModuleDict(\n",
       "                  (default): Dropout(p=0.05, inplace=False)\n",
       "                )\n",
       "                (lora_A): ModuleDict(\n",
       "                  (default): Linear(in_features=2304, out_features=16, bias=False)\n",
       "                )\n",
       "                (lora_B): ModuleDict(\n",
       "                  (default): Linear(in_features=16, out_features=2048, bias=False)\n",
       "                )\n",
       "                (lora_embedding_A): ParameterDict()\n",
       "                (lora_embedding_B): ParameterDict()\n",
       "                (lora_magnitude_vector): ModuleDict()\n",
       "              )\n",
       "              (k_proj): lora.Linear4bit(\n",
       "                (base_layer): Linear4bit(in_features=2304, out_features=1024, bias=False)\n",
       "                (lora_dropout): ModuleDict(\n",
       "                  (default): Dropout(p=0.05, inplace=False)\n",
       "                )\n",
       "                (lora_A): ModuleDict(\n",
       "                  (default): Linear(in_features=2304, out_features=16, bias=False)\n",
       "                )\n",
       "                (lora_B): ModuleDict(\n",
       "                  (default): Linear(in_features=16, out_features=1024, bias=False)\n",
       "                )\n",
       "                (lora_embedding_A): ParameterDict()\n",
       "                (lora_embedding_B): ParameterDict()\n",
       "                (lora_magnitude_vector): ModuleDict()\n",
       "              )\n",
       "              (v_proj): lora.Linear4bit(\n",
       "                (base_layer): Linear4bit(in_features=2304, out_features=1024, bias=False)\n",
       "                (lora_dropout): ModuleDict(\n",
       "                  (default): Dropout(p=0.05, inplace=False)\n",
       "                )\n",
       "                (lora_A): ModuleDict(\n",
       "                  (default): Linear(in_features=2304, out_features=16, bias=False)\n",
       "                )\n",
       "                (lora_B): ModuleDict(\n",
       "                  (default): Linear(in_features=16, out_features=1024, bias=False)\n",
       "                )\n",
       "                (lora_embedding_A): ParameterDict()\n",
       "                (lora_embedding_B): ParameterDict()\n",
       "                (lora_magnitude_vector): ModuleDict()\n",
       "              )\n",
       "              (o_proj): Linear4bit(in_features=2048, out_features=2304, bias=False)\n",
       "              (rotary_emb): Gemma2RotaryEmbedding()\n",
       "            )\n",
       "            (mlp): Gemma2MLP(\n",
       "              (gate_proj): Linear4bit(in_features=2304, out_features=9216, bias=False)\n",
       "              (up_proj): Linear4bit(in_features=2304, out_features=9216, bias=False)\n",
       "              (down_proj): Linear4bit(in_features=9216, out_features=2304, bias=False)\n",
       "              (act_fn): PytorchGELUTanh()\n",
       "            )\n",
       "            (input_layernorm): Gemma2RMSNorm((2304,), eps=1e-06)\n",
       "            (post_attention_layernorm): Gemma2RMSNorm((2304,), eps=1e-06)\n",
       "            (pre_feedforward_layernorm): Gemma2RMSNorm((2304,), eps=1e-06)\n",
       "            (post_feedforward_layernorm): Gemma2RMSNorm((2304,), eps=1e-06)\n",
       "          )\n",
       "        )\n",
       "        (norm): Gemma2RMSNorm((2304,), eps=1e-06)\n",
       "      )\n",
       "    )\n",
       "  )\n",
       "  (feature_fc): Linear(in_features=63, out_features=128, bias=True)\n",
       "  (classifier): Sequential(\n",
       "    (0): Linear(in_features=2432, out_features=10, bias=True)\n",
       "    (1): ReLU()\n",
       "    (2): Dropout(p=0.2, inplace=False)\n",
       "    (3): Linear(in_features=10, out_features=1, bias=True)\n",
       "    (4): Sigmoid()\n",
       "  )\n",
       ")"
      ]
     },
     "execution_count": 57,
     "metadata": {},
     "output_type": "execute_result"
    }
   ],
   "source": [
    "def load_model(device):\n",
    "\n",
    "    baseModel = AutoModel.from_pretrained(\n",
    "                basemodel_path,\n",
    "                torch_dtype=torch.float16,\n",
    "                device_map=device,\n",
    "                #quantization_config=quantization_config,\n",
    "                )\n",
    "\n",
    "    #baseModel.eval()\n",
    "    #baseModel = prepare_model_for_kbit_training(baseModel)\n",
    "    #baseModel.eval()\n",
    "\n",
    "    kaggle_PeftPath = \"\"\n",
    "    peftModelPath=f\"{config.checkpoints_path}/{config.config_name}/\"\n",
    "    loadPath = kaggle_PeftPath if kaggle_PeftPath != \"\" else peftModelPath + checkpoint_name\n",
    "\n",
    "    print(loadPath)\n",
    "\n",
    "    # load peft from base\n",
    "    loraModel_load = PeftModel.from_pretrained(\n",
    "        baseModel,\n",
    "        f'{loadPath}/PEFT',\n",
    "        is_trainable=False,\n",
    "        use_cache=False,\n",
    "        device_map=device)\n",
    "\n",
    "    #loraModel_load.load_adapter(f'{loadPath}/PEFT', adapter_name='default', device_map=device)\n",
    "\n",
    "    #loraModel_load = loraModel_load.merge_and_unload(safe_merge=True)\n",
    "    \n",
    "    predictionModelLoaded = Utils.PreferencePredictionModel(\n",
    "        loraModel_load,\n",
    "        feature_dim=config.feature_dims,\n",
    "        num_classes=config.num_classes,\n",
    "        hidden_dim=config.hidden_dim,\n",
    "        compute_feats=config.compute_feats\n",
    "        )\n",
    "\n",
    "    checkpoint = torch.load(f'{loadPath}/PreferencePredictionModel.pt', weights_only=True)\n",
    "\n",
    "    predictionModelLoaded.feature_fc.load_state_dict(checkpoint['feature_fc_state_dict'])\n",
    "    predictionModelLoaded.classifier.load_state_dict(checkpoint['classifier_state_dict'])\n",
    "    return predictionModelLoaded\n",
    "\n",
    "model_0 = load_model(f\"cuda:{device_ids[0]}\")\n",
    "#model_1 = load_model(f\"cuda:{device_ids[1]}\")\n",
    "#model_1\n",
    "model_0"
   ]
  },
  {
   "cell_type": "markdown",
   "id": "2e0fa741",
   "metadata": {
    "_cell_guid": "1041cf58-e44c-4e11-bb84-a0604bbf731c",
    "_uuid": "aa395e73-ef96-498b-be21-7447ae959c6f",
    "collapsed": false,
    "jupyter": {
     "outputs_hidden": false
    },
    "papermill": {
     "duration": 0.007926,
     "end_time": "2025-01-24T07:13:35.967510",
     "exception": false,
     "start_time": "2025-01-24T07:13:35.959584",
     "status": "completed"
    },
    "tags": []
   },
   "source": [
    "## Predict"
   ]
  },
  {
   "cell_type": "code",
   "execution_count": 58,
   "id": "5d642030",
   "metadata": {
    "execution": {
     "iopub.execute_input": "2025-01-24T16:18:56.468130Z",
     "iopub.status.busy": "2025-01-24T16:18:56.467841Z",
     "iopub.status.idle": "2025-01-24T16:18:56.475354Z",
     "shell.execute_reply": "2025-01-24T16:18:56.474464Z",
     "shell.execute_reply.started": "2025-01-24T16:18:56.468097Z"
    },
    "papermill": {
     "duration": 0.016311,
     "end_time": "2025-01-24T07:13:35.991847",
     "exception": false,
     "start_time": "2025-01-24T07:13:35.975536",
     "status": "completed"
    },
    "tags": [],
    "trusted": true
   },
   "outputs": [],
   "source": [
    "@torch.no_grad()\n",
    "@torch.amp.autocast('cuda')\n",
    "def predict_multi_gpu(model, dataloader, device_id=0):\n",
    "    model = model.to(f\"cuda:{device_id}\")\n",
    "    model.eval()\n",
    "    \n",
    "    predictions = []\n",
    "    pred_ids = []\n",
    "\n",
    "    total_loss = 0\n",
    "    correct = 0\n",
    "    total_samples = 0\n",
    "\n",
    "    print(f\"cuda:{device_id}\")\n",
    "    #loss_fn = nn.BCELoss()\n",
    "\n",
    "\n",
    "    #with torch.amp.autocast():\n",
    "    #with torch.no_grad():\n",
    "    for batch in tqdm(dataloader, total=len(dataloader), unit='row') if device_id==0 else dataloader:\n",
    "    #for batch in tqdm(dataloader, total=len(dataloader), unit='row'):\n",
    "        # Move the batch to the primary device\n",
    "        input_ids = batch['input_ids'].to(f\"cuda:{device_id}\")\n",
    "        attention_mask = batch['attention_mask'].to(f\"cuda:{device_id}\")\n",
    "        features = batch['features'].to(f\"cuda:{device_id}\")\n",
    "        ids = batch['id']\n",
    "        labels = batch['label'].to(f\"cuda:{device_id}\")\n",
    "        # Perform inference\n",
    "        logits = model(input_ids=input_ids, attention_mask=attention_mask, features=features)\n",
    "        #logits = model(input_ids=inputs[\"input_ids\"], attention_mask=inputs[\"attention_mask\"]).logits\n",
    "\n",
    "        #loss = loss_fn(logits, labels)\n",
    "        \n",
    "        #total_loss += loss.item()\n",
    "\n",
    "        # Normalize logits for binary classification\n",
    "        norm_logits = (logits > 0.5).float()\n",
    "\n",
    "        preds = norm_logits    #torch.argmax(logits, dim=1)  # Class with highest score\n",
    "        true_labels = labels \n",
    "        correct += (preds == true_labels).sum().item()\n",
    "        total_samples += labels.size(0)\n",
    "        \n",
    "        predictions.extend(norm_logits.cpu().tolist())\n",
    "        pred_ids.extend(ids)\n",
    "\n",
    "    #avg_loss = total_loss / len(current_loader)\n",
    "    accuracy = correct / total_samples\n",
    "\n",
    "    #print(f\"Accumulated Loss: {avg_loss}\")\n",
    "    print(f\"Accumulated Accuracy: {accuracy}\")\n",
    "    \n",
    "    return {\n",
    "        'winner': predictions, \n",
    "        'id': pred_ids, \n",
    "    }\n",
    "    "
   ]
  },
  {
   "cell_type": "code",
   "execution_count": null,
   "id": "b48eb13e",
   "metadata": {
    "execution": {
     "execution_failed": "2025-01-24T16:24:28.547Z",
     "iopub.execute_input": "2025-01-24T16:18:56.476336Z",
     "iopub.status.busy": "2025-01-24T16:18:56.476088Z"
    },
    "papermill": {
     "duration": 6.060201,
     "end_time": "2025-01-24T07:13:42.060273",
     "exception": false,
     "start_time": "2025-01-24T07:13:36.000072",
     "status": "completed"
    },
    "tags": [],
    "trusted": true
   },
   "outputs": [
    {
     "name": "stdout",
     "output_type": "stream",
     "text": [
      "cuda:0\n"
     ]
    },
    {
     "name": "stderr",
     "output_type": "stream",
     "text": [
      "  0%|          | 2/5100 [00:02<1:50:40,  1.30s/row]"
     ]
    }
   ],
   "source": [
    "from concurrent.futures import ThreadPoolExecutor\n",
    "\n",
    "#with ThreadPoolExecutor(max_workers=2) as executor:\n",
    "#    results_dict = executor.map(predict_multi_gpu, (model_0, model_1), (dataloader_test_0, dataloader_test_1), (0, 1))\n",
    "\n",
    "\n",
    "predictions = predict_multi_gpu(model_0, dataloader_test_full, device_id=0)"
   ]
  },
  {
   "cell_type": "code",
   "execution_count": 29,
   "id": "b0ab7c7a",
   "metadata": {
    "execution": {
     "execution_failed": "2025-01-24T16:24:28.547Z"
    },
    "papermill": {
     "duration": 0.013354,
     "end_time": "2025-01-24T07:13:42.082272",
     "exception": false,
     "start_time": "2025-01-24T07:13:42.068918",
     "status": "completed"
    },
    "tags": [],
    "trusted": true
   },
   "outputs": [],
   "source": [
    "#list(results_dict)"
   ]
  },
  {
   "cell_type": "code",
   "execution_count": 30,
   "id": "8284375e",
   "metadata": {
    "execution": {
     "execution_failed": "2025-01-24T16:24:28.547Z"
    },
    "papermill": {
     "duration": 0.012704,
     "end_time": "2025-01-24T07:13:42.102933",
     "exception": false,
     "start_time": "2025-01-24T07:13:42.090229",
     "status": "completed"
    },
    "tags": [],
    "trusted": true
   },
   "outputs": [],
   "source": [
    "#result_df = pd.concat(list(results), axis=0)\n",
    "#result_df"
   ]
  },
  {
   "cell_type": "code",
   "execution_count": 31,
   "id": "830fb45f",
   "metadata": {
    "execution": {
     "execution_failed": "2025-01-24T16:24:28.547Z"
    },
    "papermill": {
     "duration": 0.0136,
     "end_time": "2025-01-24T07:13:42.124799",
     "exception": false,
     "start_time": "2025-01-24T07:13:42.111199",
     "status": "completed"
    },
    "tags": [],
    "trusted": true
   },
   "outputs": [
    {
     "ename": "NameError",
     "evalue": "name 'results_dict' is not defined",
     "output_type": "error",
     "traceback": [
      "\u001b[1;31m---------------------------------------------------------------------------\u001b[0m",
      "\u001b[1;31mNameError\u001b[0m                                 Traceback (most recent call last)",
      "Cell \u001b[1;32mIn[31], line 1\u001b[0m\n\u001b[1;32m----> 1\u001b[0m results \u001b[38;5;241m=\u001b[39m \u001b[38;5;28mlist\u001b[39m(\u001b[43mresults_dict\u001b[49m)\n",
      "\u001b[1;31mNameError\u001b[0m: name 'results_dict' is not defined"
     ]
    }
   ],
   "source": [
    "results = list(results_dict)"
   ]
  },
  {
   "cell_type": "code",
   "execution_count": null,
   "id": "1dab9dd3",
   "metadata": {
    "execution": {
     "execution_failed": "2025-01-24T16:24:28.547Z"
    },
    "papermill": {
     "duration": 0.021479,
     "end_time": "2025-01-24T07:13:42.155107",
     "exception": false,
     "start_time": "2025-01-24T07:13:42.133628",
     "status": "completed"
    },
    "tags": [],
    "trusted": true
   },
   "outputs": [],
   "source": [
    "res_0 = pd.DataFrame.from_dict(results[0])\n",
    "res_1 = pd.DataFrame.from_dict(results[1])\n",
    "res = pd.concat((res_0, res_1), ignore_index=True)\n",
    "#res = res.reset_index()\n",
    "res"
   ]
  },
  {
   "cell_type": "code",
   "execution_count": null,
   "id": "d7c9d73c",
   "metadata": {
    "_cell_guid": "c5cc2305-9b9d-4275-a4dc-7bff38b0c4ed",
    "_uuid": "d4589dd2-3c64-474c-91c9-7c20c0ddce71",
    "collapsed": false,
    "execution": {
     "execution_failed": "2025-01-24T16:24:28.547Z"
    },
    "jupyter": {
     "outputs_hidden": false
    },
    "papermill": {
     "duration": 0.016768,
     "end_time": "2025-01-24T07:13:42.180993",
     "exception": false,
     "start_time": "2025-01-24T07:13:42.164225",
     "status": "completed"
    },
    "tags": [],
    "trusted": true
   },
   "outputs": [],
   "source": [
    "def transcript(x):\n",
    "    if x[0] > 0.5:\n",
    "        return 'model_b'\n",
    "    else:\n",
    "        return 'model_a'\n",
    "\n",
    "res['winner'] = res['winner'].apply(transcript)\n",
    "res\n"
   ]
  },
  {
   "cell_type": "code",
   "execution_count": null,
   "id": "3d1cec07",
   "metadata": {
    "_cell_guid": "ad879332-41e5-40e0-aa4b-7e86c46cf0dd",
    "_uuid": "a92c685c-494b-4e17-9188-98a07acd43e2",
    "collapsed": false,
    "execution": {
     "execution_failed": "2025-01-24T16:24:28.547Z"
    },
    "jupyter": {
     "outputs_hidden": false
    },
    "papermill": {
     "duration": 0.026162,
     "end_time": "2025-01-24T07:13:42.215874",
     "exception": false,
     "start_time": "2025-01-24T07:13:42.189712",
     "status": "completed"
    },
    "tags": [],
    "trusted": true
   },
   "outputs": [],
   "source": [
    "sub_df = df_test[[\"id\"]].copy()\n",
    "sub_df = sub_df.merge(res, how='inner', on='id')\n",
    "sub_df.head()"
   ]
  },
  {
   "cell_type": "code",
   "execution_count": null,
   "id": "431ce596",
   "metadata": {
    "_cell_guid": "4f404a69-fd25-49cd-bcc5-aee302b3f6bd",
    "_uuid": "bcbf359a-5bbc-4e5b-840a-e1ed9ea511e7",
    "collapsed": false,
    "execution": {
     "execution_failed": "2025-01-24T16:24:28.548Z"
    },
    "jupyter": {
     "outputs_hidden": false
    },
    "papermill": {
     "duration": 0.015779,
     "end_time": "2025-01-24T07:13:42.239929",
     "exception": false,
     "start_time": "2025-01-24T07:13:42.224150",
     "status": "completed"
    },
    "tags": [],
    "trusted": true
   },
   "outputs": [],
   "source": [
    "sub_df.to_csv(\"submission.csv\", index=False)"
   ]
  }
 ],
 "metadata": {
  "kaggle": {
   "accelerator": "nvidiaTeslaT4",
   "dataSources": [
    {
     "databundleVersionId": 10131489,
     "sourceId": 86946,
     "sourceType": "competition"
    },
    {
     "datasetId": 6470200,
     "sourceId": 10453844,
     "sourceType": "datasetVersion"
    },
    {
     "sourceId": 217419226,
     "sourceType": "kernelVersion"
    },
    {
     "modelId": 215970,
     "modelInstanceId": 194055,
     "sourceId": 227614,
     "sourceType": "modelInstanceVersion"
    },
    {
     "modelId": 225822,
     "modelInstanceId": 204086,
     "sourceId": 238961,
     "sourceType": "modelInstanceVersion"
    }
   ],
   "dockerImageVersionId": 30840,
   "isGpuEnabled": true,
   "isInternetEnabled": true,
   "language": "python",
   "sourceType": "notebook"
  },
  "kernelspec": {
   "display_name": ".venv",
   "language": "python",
   "name": "python3"
  },
  "language_info": {
   "codemirror_mode": {
    "name": "ipython",
    "version": 3
   },
   "file_extension": ".py",
   "mimetype": "text/x-python",
   "name": "python",
   "nbconvert_exporter": "python",
   "pygments_lexer": "ipython3",
   "version": "3.11.5"
  },
  "papermill": {
   "default_parameters": {},
   "duration": 123.773011,
   "end_time": "2025-01-24T07:13:45.317815",
   "environment_variables": {},
   "exception": null,
   "input_path": "__notebook__.ipynb",
   "output_path": "__notebook__.ipynb",
   "parameters": {},
   "start_time": "2025-01-24T07:11:41.544804",
   "version": "2.6.0"
  },
  "widgets": {
   "application/vnd.jupyter.widget-state+json": {
    "state": {
     "03303005658d4d819a11748bfa01c699": {
      "model_module": "@jupyter-widgets/base",
      "model_module_version": "2.0.0",
      "model_name": "LayoutModel",
      "state": {
       "_model_module": "@jupyter-widgets/base",
       "_model_module_version": "2.0.0",
       "_model_name": "LayoutModel",
       "_view_count": null,
       "_view_module": "@jupyter-widgets/base",
       "_view_module_version": "2.0.0",
       "_view_name": "LayoutView",
       "align_content": null,
       "align_items": null,
       "align_self": null,
       "border_bottom": null,
       "border_left": null,
       "border_right": null,
       "border_top": null,
       "bottom": null,
       "display": null,
       "flex": null,
       "flex_flow": null,
       "grid_area": null,
       "grid_auto_columns": null,
       "grid_auto_flow": null,
       "grid_auto_rows": null,
       "grid_column": null,
       "grid_gap": null,
       "grid_row": null,
       "grid_template_areas": null,
       "grid_template_columns": null,
       "grid_template_rows": null,
       "height": null,
       "justify_content": null,
       "justify_items": null,
       "left": null,
       "margin": null,
       "max_height": null,
       "max_width": null,
       "min_height": null,
       "min_width": null,
       "object_fit": null,
       "object_position": null,
       "order": null,
       "overflow": null,
       "padding": null,
       "right": null,
       "top": null,
       "visibility": null,
       "width": null
      }
     },
     "07600a070e1b4aad8a6a19c7d6c45a41": {
      "model_module": "@jupyter-widgets/controls",
      "model_module_version": "2.0.0",
      "model_name": "HTMLModel",
      "state": {
       "_dom_classes": [],
       "_model_module": "@jupyter-widgets/controls",
       "_model_module_version": "2.0.0",
       "_model_name": "HTMLModel",
       "_view_count": null,
       "_view_module": "@jupyter-widgets/controls",
       "_view_module_version": "2.0.0",
       "_view_name": "HTMLView",
       "description": "",
       "description_allow_html": false,
       "layout": "IPY_MODEL_03303005658d4d819a11748bfa01c699",
       "placeholder": "​",
       "style": "IPY_MODEL_0a86f2d5b13f420cbe76d670c6e7fa64",
       "tabbable": null,
       "tooltip": null,
       "value": "Loading checkpoint shards: 100%"
      }
     },
     "0a86f2d5b13f420cbe76d670c6e7fa64": {
      "model_module": "@jupyter-widgets/controls",
      "model_module_version": "2.0.0",
      "model_name": "HTMLStyleModel",
      "state": {
       "_model_module": "@jupyter-widgets/controls",
       "_model_module_version": "2.0.0",
       "_model_name": "HTMLStyleModel",
       "_view_count": null,
       "_view_module": "@jupyter-widgets/base",
       "_view_module_version": "2.0.0",
       "_view_name": "StyleView",
       "background": null,
       "description_width": "",
       "font_size": null,
       "text_color": null
      }
     },
     "0b522c24a6444c31ae6cf7d44148592c": {
      "model_module": "@jupyter-widgets/controls",
      "model_module_version": "2.0.0",
      "model_name": "ProgressStyleModel",
      "state": {
       "_model_module": "@jupyter-widgets/controls",
       "_model_module_version": "2.0.0",
       "_model_name": "ProgressStyleModel",
       "_view_count": null,
       "_view_module": "@jupyter-widgets/base",
       "_view_module_version": "2.0.0",
       "_view_name": "StyleView",
       "bar_color": null,
       "description_width": ""
      }
     },
     "1599914ea92c4e8696ce5e42df739fb4": {
      "model_module": "@jupyter-widgets/base",
      "model_module_version": "2.0.0",
      "model_name": "LayoutModel",
      "state": {
       "_model_module": "@jupyter-widgets/base",
       "_model_module_version": "2.0.0",
       "_model_name": "LayoutModel",
       "_view_count": null,
       "_view_module": "@jupyter-widgets/base",
       "_view_module_version": "2.0.0",
       "_view_name": "LayoutView",
       "align_content": null,
       "align_items": null,
       "align_self": null,
       "border_bottom": null,
       "border_left": null,
       "border_right": null,
       "border_top": null,
       "bottom": null,
       "display": null,
       "flex": null,
       "flex_flow": null,
       "grid_area": null,
       "grid_auto_columns": null,
       "grid_auto_flow": null,
       "grid_auto_rows": null,
       "grid_column": null,
       "grid_gap": null,
       "grid_row": null,
       "grid_template_areas": null,
       "grid_template_columns": null,
       "grid_template_rows": null,
       "height": null,
       "justify_content": null,
       "justify_items": null,
       "left": null,
       "margin": null,
       "max_height": null,
       "max_width": null,
       "min_height": null,
       "min_width": null,
       "object_fit": null,
       "object_position": null,
       "order": null,
       "overflow": null,
       "padding": null,
       "right": null,
       "top": null,
       "visibility": null,
       "width": null
      }
     },
     "21443c5a304143c78a0f82dc1a09a761": {
      "model_module": "@jupyter-widgets/controls",
      "model_module_version": "2.0.0",
      "model_name": "FloatProgressModel",
      "state": {
       "_dom_classes": [],
       "_model_module": "@jupyter-widgets/controls",
       "_model_module_version": "2.0.0",
       "_model_name": "FloatProgressModel",
       "_view_count": null,
       "_view_module": "@jupyter-widgets/controls",
       "_view_module_version": "2.0.0",
       "_view_name": "ProgressView",
       "bar_style": "success",
       "description": "",
       "description_allow_html": false,
       "layout": "IPY_MODEL_1599914ea92c4e8696ce5e42df739fb4",
       "max": 2,
       "min": 0,
       "orientation": "horizontal",
       "style": "IPY_MODEL_46d0fd20768b4ff18164aab522b5c7b2",
       "tabbable": null,
       "tooltip": null,
       "value": 2
      }
     },
     "23c7c19b6a03430f9b5d5b19a4470ccd": {
      "model_module": "@jupyter-widgets/controls",
      "model_module_version": "2.0.0",
      "model_name": "HBoxModel",
      "state": {
       "_dom_classes": [],
       "_model_module": "@jupyter-widgets/controls",
       "_model_module_version": "2.0.0",
       "_model_name": "HBoxModel",
       "_view_count": null,
       "_view_module": "@jupyter-widgets/controls",
       "_view_module_version": "2.0.0",
       "_view_name": "HBoxView",
       "box_style": "",
       "children": [
        "IPY_MODEL_07600a070e1b4aad8a6a19c7d6c45a41",
        "IPY_MODEL_9a95c0f589b8467cbb4464d8a0e7824c",
        "IPY_MODEL_8960cb7f5df94eb79297b57ac188a307"
       ],
       "layout": "IPY_MODEL_feedcf7b60e343e992d205ddf8a389af",
       "tabbable": null,
       "tooltip": null
      }
     },
     "28d9d74fb08549f2a0a9289cff4aa715": {
      "model_module": "@jupyter-widgets/controls",
      "model_module_version": "2.0.0",
      "model_name": "HTMLModel",
      "state": {
       "_dom_classes": [],
       "_model_module": "@jupyter-widgets/controls",
       "_model_module_version": "2.0.0",
       "_model_name": "HTMLModel",
       "_view_count": null,
       "_view_module": "@jupyter-widgets/controls",
       "_view_module_version": "2.0.0",
       "_view_name": "HTMLView",
       "description": "",
       "description_allow_html": false,
       "layout": "IPY_MODEL_379fa517041e4b60987b58a3405972d6",
       "placeholder": "​",
       "style": "IPY_MODEL_3b63098177f34dca86748db8209aa4c6",
       "tabbable": null,
       "tooltip": null,
       "value": "Loading checkpoint shards: 100%"
      }
     },
     "379fa517041e4b60987b58a3405972d6": {
      "model_module": "@jupyter-widgets/base",
      "model_module_version": "2.0.0",
      "model_name": "LayoutModel",
      "state": {
       "_model_module": "@jupyter-widgets/base",
       "_model_module_version": "2.0.0",
       "_model_name": "LayoutModel",
       "_view_count": null,
       "_view_module": "@jupyter-widgets/base",
       "_view_module_version": "2.0.0",
       "_view_name": "LayoutView",
       "align_content": null,
       "align_items": null,
       "align_self": null,
       "border_bottom": null,
       "border_left": null,
       "border_right": null,
       "border_top": null,
       "bottom": null,
       "display": null,
       "flex": null,
       "flex_flow": null,
       "grid_area": null,
       "grid_auto_columns": null,
       "grid_auto_flow": null,
       "grid_auto_rows": null,
       "grid_column": null,
       "grid_gap": null,
       "grid_row": null,
       "grid_template_areas": null,
       "grid_template_columns": null,
       "grid_template_rows": null,
       "height": null,
       "justify_content": null,
       "justify_items": null,
       "left": null,
       "margin": null,
       "max_height": null,
       "max_width": null,
       "min_height": null,
       "min_width": null,
       "object_fit": null,
       "object_position": null,
       "order": null,
       "overflow": null,
       "padding": null,
       "right": null,
       "top": null,
       "visibility": null,
       "width": null
      }
     },
     "3a8bd1efa1174268bdd2a00645b74045": {
      "model_module": "@jupyter-widgets/controls",
      "model_module_version": "2.0.0",
      "model_name": "HTMLStyleModel",
      "state": {
       "_model_module": "@jupyter-widgets/controls",
       "_model_module_version": "2.0.0",
       "_model_name": "HTMLStyleModel",
       "_view_count": null,
       "_view_module": "@jupyter-widgets/base",
       "_view_module_version": "2.0.0",
       "_view_name": "StyleView",
       "background": null,
       "description_width": "",
       "font_size": null,
       "text_color": null
      }
     },
     "3b63098177f34dca86748db8209aa4c6": {
      "model_module": "@jupyter-widgets/controls",
      "model_module_version": "2.0.0",
      "model_name": "HTMLStyleModel",
      "state": {
       "_model_module": "@jupyter-widgets/controls",
       "_model_module_version": "2.0.0",
       "_model_name": "HTMLStyleModel",
       "_view_count": null,
       "_view_module": "@jupyter-widgets/base",
       "_view_module_version": "2.0.0",
       "_view_name": "StyleView",
       "background": null,
       "description_width": "",
       "font_size": null,
       "text_color": null
      }
     },
     "46d0fd20768b4ff18164aab522b5c7b2": {
      "model_module": "@jupyter-widgets/controls",
      "model_module_version": "2.0.0",
      "model_name": "ProgressStyleModel",
      "state": {
       "_model_module": "@jupyter-widgets/controls",
       "_model_module_version": "2.0.0",
       "_model_name": "ProgressStyleModel",
       "_view_count": null,
       "_view_module": "@jupyter-widgets/base",
       "_view_module_version": "2.0.0",
       "_view_name": "StyleView",
       "bar_color": null,
       "description_width": ""
      }
     },
     "4c05a50a111f49a8840984174a374e89": {
      "model_module": "@jupyter-widgets/controls",
      "model_module_version": "2.0.0",
      "model_name": "HBoxModel",
      "state": {
       "_dom_classes": [],
       "_model_module": "@jupyter-widgets/controls",
       "_model_module_version": "2.0.0",
       "_model_name": "HBoxModel",
       "_view_count": null,
       "_view_module": "@jupyter-widgets/controls",
       "_view_module_version": "2.0.0",
       "_view_name": "HBoxView",
       "box_style": "",
       "children": [
        "IPY_MODEL_28d9d74fb08549f2a0a9289cff4aa715",
        "IPY_MODEL_21443c5a304143c78a0f82dc1a09a761",
        "IPY_MODEL_ff728deb72234ebd820e2cd000c508d5"
       ],
       "layout": "IPY_MODEL_fe9a414c223f466aa179ffaf8098eac0",
       "tabbable": null,
       "tooltip": null
      }
     },
     "780c22184db34557ab8b744e2b8526ab": {
      "model_module": "@jupyter-widgets/controls",
      "model_module_version": "2.0.0",
      "model_name": "HTMLStyleModel",
      "state": {
       "_model_module": "@jupyter-widgets/controls",
       "_model_module_version": "2.0.0",
       "_model_name": "HTMLStyleModel",
       "_view_count": null,
       "_view_module": "@jupyter-widgets/base",
       "_view_module_version": "2.0.0",
       "_view_name": "StyleView",
       "background": null,
       "description_width": "",
       "font_size": null,
       "text_color": null
      }
     },
     "8960cb7f5df94eb79297b57ac188a307": {
      "model_module": "@jupyter-widgets/controls",
      "model_module_version": "2.0.0",
      "model_name": "HTMLModel",
      "state": {
       "_dom_classes": [],
       "_model_module": "@jupyter-widgets/controls",
       "_model_module_version": "2.0.0",
       "_model_name": "HTMLModel",
       "_view_count": null,
       "_view_module": "@jupyter-widgets/controls",
       "_view_module_version": "2.0.0",
       "_view_name": "HTMLView",
       "description": "",
       "description_allow_html": false,
       "layout": "IPY_MODEL_ae92e005d46d4648a77fe57758d36698",
       "placeholder": "​",
       "style": "IPY_MODEL_3a8bd1efa1174268bdd2a00645b74045",
       "tabbable": null,
       "tooltip": null,
       "value": " 2/2 [00:54&lt;00:00, 24.90s/it]"
      }
     },
     "9a95c0f589b8467cbb4464d8a0e7824c": {
      "model_module": "@jupyter-widgets/controls",
      "model_module_version": "2.0.0",
      "model_name": "FloatProgressModel",
      "state": {
       "_dom_classes": [],
       "_model_module": "@jupyter-widgets/controls",
       "_model_module_version": "2.0.0",
       "_model_name": "FloatProgressModel",
       "_view_count": null,
       "_view_module": "@jupyter-widgets/controls",
       "_view_module_version": "2.0.0",
       "_view_name": "ProgressView",
       "bar_style": "success",
       "description": "",
       "description_allow_html": false,
       "layout": "IPY_MODEL_d16e0a2adc6041b3b76924f710c6a228",
       "max": 2,
       "min": 0,
       "orientation": "horizontal",
       "style": "IPY_MODEL_0b522c24a6444c31ae6cf7d44148592c",
       "tabbable": null,
       "tooltip": null,
       "value": 2
      }
     },
     "ae92e005d46d4648a77fe57758d36698": {
      "model_module": "@jupyter-widgets/base",
      "model_module_version": "2.0.0",
      "model_name": "LayoutModel",
      "state": {
       "_model_module": "@jupyter-widgets/base",
       "_model_module_version": "2.0.0",
       "_model_name": "LayoutModel",
       "_view_count": null,
       "_view_module": "@jupyter-widgets/base",
       "_view_module_version": "2.0.0",
       "_view_name": "LayoutView",
       "align_content": null,
       "align_items": null,
       "align_self": null,
       "border_bottom": null,
       "border_left": null,
       "border_right": null,
       "border_top": null,
       "bottom": null,
       "display": null,
       "flex": null,
       "flex_flow": null,
       "grid_area": null,
       "grid_auto_columns": null,
       "grid_auto_flow": null,
       "grid_auto_rows": null,
       "grid_column": null,
       "grid_gap": null,
       "grid_row": null,
       "grid_template_areas": null,
       "grid_template_columns": null,
       "grid_template_rows": null,
       "height": null,
       "justify_content": null,
       "justify_items": null,
       "left": null,
       "margin": null,
       "max_height": null,
       "max_width": null,
       "min_height": null,
       "min_width": null,
       "object_fit": null,
       "object_position": null,
       "order": null,
       "overflow": null,
       "padding": null,
       "right": null,
       "top": null,
       "visibility": null,
       "width": null
      }
     },
     "bf67487be126469595e553c742b2a6de": {
      "model_module": "@jupyter-widgets/base",
      "model_module_version": "2.0.0",
      "model_name": "LayoutModel",
      "state": {
       "_model_module": "@jupyter-widgets/base",
       "_model_module_version": "2.0.0",
       "_model_name": "LayoutModel",
       "_view_count": null,
       "_view_module": "@jupyter-widgets/base",
       "_view_module_version": "2.0.0",
       "_view_name": "LayoutView",
       "align_content": null,
       "align_items": null,
       "align_self": null,
       "border_bottom": null,
       "border_left": null,
       "border_right": null,
       "border_top": null,
       "bottom": null,
       "display": null,
       "flex": null,
       "flex_flow": null,
       "grid_area": null,
       "grid_auto_columns": null,
       "grid_auto_flow": null,
       "grid_auto_rows": null,
       "grid_column": null,
       "grid_gap": null,
       "grid_row": null,
       "grid_template_areas": null,
       "grid_template_columns": null,
       "grid_template_rows": null,
       "height": null,
       "justify_content": null,
       "justify_items": null,
       "left": null,
       "margin": null,
       "max_height": null,
       "max_width": null,
       "min_height": null,
       "min_width": null,
       "object_fit": null,
       "object_position": null,
       "order": null,
       "overflow": null,
       "padding": null,
       "right": null,
       "top": null,
       "visibility": null,
       "width": null
      }
     },
     "d16e0a2adc6041b3b76924f710c6a228": {
      "model_module": "@jupyter-widgets/base",
      "model_module_version": "2.0.0",
      "model_name": "LayoutModel",
      "state": {
       "_model_module": "@jupyter-widgets/base",
       "_model_module_version": "2.0.0",
       "_model_name": "LayoutModel",
       "_view_count": null,
       "_view_module": "@jupyter-widgets/base",
       "_view_module_version": "2.0.0",
       "_view_name": "LayoutView",
       "align_content": null,
       "align_items": null,
       "align_self": null,
       "border_bottom": null,
       "border_left": null,
       "border_right": null,
       "border_top": null,
       "bottom": null,
       "display": null,
       "flex": null,
       "flex_flow": null,
       "grid_area": null,
       "grid_auto_columns": null,
       "grid_auto_flow": null,
       "grid_auto_rows": null,
       "grid_column": null,
       "grid_gap": null,
       "grid_row": null,
       "grid_template_areas": null,
       "grid_template_columns": null,
       "grid_template_rows": null,
       "height": null,
       "justify_content": null,
       "justify_items": null,
       "left": null,
       "margin": null,
       "max_height": null,
       "max_width": null,
       "min_height": null,
       "min_width": null,
       "object_fit": null,
       "object_position": null,
       "order": null,
       "overflow": null,
       "padding": null,
       "right": null,
       "top": null,
       "visibility": null,
       "width": null
      }
     },
     "fe9a414c223f466aa179ffaf8098eac0": {
      "model_module": "@jupyter-widgets/base",
      "model_module_version": "2.0.0",
      "model_name": "LayoutModel",
      "state": {
       "_model_module": "@jupyter-widgets/base",
       "_model_module_version": "2.0.0",
       "_model_name": "LayoutModel",
       "_view_count": null,
       "_view_module": "@jupyter-widgets/base",
       "_view_module_version": "2.0.0",
       "_view_name": "LayoutView",
       "align_content": null,
       "align_items": null,
       "align_self": null,
       "border_bottom": null,
       "border_left": null,
       "border_right": null,
       "border_top": null,
       "bottom": null,
       "display": null,
       "flex": null,
       "flex_flow": null,
       "grid_area": null,
       "grid_auto_columns": null,
       "grid_auto_flow": null,
       "grid_auto_rows": null,
       "grid_column": null,
       "grid_gap": null,
       "grid_row": null,
       "grid_template_areas": null,
       "grid_template_columns": null,
       "grid_template_rows": null,
       "height": null,
       "justify_content": null,
       "justify_items": null,
       "left": null,
       "margin": null,
       "max_height": null,
       "max_width": null,
       "min_height": null,
       "min_width": null,
       "object_fit": null,
       "object_position": null,
       "order": null,
       "overflow": null,
       "padding": null,
       "right": null,
       "top": null,
       "visibility": null,
       "width": null
      }
     },
     "feedcf7b60e343e992d205ddf8a389af": {
      "model_module": "@jupyter-widgets/base",
      "model_module_version": "2.0.0",
      "model_name": "LayoutModel",
      "state": {
       "_model_module": "@jupyter-widgets/base",
       "_model_module_version": "2.0.0",
       "_model_name": "LayoutModel",
       "_view_count": null,
       "_view_module": "@jupyter-widgets/base",
       "_view_module_version": "2.0.0",
       "_view_name": "LayoutView",
       "align_content": null,
       "align_items": null,
       "align_self": null,
       "border_bottom": null,
       "border_left": null,
       "border_right": null,
       "border_top": null,
       "bottom": null,
       "display": null,
       "flex": null,
       "flex_flow": null,
       "grid_area": null,
       "grid_auto_columns": null,
       "grid_auto_flow": null,
       "grid_auto_rows": null,
       "grid_column": null,
       "grid_gap": null,
       "grid_row": null,
       "grid_template_areas": null,
       "grid_template_columns": null,
       "grid_template_rows": null,
       "height": null,
       "justify_content": null,
       "justify_items": null,
       "left": null,
       "margin": null,
       "max_height": null,
       "max_width": null,
       "min_height": null,
       "min_width": null,
       "object_fit": null,
       "object_position": null,
       "order": null,
       "overflow": null,
       "padding": null,
       "right": null,
       "top": null,
       "visibility": null,
       "width": null
      }
     },
     "ff728deb72234ebd820e2cd000c508d5": {
      "model_module": "@jupyter-widgets/controls",
      "model_module_version": "2.0.0",
      "model_name": "HTMLModel",
      "state": {
       "_dom_classes": [],
       "_model_module": "@jupyter-widgets/controls",
       "_model_module_version": "2.0.0",
       "_model_name": "HTMLModel",
       "_view_count": null,
       "_view_module": "@jupyter-widgets/controls",
       "_view_module_version": "2.0.0",
       "_view_name": "HTMLView",
       "description": "",
       "description_allow_html": false,
       "layout": "IPY_MODEL_bf67487be126469595e553c742b2a6de",
       "placeholder": "​",
       "style": "IPY_MODEL_780c22184db34557ab8b744e2b8526ab",
       "tabbable": null,
       "tooltip": null,
       "value": " 2/2 [00:03&lt;00:00,  1.76s/it]"
      }
     }
    },
    "version_major": 2,
    "version_minor": 0
   }
  }
 },
 "nbformat": 4,
 "nbformat_minor": 5
}
