{
 "cells": [
  {
   "cell_type": "markdown",
   "metadata": {},
   "source": [
    "# WSDM Cup 2025 - Explainatory Data Analysis + Feature Engineering"
   ]
  },
  {
   "cell_type": "markdown",
   "metadata": {},
   "source": [
    "In this notebook we get data from the kaggle web site. Those are inputs given to train a model for the competition.  \n",
    "We are going to clean and shape those data for our usage.  \n",
    "We might also apply some feature engineering.  \n",
    "We might also 'augment' those data by adding similar data from another competition.  \n",
    "Then we save them on csv format. "
   ]
  },
  {
   "cell_type": "code",
   "execution_count": 1,
   "metadata": {},
   "outputs": [],
   "source": [
    "import sklearn\n",
    "\n",
    "import numpy as np \n",
    "import pandas as pd\n",
    "from tqdm import tqdm\n",
    "import json\n",
    "\n",
    "import matplotlib.pyplot as plt\n",
    "import matplotlib as mpl\n",
    "import seaborn as sns\n",
    "\n",
    "from sklearn.model_selection import train_test_split\n",
    "\n",
    "import ModelsUtils as Utils\n",
    "\n",
    "import warnings\n",
    "warnings.filterwarnings(\"ignore\")"
   ]
  },
  {
   "cell_type": "markdown",
   "metadata": {},
   "source": [
    "# Config"
   ]
  },
  {
   "cell_type": "code",
   "execution_count": 2,
   "metadata": {},
   "outputs": [],
   "source": [
    "MINI_RUN = False\n",
    "sample_size = 0.01      # Only applied if MINI_RUN is t\n",
    "seed = 707\n",
    "ORIGINAL = False"
   ]
  },
  {
   "cell_type": "markdown",
   "metadata": {},
   "source": [
    "----------------------------------------------------------------------"
   ]
  },
  {
   "cell_type": "markdown",
   "metadata": {},
   "source": [
    "# Files"
   ]
  },
  {
   "cell_type": "code",
   "execution_count": 3,
   "metadata": {},
   "outputs": [],
   "source": [
    "df_trainO = pd.read_parquet('../Data/Original/wsdm-cup-multilingual-chatbot-arena/train.parquet', engine='pyarrow') # original"
   ]
  },
  {
   "cell_type": "code",
   "execution_count": 4,
   "metadata": {},
   "outputs": [
    {
     "data": {
      "text/html": [
       "<div>\n",
       "<style scoped>\n",
       "    .dataframe tbody tr th:only-of-type {\n",
       "        vertical-align: middle;\n",
       "    }\n",
       "\n",
       "    .dataframe tbody tr th {\n",
       "        vertical-align: top;\n",
       "    }\n",
       "\n",
       "    .dataframe thead th {\n",
       "        text-align: right;\n",
       "    }\n",
       "</style>\n",
       "<table border=\"1\" class=\"dataframe\">\n",
       "  <thead>\n",
       "    <tr style=\"text-align: right;\">\n",
       "      <th></th>\n",
       "      <th>id</th>\n",
       "      <th>prompt</th>\n",
       "      <th>response_a</th>\n",
       "      <th>response_b</th>\n",
       "      <th>winner</th>\n",
       "      <th>model_a</th>\n",
       "      <th>model_b</th>\n",
       "      <th>language</th>\n",
       "    </tr>\n",
       "  </thead>\n",
       "  <tbody>\n",
       "    <tr>\n",
       "      <th>0</th>\n",
       "      <td>00007cff95d7f7974642a785aca248b0f26e60d3312fac...</td>\n",
       "      <td>vieš po Slovensky?</td>\n",
       "      <td>Áno, hovorím po slovensky. Ako vám môžem pomôcť?</td>\n",
       "      <td>Áno, veď som tu! Môžem ti pomôcť s otázkami al...</td>\n",
       "      <td>model_a</td>\n",
       "      <td>o1-preview</td>\n",
       "      <td>reka-core-20240904</td>\n",
       "      <td>Slovak</td>\n",
       "    </tr>\n",
       "    <tr>\n",
       "      <th>1</th>\n",
       "      <td>00010ed04b536f56ebe43eef1100c13906abea12bf9855...</td>\n",
       "      <td>You will be given a piece of news. Analyze it ...</td>\n",
       "      <td>Let's break down the news and analyze it accor...</td>\n",
       "      <td>```json\\n{\\n  \"contains_orgs\": true,\\n  \"orgs\"...</td>\n",
       "      <td>model_a</td>\n",
       "      <td>gemma-2-27b-it</td>\n",
       "      <td>gemini-1.5-flash-002</td>\n",
       "      <td>Russian</td>\n",
       "    </tr>\n",
       "  </tbody>\n",
       "</table>\n",
       "</div>"
      ],
      "text/plain": [
       "                                                  id  \\\n",
       "0  00007cff95d7f7974642a785aca248b0f26e60d3312fac...   \n",
       "1  00010ed04b536f56ebe43eef1100c13906abea12bf9855...   \n",
       "\n",
       "                                              prompt  \\\n",
       "0                                 vieš po Slovensky?   \n",
       "1  You will be given a piece of news. Analyze it ...   \n",
       "\n",
       "                                          response_a  \\\n",
       "0   Áno, hovorím po slovensky. Ako vám môžem pomôcť?   \n",
       "1  Let's break down the news and analyze it accor...   \n",
       "\n",
       "                                          response_b   winner         model_a  \\\n",
       "0  Áno, veď som tu! Môžem ti pomôcť s otázkami al...  model_a      o1-preview   \n",
       "1  ```json\\n{\\n  \"contains_orgs\": true,\\n  \"orgs\"...  model_a  gemma-2-27b-it   \n",
       "\n",
       "                model_b language  \n",
       "0    reka-core-20240904   Slovak  \n",
       "1  gemini-1.5-flash-002  Russian  "
      ]
     },
     "execution_count": 4,
     "metadata": {},
     "output_type": "execute_result"
    }
   ],
   "source": [
    "df_trainO.head(2)"
   ]
  },
  {
   "cell_type": "markdown",
   "metadata": {},
   "source": [
    "# Add data from previous competition"
   ]
  },
  {
   "cell_type": "code",
   "execution_count": 5,
   "metadata": {},
   "outputs": [
    {
     "data": {
      "text/plain": [
       "(57477, 7)"
      ]
     },
     "execution_count": 5,
     "metadata": {},
     "output_type": "execute_result"
    }
   ],
   "source": [
    "df_previous = pd.read_csv('../Data/Previous/train_preprocessed_full.csv')\n",
    "\n",
    "df_previous = df_previous[['id', 'prompt', 'response_a', 'response_b', 'winner_model_a', 'winner_model_b', 'winner_tie']]\n",
    "\n",
    "df_previous.shape"
   ]
  },
  {
   "cell_type": "code",
   "execution_count": 6,
   "metadata": {},
   "outputs": [
    {
     "data": {
      "text/html": [
       "<div>\n",
       "<style scoped>\n",
       "    .dataframe tbody tr th:only-of-type {\n",
       "        vertical-align: middle;\n",
       "    }\n",
       "\n",
       "    .dataframe tbody tr th {\n",
       "        vertical-align: top;\n",
       "    }\n",
       "\n",
       "    .dataframe thead th {\n",
       "        text-align: right;\n",
       "    }\n",
       "</style>\n",
       "<table border=\"1\" class=\"dataframe\">\n",
       "  <thead>\n",
       "    <tr style=\"text-align: right;\">\n",
       "      <th></th>\n",
       "      <th>id</th>\n",
       "      <th>prompt</th>\n",
       "      <th>response_a</th>\n",
       "      <th>response_b</th>\n",
       "      <th>winner_model_a</th>\n",
       "      <th>winner_model_b</th>\n",
       "      <th>winner_tie</th>\n",
       "    </tr>\n",
       "  </thead>\n",
       "  <tbody>\n",
       "    <tr>\n",
       "      <th>0</th>\n",
       "      <td>30192</td>\n",
       "      <td>Is it morally right to try to have a certain p...</td>\n",
       "      <td>NaN</td>\n",
       "      <td>As an AI, I don't have personal beliefs or opi...</td>\n",
       "      <td>1</td>\n",
       "      <td>0</td>\n",
       "      <td>0</td>\n",
       "    </tr>\n",
       "  </tbody>\n",
       "</table>\n",
       "</div>"
      ],
      "text/plain": [
       "      id                                             prompt response_a  \\\n",
       "0  30192  Is it morally right to try to have a certain p...        NaN   \n",
       "\n",
       "                                          response_b  winner_model_a  \\\n",
       "0  As an AI, I don't have personal beliefs or opi...               1   \n",
       "\n",
       "   winner_model_b  winner_tie  \n",
       "0               0           0  "
      ]
     },
     "execution_count": 6,
     "metadata": {},
     "output_type": "execute_result"
    }
   ],
   "source": [
    "df_previous.head(1)"
   ]
  },
  {
   "cell_type": "markdown",
   "metadata": {},
   "source": [
    "### remove nans"
   ]
  },
  {
   "cell_type": "code",
   "execution_count": 7,
   "metadata": {},
   "outputs": [
    {
     "data": {
      "text/plain": [
       "id                  0\n",
       "prompt            136\n",
       "response_a        412\n",
       "response_b        394\n",
       "winner_model_a      0\n",
       "winner_model_b      0\n",
       "winner_tie          0\n",
       "dtype: int64"
      ]
     },
     "execution_count": 7,
     "metadata": {},
     "output_type": "execute_result"
    }
   ],
   "source": [
    "df_previous.isnull().sum()"
   ]
  },
  {
   "cell_type": "code",
   "execution_count": 8,
   "metadata": {},
   "outputs": [
    {
     "data": {
      "text/plain": [
       "(56788, 7)"
      ]
     },
     "execution_count": 8,
     "metadata": {},
     "output_type": "execute_result"
    }
   ],
   "source": [
    "df_previous.dropna(inplace=True)\n",
    "df_previous.shape"
   ]
  },
  {
   "cell_type": "markdown",
   "metadata": {},
   "source": [
    "### Remove tie"
   ]
  },
  {
   "cell_type": "code",
   "execution_count": 9,
   "metadata": {},
   "outputs": [],
   "source": [
    "df_previous = df_previous[df_previous['winner_tie']==0]"
   ]
  },
  {
   "cell_type": "code",
   "execution_count": 10,
   "metadata": {},
   "outputs": [
    {
     "data": {
      "text/plain": [
       "(39209, 7)"
      ]
     },
     "execution_count": 10,
     "metadata": {},
     "output_type": "execute_result"
    }
   ],
   "source": [
    "df_previous.shape"
   ]
  },
  {
   "cell_type": "markdown",
   "metadata": {},
   "source": [
    "### Duplicates"
   ]
  },
  {
   "cell_type": "code",
   "execution_count": 11,
   "metadata": {},
   "outputs": [],
   "source": [
    "df_previous.drop_duplicates(subset=['id'], keep='first', inplace=True)"
   ]
  },
  {
   "cell_type": "code",
   "execution_count": 12,
   "metadata": {},
   "outputs": [
    {
     "data": {
      "text/plain": [
       "(39209, 7)"
      ]
     },
     "execution_count": 12,
     "metadata": {},
     "output_type": "execute_result"
    }
   ],
   "source": [
    "df_previous.shape"
   ]
  },
  {
   "cell_type": "markdown",
   "metadata": {},
   "source": [
    "### Format"
   ]
  },
  {
   "cell_type": "code",
   "execution_count": 13,
   "metadata": {},
   "outputs": [],
   "source": [
    "def winner_name(winner_b):\n",
    "    if winner_b == 1:\n",
    "        return 'model_b'\n",
    "    else :\n",
    "        return 'model_a'\n",
    "df_previous['winner'] = df_previous['winner_model_b'].apply(winner_name)"
   ]
  },
  {
   "cell_type": "code",
   "execution_count": 14,
   "metadata": {},
   "outputs": [],
   "source": [
    "df_previous.drop('winner_model_a', axis=1, inplace=True)\n",
    "df_previous.drop('winner_model_b', axis=1, inplace=True)\n",
    "df_previous.drop('winner_tie', axis=1, inplace=True)"
   ]
  },
  {
   "cell_type": "code",
   "execution_count": 15,
   "metadata": {},
   "outputs": [
    {
     "data": {
      "text/html": [
       "<div>\n",
       "<style scoped>\n",
       "    .dataframe tbody tr th:only-of-type {\n",
       "        vertical-align: middle;\n",
       "    }\n",
       "\n",
       "    .dataframe tbody tr th {\n",
       "        vertical-align: top;\n",
       "    }\n",
       "\n",
       "    .dataframe thead th {\n",
       "        text-align: right;\n",
       "    }\n",
       "</style>\n",
       "<table border=\"1\" class=\"dataframe\">\n",
       "  <thead>\n",
       "    <tr style=\"text-align: right;\">\n",
       "      <th></th>\n",
       "      <th>id</th>\n",
       "      <th>prompt</th>\n",
       "      <th>response_a</th>\n",
       "      <th>response_b</th>\n",
       "      <th>winner</th>\n",
       "    </tr>\n",
       "  </thead>\n",
       "  <tbody>\n",
       "    <tr>\n",
       "      <th>1</th>\n",
       "      <td>53567</td>\n",
       "      <td>What is the difference between marriage licens...</td>\n",
       "      <td>A marriage license is a legal document that al...</td>\n",
       "      <td>A marriage license and a marriage certificate ...</td>\n",
       "      <td>model_b</td>\n",
       "    </tr>\n",
       "  </tbody>\n",
       "</table>\n",
       "</div>"
      ],
      "text/plain": [
       "      id                                             prompt  \\\n",
       "1  53567  What is the difference between marriage licens...   \n",
       "\n",
       "                                          response_a  \\\n",
       "1  A marriage license is a legal document that al...   \n",
       "\n",
       "                                          response_b   winner  \n",
       "1  A marriage license and a marriage certificate ...  model_b  "
      ]
     },
     "execution_count": 15,
     "metadata": {},
     "output_type": "execute_result"
    }
   ],
   "source": [
    "df_previous.head(1)"
   ]
  },
  {
   "cell_type": "markdown",
   "metadata": {},
   "source": [
    "### Rename columns"
   ]
  },
  {
   "cell_type": "code",
   "execution_count": 16,
   "metadata": {},
   "outputs": [],
   "source": [
    "df_previous.rename(columns={'':''}, inplace=True)"
   ]
  },
  {
   "cell_type": "markdown",
   "metadata": {},
   "source": [
    "### Merged"
   ]
  },
  {
   "cell_type": "code",
   "execution_count": 17,
   "metadata": {},
   "outputs": [
    {
     "data": {
      "text/html": [
       "<div>\n",
       "<style scoped>\n",
       "    .dataframe tbody tr th:only-of-type {\n",
       "        vertical-align: middle;\n",
       "    }\n",
       "\n",
       "    .dataframe tbody tr th {\n",
       "        vertical-align: top;\n",
       "    }\n",
       "\n",
       "    .dataframe thead th {\n",
       "        text-align: right;\n",
       "    }\n",
       "</style>\n",
       "<table border=\"1\" class=\"dataframe\">\n",
       "  <thead>\n",
       "    <tr style=\"text-align: right;\">\n",
       "      <th></th>\n",
       "      <th>id</th>\n",
       "      <th>prompt</th>\n",
       "      <th>response_a</th>\n",
       "      <th>response_b</th>\n",
       "      <th>winner</th>\n",
       "      <th>model_a</th>\n",
       "      <th>model_b</th>\n",
       "      <th>language</th>\n",
       "    </tr>\n",
       "  </thead>\n",
       "  <tbody>\n",
       "    <tr>\n",
       "      <th>1</th>\n",
       "      <td>53567</td>\n",
       "      <td>What is the difference between marriage licens...</td>\n",
       "      <td>A marriage license is a legal document that al...</td>\n",
       "      <td>A marriage license and a marriage certificate ...</td>\n",
       "      <td>model_b</td>\n",
       "      <td>NaN</td>\n",
       "      <td>NaN</td>\n",
       "      <td>NaN</td>\n",
       "    </tr>\n",
       "    <tr>\n",
       "      <th>3</th>\n",
       "      <td>96401</td>\n",
       "      <td>How can I create a test set for a very rare ca...</td>\n",
       "      <td>Creating a test set for a very rare category c...</td>\n",
       "      <td>When building a classifier for a very rare cat...</td>\n",
       "      <td>model_a</td>\n",
       "      <td>NaN</td>\n",
       "      <td>NaN</td>\n",
       "      <td>NaN</td>\n",
       "    </tr>\n",
       "    <tr>\n",
       "      <th>4</th>\n",
       "      <td>198779</td>\n",
       "      <td>What is the best way to travel from Tel-Aviv t...</td>\n",
       "      <td>The best way to travel from Tel Aviv to Jerusa...</td>\n",
       "      <td>The best way to travel from Tel-Aviv to Jerusa...</td>\n",
       "      <td>model_b</td>\n",
       "      <td>NaN</td>\n",
       "      <td>NaN</td>\n",
       "      <td>NaN</td>\n",
       "    </tr>\n",
       "    <tr>\n",
       "      <th>5</th>\n",
       "      <td>292873</td>\n",
       "      <td>Construct a rap battle, in the style of Epic R...</td>\n",
       "      <td>[Zeus]\\nYo, it's the king of the gods on the m...</td>\n",
       "      <td>(Verse 1 - Zeus)\\n\\nI'm the king of the gods, ...</td>\n",
       "      <td>model_b</td>\n",
       "      <td>NaN</td>\n",
       "      <td>NaN</td>\n",
       "      <td>NaN</td>\n",
       "    </tr>\n",
       "    <tr>\n",
       "      <th>6</th>\n",
       "      <td>313413</td>\n",
       "      <td>Why water is not used in bath tub?</td>\n",
       "      <td>Water is actually used in a bath tub. A bath t...</td>\n",
       "      <td>Water is not used in a bath tub because it is ...</td>\n",
       "      <td>model_a</td>\n",
       "      <td>NaN</td>\n",
       "      <td>NaN</td>\n",
       "      <td>NaN</td>\n",
       "    </tr>\n",
       "    <tr>\n",
       "      <th>...</th>\n",
       "      <td>...</td>\n",
       "      <td>...</td>\n",
       "      <td>...</td>\n",
       "      <td>...</td>\n",
       "      <td>...</td>\n",
       "      <td>...</td>\n",
       "      <td>...</td>\n",
       "      <td>...</td>\n",
       "    </tr>\n",
       "    <tr>\n",
       "      <th>48434</th>\n",
       "      <td>fff5962462043091a771018e37ece11c425e9c7cca64b2...</td>\n",
       "      <td>你好，请你介绍下你自己</td>\n",
       "      <td>你好！我是LSK，一个形式为人工智能的chatbot。</td>\n",
       "      <td>### 介绍\\n\\n我是一款人工智能语言模型，基于深度学习技术开发而成。我的主要功能是理解自...</td>\n",
       "      <td>model_b</td>\n",
       "      <td>llama-3.2-3b-instruct</td>\n",
       "      <td>llama-3.1-8b-instruct</td>\n",
       "      <td>Chinese</td>\n",
       "    </tr>\n",
       "    <tr>\n",
       "      <th>48435</th>\n",
       "      <td>fffad6c95fb82e3a694b4952965852130285e0a38905d5...</td>\n",
       "      <td>Viva Technology参展费用</td>\n",
       "      <td>Viva Technology是一个国际性的科技展览会，每年在法国巴黎举行。参展费用会根据多...</td>\n",
       "      <td>我无法找到Viva Technology参展费用的具体公开信息。\\n\\n**参展费用通常取决...</td>\n",
       "      <td>model_a</td>\n",
       "      <td>reka-core-20240904</td>\n",
       "      <td>gemini-1.5-flash-exp-0827</td>\n",
       "      <td>English</td>\n",
       "    </tr>\n",
       "    <tr>\n",
       "      <th>48436</th>\n",
       "      <td>fffbf502f2cd88b706a4bd6e54ed90e9a2d59d1643140d...</td>\n",
       "      <td>다음은 '사무장병원 경찰 조사 동행기 - 장효강 변호사의 현장 이야기'라는 제목의 ...</td>\n",
       "      <td>사무장병원 경찰 조사 동행기 - 장효강 변호사의 현장 이야기\\n\\n**\"압수수색, ...</td>\n",
       "      <td>도입부를 개선하기 위해서는 독자의 관심을 더 끌어야 하며, 좀 더 명료하고 간결하게...</td>\n",
       "      <td>model_a</td>\n",
       "      <td>gemini-1.5-pro-002</td>\n",
       "      <td>yi-lightning-lite</td>\n",
       "      <td>Korean</td>\n",
       "    </tr>\n",
       "    <tr>\n",
       "      <th>48437</th>\n",
       "      <td>fffd2ffdaa03e9e0a0cd1e8f2ee80f530bb19b08fa4312...</td>\n",
       "      <td>What is the height of the church located in Sa...</td>\n",
       "      <td>**Church Information: Église de Saint-Nazaire-...</td>\n",
       "      <td>I couldn't find any information about a church...</td>\n",
       "      <td>model_a</td>\n",
       "      <td>llama-3.1-70b-instruct</td>\n",
       "      <td>llama-3.2-3b-instruct</td>\n",
       "      <td>English</td>\n",
       "    </tr>\n",
       "    <tr>\n",
       "      <th>48438</th>\n",
       "      <td>ffff059aea247f1dc7a09cfea55e00309b5b9a2e8cd9fc...</td>\n",
       "      <td>1000Tb 每秒传输10gb要多久才能完成</td>\n",
       "      <td>**1. 单位转换:**\\n\\n* 1000 Tb = 1000 * 1024 Gb = 1...</td>\n",
       "      <td>要计算传输 1000TB 数据以 10Gb/s 的速率需要多长时间，我们可以按以下步骤进行。...</td>\n",
       "      <td>model_a</td>\n",
       "      <td>gemini-1.5-flash-exp-0827</td>\n",
       "      <td>chatgpt-4o-latest-20240903</td>\n",
       "      <td>unknown</td>\n",
       "    </tr>\n",
       "  </tbody>\n",
       "</table>\n",
       "<p>87648 rows × 8 columns</p>\n",
       "</div>"
      ],
      "text/plain": [
       "                                                      id  \\\n",
       "1                                                  53567   \n",
       "3                                                  96401   \n",
       "4                                                 198779   \n",
       "5                                                 292873   \n",
       "6                                                 313413   \n",
       "...                                                  ...   \n",
       "48434  fff5962462043091a771018e37ece11c425e9c7cca64b2...   \n",
       "48435  fffad6c95fb82e3a694b4952965852130285e0a38905d5...   \n",
       "48436  fffbf502f2cd88b706a4bd6e54ed90e9a2d59d1643140d...   \n",
       "48437  fffd2ffdaa03e9e0a0cd1e8f2ee80f530bb19b08fa4312...   \n",
       "48438  ffff059aea247f1dc7a09cfea55e00309b5b9a2e8cd9fc...   \n",
       "\n",
       "                                                  prompt  \\\n",
       "1      What is the difference between marriage licens...   \n",
       "3      How can I create a test set for a very rare ca...   \n",
       "4      What is the best way to travel from Tel-Aviv t...   \n",
       "5      Construct a rap battle, in the style of Epic R...   \n",
       "6                     Why water is not used in bath tub?   \n",
       "...                                                  ...   \n",
       "48434                                        你好，请你介绍下你自己   \n",
       "48435                                Viva Technology参展费用   \n",
       "48436  다음은 '사무장병원 경찰 조사 동행기 - 장효강 변호사의 현장 이야기'라는 제목의 ...   \n",
       "48437  What is the height of the church located in Sa...   \n",
       "48438                             1000Tb 每秒传输10gb要多久才能完成   \n",
       "\n",
       "                                              response_a  \\\n",
       "1      A marriage license is a legal document that al...   \n",
       "3      Creating a test set for a very rare category c...   \n",
       "4      The best way to travel from Tel Aviv to Jerusa...   \n",
       "5      [Zeus]\\nYo, it's the king of the gods on the m...   \n",
       "6      Water is actually used in a bath tub. A bath t...   \n",
       "...                                                  ...   \n",
       "48434                        你好！我是LSK，一个形式为人工智能的chatbot。   \n",
       "48435  Viva Technology是一个国际性的科技展览会，每年在法国巴黎举行。参展费用会根据多...   \n",
       "48436  사무장병원 경찰 조사 동행기 - 장효강 변호사의 현장 이야기\\n\\n**\"압수수색, ...   \n",
       "48437  **Church Information: Église de Saint-Nazaire-...   \n",
       "48438  **1. 单位转换:**\\n\\n* 1000 Tb = 1000 * 1024 Gb = 1...   \n",
       "\n",
       "                                              response_b   winner  \\\n",
       "1      A marriage license and a marriage certificate ...  model_b   \n",
       "3      When building a classifier for a very rare cat...  model_a   \n",
       "4      The best way to travel from Tel-Aviv to Jerusa...  model_b   \n",
       "5      (Verse 1 - Zeus)\\n\\nI'm the king of the gods, ...  model_b   \n",
       "6      Water is not used in a bath tub because it is ...  model_a   \n",
       "...                                                  ...      ...   \n",
       "48434  ### 介绍\\n\\n我是一款人工智能语言模型，基于深度学习技术开发而成。我的主要功能是理解自...  model_b   \n",
       "48435  我无法找到Viva Technology参展费用的具体公开信息。\\n\\n**参展费用通常取决...  model_a   \n",
       "48436  도입부를 개선하기 위해서는 독자의 관심을 더 끌어야 하며, 좀 더 명료하고 간결하게...  model_a   \n",
       "48437  I couldn't find any information about a church...  model_a   \n",
       "48438  要计算传输 1000TB 数据以 10Gb/s 的速率需要多长时间，我们可以按以下步骤进行。...  model_a   \n",
       "\n",
       "                         model_a                     model_b language  \n",
       "1                            NaN                         NaN      NaN  \n",
       "3                            NaN                         NaN      NaN  \n",
       "4                            NaN                         NaN      NaN  \n",
       "5                            NaN                         NaN      NaN  \n",
       "6                            NaN                         NaN      NaN  \n",
       "...                          ...                         ...      ...  \n",
       "48434      llama-3.2-3b-instruct       llama-3.1-8b-instruct  Chinese  \n",
       "48435         reka-core-20240904   gemini-1.5-flash-exp-0827  English  \n",
       "48436         gemini-1.5-pro-002           yi-lightning-lite   Korean  \n",
       "48437     llama-3.1-70b-instruct       llama-3.2-3b-instruct  English  \n",
       "48438  gemini-1.5-flash-exp-0827  chatgpt-4o-latest-20240903  unknown  \n",
       "\n",
       "[87648 rows x 8 columns]"
      ]
     },
     "execution_count": 17,
     "metadata": {},
     "output_type": "execute_result"
    }
   ],
   "source": [
    "merged = pd.concat([df_previous, df_trainO], join='outer') \n",
    "merged"
   ]
  },
  {
   "cell_type": "code",
   "execution_count": 18,
   "metadata": {},
   "outputs": [
    {
     "data": {
      "text/html": [
       "<div>\n",
       "<style scoped>\n",
       "    .dataframe tbody tr th:only-of-type {\n",
       "        vertical-align: middle;\n",
       "    }\n",
       "\n",
       "    .dataframe tbody tr th {\n",
       "        vertical-align: top;\n",
       "    }\n",
       "\n",
       "    .dataframe thead th {\n",
       "        text-align: right;\n",
       "    }\n",
       "</style>\n",
       "<table border=\"1\" class=\"dataframe\">\n",
       "  <thead>\n",
       "    <tr style=\"text-align: right;\">\n",
       "      <th></th>\n",
       "      <th>id</th>\n",
       "      <th>prompt</th>\n",
       "      <th>response_a</th>\n",
       "      <th>response_b</th>\n",
       "      <th>winner</th>\n",
       "      <th>model_a</th>\n",
       "      <th>model_b</th>\n",
       "      <th>language</th>\n",
       "    </tr>\n",
       "  </thead>\n",
       "  <tbody>\n",
       "    <tr>\n",
       "      <th>1</th>\n",
       "      <td>53567</td>\n",
       "      <td>What is the difference between marriage licens...</td>\n",
       "      <td>A marriage license is a legal document that al...</td>\n",
       "      <td>A marriage license and a marriage certificate ...</td>\n",
       "      <td>model_b</td>\n",
       "      <td>NaN</td>\n",
       "      <td>NaN</td>\n",
       "      <td>NaN</td>\n",
       "    </tr>\n",
       "    <tr>\n",
       "      <th>3</th>\n",
       "      <td>96401</td>\n",
       "      <td>How can I create a test set for a very rare ca...</td>\n",
       "      <td>Creating a test set for a very rare category c...</td>\n",
       "      <td>When building a classifier for a very rare cat...</td>\n",
       "      <td>model_a</td>\n",
       "      <td>NaN</td>\n",
       "      <td>NaN</td>\n",
       "      <td>NaN</td>\n",
       "    </tr>\n",
       "    <tr>\n",
       "      <th>4</th>\n",
       "      <td>198779</td>\n",
       "      <td>What is the best way to travel from Tel-Aviv t...</td>\n",
       "      <td>The best way to travel from Tel Aviv to Jerusa...</td>\n",
       "      <td>The best way to travel from Tel-Aviv to Jerusa...</td>\n",
       "      <td>model_b</td>\n",
       "      <td>NaN</td>\n",
       "      <td>NaN</td>\n",
       "      <td>NaN</td>\n",
       "    </tr>\n",
       "    <tr>\n",
       "      <th>5</th>\n",
       "      <td>292873</td>\n",
       "      <td>Construct a rap battle, in the style of Epic R...</td>\n",
       "      <td>[Zeus]\\nYo, it's the king of the gods on the m...</td>\n",
       "      <td>(Verse 1 - Zeus)\\n\\nI'm the king of the gods, ...</td>\n",
       "      <td>model_b</td>\n",
       "      <td>NaN</td>\n",
       "      <td>NaN</td>\n",
       "      <td>NaN</td>\n",
       "    </tr>\n",
       "    <tr>\n",
       "      <th>6</th>\n",
       "      <td>313413</td>\n",
       "      <td>Why water is not used in bath tub?</td>\n",
       "      <td>Water is actually used in a bath tub. A bath t...</td>\n",
       "      <td>Water is not used in a bath tub because it is ...</td>\n",
       "      <td>model_a</td>\n",
       "      <td>NaN</td>\n",
       "      <td>NaN</td>\n",
       "      <td>NaN</td>\n",
       "    </tr>\n",
       "    <tr>\n",
       "      <th>...</th>\n",
       "      <td>...</td>\n",
       "      <td>...</td>\n",
       "      <td>...</td>\n",
       "      <td>...</td>\n",
       "      <td>...</td>\n",
       "      <td>...</td>\n",
       "      <td>...</td>\n",
       "      <td>...</td>\n",
       "    </tr>\n",
       "    <tr>\n",
       "      <th>48434</th>\n",
       "      <td>fff5962462043091a771018e37ece11c425e9c7cca64b2...</td>\n",
       "      <td>你好，请你介绍下你自己</td>\n",
       "      <td>你好！我是LSK，一个形式为人工智能的chatbot。</td>\n",
       "      <td>### 介绍\\n\\n我是一款人工智能语言模型，基于深度学习技术开发而成。我的主要功能是理解自...</td>\n",
       "      <td>model_b</td>\n",
       "      <td>llama-3.2-3b-instruct</td>\n",
       "      <td>llama-3.1-8b-instruct</td>\n",
       "      <td>Chinese</td>\n",
       "    </tr>\n",
       "    <tr>\n",
       "      <th>48435</th>\n",
       "      <td>fffad6c95fb82e3a694b4952965852130285e0a38905d5...</td>\n",
       "      <td>Viva Technology参展费用</td>\n",
       "      <td>Viva Technology是一个国际性的科技展览会，每年在法国巴黎举行。参展费用会根据多...</td>\n",
       "      <td>我无法找到Viva Technology参展费用的具体公开信息。\\n\\n**参展费用通常取决...</td>\n",
       "      <td>model_a</td>\n",
       "      <td>reka-core-20240904</td>\n",
       "      <td>gemini-1.5-flash-exp-0827</td>\n",
       "      <td>English</td>\n",
       "    </tr>\n",
       "    <tr>\n",
       "      <th>48436</th>\n",
       "      <td>fffbf502f2cd88b706a4bd6e54ed90e9a2d59d1643140d...</td>\n",
       "      <td>다음은 '사무장병원 경찰 조사 동행기 - 장효강 변호사의 현장 이야기'라는 제목의 ...</td>\n",
       "      <td>사무장병원 경찰 조사 동행기 - 장효강 변호사의 현장 이야기\\n\\n**\"압수수색, ...</td>\n",
       "      <td>도입부를 개선하기 위해서는 독자의 관심을 더 끌어야 하며, 좀 더 명료하고 간결하게...</td>\n",
       "      <td>model_a</td>\n",
       "      <td>gemini-1.5-pro-002</td>\n",
       "      <td>yi-lightning-lite</td>\n",
       "      <td>Korean</td>\n",
       "    </tr>\n",
       "    <tr>\n",
       "      <th>48437</th>\n",
       "      <td>fffd2ffdaa03e9e0a0cd1e8f2ee80f530bb19b08fa4312...</td>\n",
       "      <td>What is the height of the church located in Sa...</td>\n",
       "      <td>**Church Information: Église de Saint-Nazaire-...</td>\n",
       "      <td>I couldn't find any information about a church...</td>\n",
       "      <td>model_a</td>\n",
       "      <td>llama-3.1-70b-instruct</td>\n",
       "      <td>llama-3.2-3b-instruct</td>\n",
       "      <td>English</td>\n",
       "    </tr>\n",
       "    <tr>\n",
       "      <th>48438</th>\n",
       "      <td>ffff059aea247f1dc7a09cfea55e00309b5b9a2e8cd9fc...</td>\n",
       "      <td>1000Tb 每秒传输10gb要多久才能完成</td>\n",
       "      <td>**1. 单位转换:**\\n\\n* 1000 Tb = 1000 * 1024 Gb = 1...</td>\n",
       "      <td>要计算传输 1000TB 数据以 10Gb/s 的速率需要多长时间，我们可以按以下步骤进行。...</td>\n",
       "      <td>model_a</td>\n",
       "      <td>gemini-1.5-flash-exp-0827</td>\n",
       "      <td>chatgpt-4o-latest-20240903</td>\n",
       "      <td>unknown</td>\n",
       "    </tr>\n",
       "  </tbody>\n",
       "</table>\n",
       "<p>87648 rows × 8 columns</p>\n",
       "</div>"
      ],
      "text/plain": [
       "                                                      id  \\\n",
       "1                                                  53567   \n",
       "3                                                  96401   \n",
       "4                                                 198779   \n",
       "5                                                 292873   \n",
       "6                                                 313413   \n",
       "...                                                  ...   \n",
       "48434  fff5962462043091a771018e37ece11c425e9c7cca64b2...   \n",
       "48435  fffad6c95fb82e3a694b4952965852130285e0a38905d5...   \n",
       "48436  fffbf502f2cd88b706a4bd6e54ed90e9a2d59d1643140d...   \n",
       "48437  fffd2ffdaa03e9e0a0cd1e8f2ee80f530bb19b08fa4312...   \n",
       "48438  ffff059aea247f1dc7a09cfea55e00309b5b9a2e8cd9fc...   \n",
       "\n",
       "                                                  prompt  \\\n",
       "1      What is the difference between marriage licens...   \n",
       "3      How can I create a test set for a very rare ca...   \n",
       "4      What is the best way to travel from Tel-Aviv t...   \n",
       "5      Construct a rap battle, in the style of Epic R...   \n",
       "6                     Why water is not used in bath tub?   \n",
       "...                                                  ...   \n",
       "48434                                        你好，请你介绍下你自己   \n",
       "48435                                Viva Technology参展费用   \n",
       "48436  다음은 '사무장병원 경찰 조사 동행기 - 장효강 변호사의 현장 이야기'라는 제목의 ...   \n",
       "48437  What is the height of the church located in Sa...   \n",
       "48438                             1000Tb 每秒传输10gb要多久才能完成   \n",
       "\n",
       "                                              response_a  \\\n",
       "1      A marriage license is a legal document that al...   \n",
       "3      Creating a test set for a very rare category c...   \n",
       "4      The best way to travel from Tel Aviv to Jerusa...   \n",
       "5      [Zeus]\\nYo, it's the king of the gods on the m...   \n",
       "6      Water is actually used in a bath tub. A bath t...   \n",
       "...                                                  ...   \n",
       "48434                        你好！我是LSK，一个形式为人工智能的chatbot。   \n",
       "48435  Viva Technology是一个国际性的科技展览会，每年在法国巴黎举行。参展费用会根据多...   \n",
       "48436  사무장병원 경찰 조사 동행기 - 장효강 변호사의 현장 이야기\\n\\n**\"압수수색, ...   \n",
       "48437  **Church Information: Église de Saint-Nazaire-...   \n",
       "48438  **1. 单位转换:**\\n\\n* 1000 Tb = 1000 * 1024 Gb = 1...   \n",
       "\n",
       "                                              response_b   winner  \\\n",
       "1      A marriage license and a marriage certificate ...  model_b   \n",
       "3      When building a classifier for a very rare cat...  model_a   \n",
       "4      The best way to travel from Tel-Aviv to Jerusa...  model_b   \n",
       "5      (Verse 1 - Zeus)\\n\\nI'm the king of the gods, ...  model_b   \n",
       "6      Water is not used in a bath tub because it is ...  model_a   \n",
       "...                                                  ...      ...   \n",
       "48434  ### 介绍\\n\\n我是一款人工智能语言模型，基于深度学习技术开发而成。我的主要功能是理解自...  model_b   \n",
       "48435  我无法找到Viva Technology参展费用的具体公开信息。\\n\\n**参展费用通常取决...  model_a   \n",
       "48436  도입부를 개선하기 위해서는 독자의 관심을 더 끌어야 하며, 좀 더 명료하고 간결하게...  model_a   \n",
       "48437  I couldn't find any information about a church...  model_a   \n",
       "48438  要计算传输 1000TB 数据以 10Gb/s 的速率需要多长时间，我们可以按以下步骤进行。...  model_a   \n",
       "\n",
       "                         model_a                     model_b language  \n",
       "1                            NaN                         NaN      NaN  \n",
       "3                            NaN                         NaN      NaN  \n",
       "4                            NaN                         NaN      NaN  \n",
       "5                            NaN                         NaN      NaN  \n",
       "6                            NaN                         NaN      NaN  \n",
       "...                          ...                         ...      ...  \n",
       "48434      llama-3.2-3b-instruct       llama-3.1-8b-instruct  Chinese  \n",
       "48435         reka-core-20240904   gemini-1.5-flash-exp-0827  English  \n",
       "48436         gemini-1.5-pro-002           yi-lightning-lite   Korean  \n",
       "48437     llama-3.1-70b-instruct       llama-3.2-3b-instruct  English  \n",
       "48438  gemini-1.5-flash-exp-0827  chatgpt-4o-latest-20240903  unknown  \n",
       "\n",
       "[87648 rows x 8 columns]"
      ]
     },
     "execution_count": 18,
     "metadata": {},
     "output_type": "execute_result"
    }
   ],
   "source": [
    "merged.drop_duplicates(subset=['id'], keep='first', inplace=True)\n",
    "merged"
   ]
  },
  {
   "cell_type": "code",
   "execution_count": 19,
   "metadata": {},
   "outputs": [],
   "source": [
    "if ORIGINAL:\n",
    "    df_train = df_trainO\n",
    "else:\n",
    "    df_train = merged"
   ]
  },
  {
   "cell_type": "code",
   "execution_count": 20,
   "metadata": {},
   "outputs": [
    {
     "data": {
      "text/plain": [
       "(48439, 8)"
      ]
     },
     "execution_count": 20,
     "metadata": {},
     "output_type": "execute_result"
    }
   ],
   "source": [
    "df_train.shape"
   ]
  },
  {
   "cell_type": "markdown",
   "metadata": {},
   "source": [
    "### Sample"
   ]
  },
  {
   "cell_type": "code",
   "execution_count": 21,
   "metadata": {},
   "outputs": [],
   "source": [
    "if MINI_RUN:\n",
    "    df_train = df_train.sample(frac=sample_size, random_state=seed)"
   ]
  },
  {
   "cell_type": "markdown",
   "metadata": {},
   "source": [
    "### Clean"
   ]
  },
  {
   "cell_type": "code",
   "execution_count": 22,
   "metadata": {},
   "outputs": [],
   "source": [
    "#df_train[\"prompt\"] = df_train.prompt.map(lambda x: ''.join(eval(x.replace(\"null\",\"''\"))))\n",
    "#df_train[\"response_a\"] = df_train.response_a.map(lambda x: ''.join(eval(x.replace(\"null\",\"''\"))))\n",
    "#df_train[\"response_b\"] = df_train.response_b.map(lambda x: ''.join(eval(x.replace(\"null\", \"''\"))))"
   ]
  },
  {
   "cell_type": "code",
   "execution_count": 23,
   "metadata": {},
   "outputs": [],
   "source": [
    "#def process_text(text: str) -> str:\n",
    "#    return \"\".join(eval(text, {\"null\": \"\"}))\n",
    "#\n",
    "#df_train.loc[:, 'prompt'] = df_train['prompt'].apply(process_text)\n",
    "#df_train.loc[:, 'response_a'] = df_train['response_a'].apply(process_text)\n",
    "#df_train.loc[:, 'response_b'] = df_train['response_b'].apply(process_text)\n",
    "#\n",
    "#display(df_train.head(5))"
   ]
  },
  {
   "cell_type": "code",
   "execution_count": 24,
   "metadata": {},
   "outputs": [],
   "source": [
    "df_train['prompt'] = df_train['prompt'].astype(str)\n",
    "df_train['response_a'] = df_train['response_a'].astype(str)\n",
    "df_train['response_b'] = df_train['response_b'].astype(str)"
   ]
  },
  {
   "cell_type": "markdown",
   "metadata": {},
   "source": [
    "### Force encoding UTF-8"
   ]
  },
  {
   "cell_type": "code",
   "execution_count": 25,
   "metadata": {},
   "outputs": [],
   "source": [
    "df_train = df_train.apply(Utils.reencode, axis=1)  # Apply the make_pairs function to each row in df"
   ]
  },
  {
   "cell_type": "code",
   "execution_count": 26,
   "metadata": {},
   "outputs": [
    {
     "data": {
      "text/plain": [
       "encode_fail\n",
       "False    48439\n",
       "Name: count, dtype: int64"
      ]
     },
     "execution_count": 26,
     "metadata": {},
     "output_type": "execute_result"
    }
   ],
   "source": [
    "df_train.encode_fail.value_counts(normalize=False)"
   ]
  },
  {
   "cell_type": "markdown",
   "metadata": {},
   "source": [
    "### One Hot"
   ]
  },
  {
   "cell_type": "code",
   "execution_count": 27,
   "metadata": {},
   "outputs": [],
   "source": [
    "# Label conversion One Hot\n",
    "df_train[\"class_label\"] = df_train.winner.map(Utils.name2label)"
   ]
  },
  {
   "cell_type": "code",
   "execution_count": 28,
   "metadata": {},
   "outputs": [
    {
     "data": {
      "text/html": [
       "<div>\n",
       "<style scoped>\n",
       "    .dataframe tbody tr th:only-of-type {\n",
       "        vertical-align: middle;\n",
       "    }\n",
       "\n",
       "    .dataframe tbody tr th {\n",
       "        vertical-align: top;\n",
       "    }\n",
       "\n",
       "    .dataframe thead th {\n",
       "        text-align: right;\n",
       "    }\n",
       "</style>\n",
       "<table border=\"1\" class=\"dataframe\">\n",
       "  <thead>\n",
       "    <tr style=\"text-align: right;\">\n",
       "      <th></th>\n",
       "      <th>id</th>\n",
       "      <th>prompt</th>\n",
       "      <th>response_a</th>\n",
       "      <th>response_b</th>\n",
       "      <th>winner</th>\n",
       "      <th>model_a</th>\n",
       "      <th>model_b</th>\n",
       "      <th>language</th>\n",
       "      <th>encode_fail</th>\n",
       "      <th>class_label</th>\n",
       "    </tr>\n",
       "  </thead>\n",
       "  <tbody>\n",
       "    <tr>\n",
       "      <th>0</th>\n",
       "      <td>00007cff95d7f7974642a785aca248b0f26e60d3312fac...</td>\n",
       "      <td>vieš po Slovensky?</td>\n",
       "      <td>Áno, hovorím po slovensky. Ako vám môžem pomôcť?</td>\n",
       "      <td>Áno, veď som tu! Môžem ti pomôcť s otázkami al...</td>\n",
       "      <td>model_a</td>\n",
       "      <td>o1-preview</td>\n",
       "      <td>reka-core-20240904</td>\n",
       "      <td>Slovak</td>\n",
       "      <td>False</td>\n",
       "      <td>0</td>\n",
       "    </tr>\n",
       "    <tr>\n",
       "      <th>1</th>\n",
       "      <td>00010ed04b536f56ebe43eef1100c13906abea12bf9855...</td>\n",
       "      <td>You will be given a piece of news. Analyze it ...</td>\n",
       "      <td>Let's break down the news and analyze it accor...</td>\n",
       "      <td>```json\\n{\\n  \"contains_orgs\": true,\\n  \"orgs\"...</td>\n",
       "      <td>model_a</td>\n",
       "      <td>gemma-2-27b-it</td>\n",
       "      <td>gemini-1.5-flash-002</td>\n",
       "      <td>Russian</td>\n",
       "      <td>False</td>\n",
       "      <td>0</td>\n",
       "    </tr>\n",
       "    <tr>\n",
       "      <th>2</th>\n",
       "      <td>0003800d510e38803efba5ceaec122bc66408fe367b0be...</td>\n",
       "      <td>Dört basamaklı, rakamları birbirinden ve sıfır...</td>\n",
       "      <td>Bu soruyu çözmek için, verilen koşulları adım ...</td>\n",
       "      <td>Bu problemi adım adım çözelim:\\n\\n1) ABCD - DC...</td>\n",
       "      <td>model_a</td>\n",
       "      <td>gpt-4-0125-preview</td>\n",
       "      <td>claude-3-5-sonnet-20240620</td>\n",
       "      <td>Turkish</td>\n",
       "      <td>False</td>\n",
       "      <td>0</td>\n",
       "    </tr>\n",
       "    <tr>\n",
       "      <th>3</th>\n",
       "      <td>00072026c68f5418ef2da238394e418ce72a534b9b22d5...</td>\n",
       "      <td>현재 추천된 탑 3 종목인 Cabaletta Bio (CABA), Rocket Ph...</td>\n",
       "      <td>죄송하지만 저는 금융 조언을 제공할 수 없습니다. 저는 AI 모델이며, 투자 결정에...</td>\n",
       "      <td>현재 추천된 탑 3 종목에 순위를 매기기 위해서는 여러 가지 요소들을 고려해야 합니...</td>\n",
       "      <td>model_b</td>\n",
       "      <td>gemma-2-2b-it</td>\n",
       "      <td>llama-3.1-nemotron-70b-instruct</td>\n",
       "      <td>English</td>\n",
       "      <td>False</td>\n",
       "      <td>1</td>\n",
       "    </tr>\n",
       "    <tr>\n",
       "      <th>4</th>\n",
       "      <td>0007ce7cf6bc1b5a8f8a4669b854fb12030863c970d9dc...</td>\n",
       "      <td>Please be boring</td>\n",
       "      <td>Alright, I'll be as boring as possible.\\n\\nTod...</td>\n",
       "      <td>Understood. Here is a straightforward, unadorn...</td>\n",
       "      <td>model_a</td>\n",
       "      <td>reka-flash-20240722</td>\n",
       "      <td>grok-2-2024-08-13</td>\n",
       "      <td>English</td>\n",
       "      <td>False</td>\n",
       "      <td>0</td>\n",
       "    </tr>\n",
       "    <tr>\n",
       "      <th>5</th>\n",
       "      <td>000b36b711dc332737c44ef8adf4f2d9dbd62d1b4394fd...</td>\n",
       "      <td>Придумай 25 новостных нерекламных заголовков\\n...</td>\n",
       "      <td>1. Сапсаны на крыше Уралсиба: банк дарит Уфе м...</td>\n",
       "      <td>1. Сапсаны на крыше Уралсиба стали символом Уф...</td>\n",
       "      <td>model_b</td>\n",
       "      <td>gemini-1.5-flash-8b-exp-0827</td>\n",
       "      <td>gemini-1.5-flash-exp-0827</td>\n",
       "      <td>Russian</td>\n",
       "      <td>False</td>\n",
       "      <td>1</td>\n",
       "    </tr>\n",
       "    <tr>\n",
       "      <th>6</th>\n",
       "      <td>000b4b0dfcaf7dd8bef09141e78fa15c053fa1f54661ca...</td>\n",
       "      <td>매체의 대역폭이 12,000Hz이고, 두 반송파 사이의 간격이 최소 2,000Hz가...</td>\n",
       "      <td>문제를 해결하기 위해 주어진 정보를 정리해 보겠습니다.\\n\\n- 매체의 대역폭: 1...</td>\n",
       "      <td>FSK(Frequency Shift Keying) 신호의 최대 비트율을 구하기 위해...</td>\n",
       "      <td>model_a</td>\n",
       "      <td>claude-3-opus-20240229</td>\n",
       "      <td>claude-3-haiku-20240307</td>\n",
       "      <td>Korean</td>\n",
       "      <td>False</td>\n",
       "      <td>0</td>\n",
       "    </tr>\n",
       "    <tr>\n",
       "      <th>7</th>\n",
       "      <td>000b677bd5e1db443ecbee1e1b6c73cf04f57efd85f452...</td>\n",
       "      <td>Utför gausselimination så vi får fram variabel...</td>\n",
       "      <td>Självklart, låt oss lösa systemet av ekvatione...</td>\n",
       "      <td>Gausselimination är en metod för att lösa syst...</td>\n",
       "      <td>model_a</td>\n",
       "      <td>reka-core-20240904</td>\n",
       "      <td>gpt-4o-2024-08-06</td>\n",
       "      <td>Swedish</td>\n",
       "      <td>False</td>\n",
       "      <td>0</td>\n",
       "    </tr>\n",
       "    <tr>\n",
       "      <th>8</th>\n",
       "      <td>000c732bc38d68ed512846b748084c89f1b264ce2fa7be...</td>\n",
       "      <td>Hãy viết cho tôi về khung cảnh xung quanh, điể...</td>\n",
       "      <td>## Trường Đại học Thủ Dầu Một: Khung cảnh, Điể...</td>\n",
       "      <td>**Khung cảnh xung quanh và điểm độc đáo của tr...</td>\n",
       "      <td>model_b</td>\n",
       "      <td>gemini-1.5-pro-002</td>\n",
       "      <td>llama-3.1-70b-instruct</td>\n",
       "      <td>Vietnamese</td>\n",
       "      <td>False</td>\n",
       "      <td>1</td>\n",
       "    </tr>\n",
       "    <tr>\n",
       "      <th>9</th>\n",
       "      <td>000fcb4fc8718b5a25d15978dd9979ee8601209910a58c...</td>\n",
       "      <td>Я хочу сказать другу свое окончательное решени...</td>\n",
       "      <td>Чтобы clearly указать другу, что ты не планиру...</td>\n",
       "      <td>Можно добавить в конец сообщения фразу вроде:\\...</td>\n",
       "      <td>model_a</td>\n",
       "      <td>yi-lightning</td>\n",
       "      <td>claude-3-5-sonnet-20241022</td>\n",
       "      <td>Russian</td>\n",
       "      <td>False</td>\n",
       "      <td>0</td>\n",
       "    </tr>\n",
       "  </tbody>\n",
       "</table>\n",
       "</div>"
      ],
      "text/plain": [
       "                                                  id  \\\n",
       "0  00007cff95d7f7974642a785aca248b0f26e60d3312fac...   \n",
       "1  00010ed04b536f56ebe43eef1100c13906abea12bf9855...   \n",
       "2  0003800d510e38803efba5ceaec122bc66408fe367b0be...   \n",
       "3  00072026c68f5418ef2da238394e418ce72a534b9b22d5...   \n",
       "4  0007ce7cf6bc1b5a8f8a4669b854fb12030863c970d9dc...   \n",
       "5  000b36b711dc332737c44ef8adf4f2d9dbd62d1b4394fd...   \n",
       "6  000b4b0dfcaf7dd8bef09141e78fa15c053fa1f54661ca...   \n",
       "7  000b677bd5e1db443ecbee1e1b6c73cf04f57efd85f452...   \n",
       "8  000c732bc38d68ed512846b748084c89f1b264ce2fa7be...   \n",
       "9  000fcb4fc8718b5a25d15978dd9979ee8601209910a58c...   \n",
       "\n",
       "                                              prompt  \\\n",
       "0                                 vieš po Slovensky?   \n",
       "1  You will be given a piece of news. Analyze it ...   \n",
       "2  Dört basamaklı, rakamları birbirinden ve sıfır...   \n",
       "3  현재 추천된 탑 3 종목인 Cabaletta Bio (CABA), Rocket Ph...   \n",
       "4                                  Please be boring    \n",
       "5  Придумай 25 новостных нерекламных заголовков\\n...   \n",
       "6  매체의 대역폭이 12,000Hz이고, 두 반송파 사이의 간격이 최소 2,000Hz가...   \n",
       "7  Utför gausselimination så vi får fram variabel...   \n",
       "8  Hãy viết cho tôi về khung cảnh xung quanh, điể...   \n",
       "9  Я хочу сказать другу свое окончательное решени...   \n",
       "\n",
       "                                          response_a  \\\n",
       "0   Áno, hovorím po slovensky. Ako vám môžem pomôcť?   \n",
       "1  Let's break down the news and analyze it accor...   \n",
       "2  Bu soruyu çözmek için, verilen koşulları adım ...   \n",
       "3  죄송하지만 저는 금융 조언을 제공할 수 없습니다. 저는 AI 모델이며, 투자 결정에...   \n",
       "4  Alright, I'll be as boring as possible.\\n\\nTod...   \n",
       "5  1. Сапсаны на крыше Уралсиба: банк дарит Уфе м...   \n",
       "6  문제를 해결하기 위해 주어진 정보를 정리해 보겠습니다.\\n\\n- 매체의 대역폭: 1...   \n",
       "7  Självklart, låt oss lösa systemet av ekvatione...   \n",
       "8  ## Trường Đại học Thủ Dầu Một: Khung cảnh, Điể...   \n",
       "9  Чтобы clearly указать другу, что ты не планиру...   \n",
       "\n",
       "                                          response_b   winner  \\\n",
       "0  Áno, veď som tu! Môžem ti pomôcť s otázkami al...  model_a   \n",
       "1  ```json\\n{\\n  \"contains_orgs\": true,\\n  \"orgs\"...  model_a   \n",
       "2  Bu problemi adım adım çözelim:\\n\\n1) ABCD - DC...  model_a   \n",
       "3  현재 추천된 탑 3 종목에 순위를 매기기 위해서는 여러 가지 요소들을 고려해야 합니...  model_b   \n",
       "4  Understood. Here is a straightforward, unadorn...  model_a   \n",
       "5  1. Сапсаны на крыше Уралсиба стали символом Уф...  model_b   \n",
       "6  FSK(Frequency Shift Keying) 신호의 최대 비트율을 구하기 위해...  model_a   \n",
       "7  Gausselimination är en metod för att lösa syst...  model_a   \n",
       "8  **Khung cảnh xung quanh và điểm độc đáo của tr...  model_b   \n",
       "9  Можно добавить в конец сообщения фразу вроде:\\...  model_a   \n",
       "\n",
       "                        model_a                          model_b    language  \\\n",
       "0                    o1-preview               reka-core-20240904      Slovak   \n",
       "1                gemma-2-27b-it             gemini-1.5-flash-002     Russian   \n",
       "2            gpt-4-0125-preview       claude-3-5-sonnet-20240620     Turkish   \n",
       "3                 gemma-2-2b-it  llama-3.1-nemotron-70b-instruct     English   \n",
       "4           reka-flash-20240722                grok-2-2024-08-13     English   \n",
       "5  gemini-1.5-flash-8b-exp-0827        gemini-1.5-flash-exp-0827     Russian   \n",
       "6        claude-3-opus-20240229          claude-3-haiku-20240307      Korean   \n",
       "7            reka-core-20240904                gpt-4o-2024-08-06     Swedish   \n",
       "8            gemini-1.5-pro-002           llama-3.1-70b-instruct  Vietnamese   \n",
       "9                  yi-lightning       claude-3-5-sonnet-20241022     Russian   \n",
       "\n",
       "   encode_fail  class_label  \n",
       "0        False            0  \n",
       "1        False            0  \n",
       "2        False            0  \n",
       "3        False            1  \n",
       "4        False            0  \n",
       "5        False            1  \n",
       "6        False            0  \n",
       "7        False            0  \n",
       "8        False            1  \n",
       "9        False            0  "
      ]
     },
     "execution_count": 28,
     "metadata": {},
     "output_type": "execute_result"
    }
   ],
   "source": [
    "df_train.head(3)"
   ]
  },
  {
   "cell_type": "markdown",
   "metadata": {},
   "source": [
    "### Check Empty"
   ]
  },
  {
   "cell_type": "markdown",
   "metadata": {},
   "source": [
    "### Duplicates"
   ]
  },
  {
   "cell_type": "code",
   "execution_count": 29,
   "metadata": {},
   "outputs": [
    {
     "data": {
      "text/html": [
       "<div>\n",
       "<style scoped>\n",
       "    .dataframe tbody tr th:only-of-type {\n",
       "        vertical-align: middle;\n",
       "    }\n",
       "\n",
       "    .dataframe tbody tr th {\n",
       "        vertical-align: top;\n",
       "    }\n",
       "\n",
       "    .dataframe thead th {\n",
       "        text-align: right;\n",
       "    }\n",
       "</style>\n",
       "<table border=\"1\" class=\"dataframe\">\n",
       "  <thead>\n",
       "    <tr style=\"text-align: right;\">\n",
       "      <th></th>\n",
       "      <th>id</th>\n",
       "      <th>prompt</th>\n",
       "      <th>response_a</th>\n",
       "      <th>response_b</th>\n",
       "      <th>winner</th>\n",
       "      <th>model_a</th>\n",
       "      <th>model_b</th>\n",
       "      <th>language</th>\n",
       "      <th>encode_fail</th>\n",
       "      <th>class_label</th>\n",
       "    </tr>\n",
       "  </thead>\n",
       "  <tbody>\n",
       "  </tbody>\n",
       "</table>\n",
       "</div>"
      ],
      "text/plain": [
       "Empty DataFrame\n",
       "Columns: [id, prompt, response_a, response_b, winner, model_a, model_b, language, encode_fail, class_label]\n",
       "Index: []"
      ]
     },
     "execution_count": 29,
     "metadata": {},
     "output_type": "execute_result"
    }
   ],
   "source": [
    "df_train[df_train.duplicated(['id'], keep=False)]"
   ]
  },
  {
   "cell_type": "markdown",
   "metadata": {},
   "source": [
    "### Minimum length"
   ]
  },
  {
   "cell_type": "markdown",
   "metadata": {},
   "source": [
    "Maybe better to check minimum number of token instead ?"
   ]
  },
  {
   "cell_type": "markdown",
   "metadata": {},
   "source": [
    "#### Add length"
   ]
  },
  {
   "cell_type": "code",
   "execution_count": 30,
   "metadata": {},
   "outputs": [],
   "source": [
    "for col in [\"prompt\", \"response_a\", \"response_b\"]:\n",
    "    df_train[f\"{col}_len\"] = df_train[f\"{col}\"].str.len()"
   ]
  },
  {
   "cell_type": "markdown",
   "metadata": {},
   "source": [
    "#### Check"
   ]
  },
  {
   "cell_type": "code",
   "execution_count": 31,
   "metadata": {},
   "outputs": [],
   "source": [
    "for col in [\"prompt\", \"response_a\", \"response_b\"]:\n",
    "    df_filtered = df_train.loc[df_train[f\"{col}_len\"] <= 10]"
   ]
  },
  {
   "cell_type": "code",
   "execution_count": 32,
   "metadata": {},
   "outputs": [
    {
     "data": {
      "text/plain": [
       "176"
      ]
     },
     "execution_count": 32,
     "metadata": {},
     "output_type": "execute_result"
    }
   ],
   "source": [
    "df_filtered.shape[0]"
   ]
  },
  {
   "cell_type": "markdown",
   "metadata": {},
   "source": [
    "----------------------------------------------------------------------"
   ]
  },
  {
   "cell_type": "markdown",
   "metadata": {},
   "source": [
    "# EDA"
   ]
  },
  {
   "cell_type": "code",
   "execution_count": 33,
   "metadata": {},
   "outputs": [],
   "source": [
    "sns.set(style='darkgrid')"
   ]
  },
  {
   "cell_type": "code",
   "execution_count": 34,
   "metadata": {},
   "outputs": [
    {
     "data": {
      "text/plain": [
       "(48439, 13)"
      ]
     },
     "execution_count": 34,
     "metadata": {},
     "output_type": "execute_result"
    }
   ],
   "source": [
    "df_train.shape"
   ]
  },
  {
   "cell_type": "markdown",
   "metadata": {},
   "source": [
    "### Distribution of LLMs"
   ]
  },
  {
   "cell_type": "code",
   "execution_count": 35,
   "metadata": {},
   "outputs": [
    {
     "data": {
      "image/png": "[encoded data removed]",
      "text/plain": [
       "<Figure size 1200x800 with 1 Axes>"
      ]
     },
     "metadata": {},
     "output_type": "display_data"
    }
   ],
   "source": [
    "# Count the occurrences of each model in 'model_a'\n",
    "model_df = pd.concat([df_train.model_a, df_train.model_b])\n",
    "\n",
    "counts = model_df.value_counts().reset_index()\n",
    "counts.columns = ['LLM', 'Count']\n",
    "\n",
    "# Create the bar chart\n",
    "plt.figure(figsize=(12, 8))  # Adjust figure size as needed\n",
    "plt.bar(counts['LLM'], counts['Count'])\n",
    "plt.xlabel('Models')\n",
    "plt.ylabel('Count')\n",
    "plt.title('Distribution of Models')\n",
    "plt.xticks(rotation=90, ha='right')  # Rotate x-axis labels for better readability\n",
    "plt.tight_layout()  # Adjust layout to prevent labels from overlapping\n",
    "plt.show()"
   ]
  },
  {
   "cell_type": "markdown",
   "metadata": {},
   "source": [
    "### Distribution of languages"
   ]
  },
  {
   "cell_type": "code",
   "execution_count": 36,
   "metadata": {},
   "outputs": [
    {
     "data": {
      "image/png": "[encoded data removed]",
      "text/plain": [
       "<Figure size 1200x800 with 1 Axes>"
      ]
     },
     "metadata": {},
     "output_type": "display_data"
    }
   ],
   "source": [
    "model_df = df_train['language']\n",
    "\n",
    "counts = model_df.value_counts().reset_index()\n",
    "counts.columns = ['Language', 'Count']\n",
    "\n",
    "# Create the bar chart\n",
    "plt.figure(figsize=(12, 8))  # Adjust figure size as needed\n",
    "plt.bar(counts['Language'], counts['Count'])\n",
    "plt.xlabel('Language')\n",
    "plt.ylabel('Count')\n",
    "plt.title('Distribution of Languages')\n",
    "plt.xticks(rotation=90, ha='right')  # Rotate x-axis labels for better readability\n",
    "plt.tight_layout()  # Adjust layout to prevent labels from overlapping\n",
    "plt.show()"
   ]
  },
  {
   "cell_type": "markdown",
   "metadata": {},
   "source": [
    "### Winner Distribution"
   ]
  },
  {
   "cell_type": "code",
   "execution_count": 37,
   "metadata": {},
   "outputs": [
    {
     "data": {
      "image/png": "[encoded data removed]",
      "text/plain": [
       "<Figure size 1200x800 with 1 Axes>"
      ]
     },
     "metadata": {},
     "output_type": "display_data"
    }
   ],
   "source": [
    "model_df = df_train['winner']\n",
    "\n",
    "counts = model_df.value_counts().reset_index()\n",
    "counts.columns = ['Language', 'Count']\n",
    "\n",
    "# Create the bar chart\n",
    "plt.figure(figsize=(12, 8))  # Adjust figure size as needed\n",
    "plt.bar(counts['Language'], counts['Count'])\n",
    "plt.xlabel('Wins')\n",
    "plt.ylabel('Count')\n",
    "plt.title('Distribution of label')\n",
    "plt.xticks(rotation=90, ha='right')  # Rotate x-axis labels for better readability\n",
    "plt.tight_layout()  # Adjust layout to prevent labels from overlapping\n",
    "plt.show()"
   ]
  },
  {
   "cell_type": "markdown",
   "metadata": {},
   "source": [
    "swap a/b to have perfect match between the 2 and avoid any possible position bias ?"
   ]
  },
  {
   "cell_type": "markdown",
   "metadata": {},
   "source": [
    "### Distribution of length"
   ]
  },
  {
   "cell_type": "markdown",
   "metadata": {},
   "source": [
    "(todo: do boxplot)"
   ]
  },
  {
   "cell_type": "code",
   "execution_count": 38,
   "metadata": {},
   "outputs": [
    {
     "data": {
      "image/png": "[encoded data removed]",
      "text/plain": [
       "<Figure size 640x480 with 1 Axes>"
      ]
     },
     "metadata": {},
     "output_type": "display_data"
    },
    {
     "data": {
      "image/png": "[encoded data removed]",
      "text/plain": [
       "<Figure size 640x480 with 1 Axes>"
      ]
     },
     "metadata": {},
     "output_type": "display_data"
    },
    {
     "data": {
      "image/png": "[encoded data removed]",
      "text/plain": [
       "<Figure size 640x480 with 1 Axes>"
      ]
     },
     "metadata": {},
     "output_type": "display_data"
    }
   ],
   "source": [
    "for col in [\"prompt\", \"response_a\", \"response_b\"]:\n",
    "    plt.hist(df_train[f\"{col}_len\"], bins=20)\n",
    "    plt.xlabel('Response Length')\n",
    "    plt.ylabel('Str Len')\n",
    "    plt.title(f'Distribution of {col} Length')\n",
    "    plt.show()"
   ]
  },
  {
   "cell_type": "markdown",
   "metadata": {},
   "source": [
    "# Feature Engineering"
   ]
  },
  {
   "cell_type": "code",
   "execution_count": 39,
   "metadata": {},
   "outputs": [],
   "source": [
    "df_train.drop('model_a', axis=1, inplace=True)\n",
    "df_train.drop('model_b', axis=1, inplace=True)\n",
    "#df_train.drop('language', axis=1, inplace=True)\n",
    "df_train.drop('encode_fail', axis=1, inplace=True)"
   ]
  },
  {
   "cell_type": "markdown",
   "metadata": {},
   "source": [
    "### Add sentiment polarity (with TextBlob)"
   ]
  },
  {
   "cell_type": "markdown",
   "metadata": {},
   "source": [
    "### Add cosine similarity"
   ]
  },
  {
   "cell_type": "code",
   "execution_count": 40,
   "metadata": {},
   "outputs": [
    {
     "name": "stdout",
     "output_type": "stream",
     "text": [
      "Error processing document 727: empty vocabulary; perhaps the documents only contain stop words\n",
      "Error processing document 1345: empty vocabulary; perhaps the documents only contain stop words\n",
      "Error processing document 3289: empty vocabulary; perhaps the documents only contain stop words\n",
      "Error processing document 3907: empty vocabulary; perhaps the documents only contain stop words\n",
      "Error processing document 5182: empty vocabulary; perhaps the documents only contain stop words\n",
      "Error processing document 6770: empty vocabulary; perhaps the documents only contain stop words\n",
      "Error processing document 7439: empty vocabulary; perhaps the documents only contain stop words\n",
      "Error processing document 7630: empty vocabulary; perhaps the documents only contain stop words\n",
      "Error processing document 10565: empty vocabulary; perhaps the documents only contain stop words\n",
      "Error processing document 12292: empty vocabulary; perhaps the documents only contain stop words\n",
      "Error processing document 13813: empty vocabulary; perhaps the documents only contain stop words\n",
      "Error processing document 14415: empty vocabulary; perhaps the documents only contain stop words\n",
      "Error processing document 15491: empty vocabulary; perhaps the documents only contain stop words\n",
      "Error processing document 16599: empty vocabulary; perhaps the documents only contain stop words\n",
      "Error processing document 18455: empty vocabulary; perhaps the documents only contain stop words\n",
      "Error processing document 19056: empty vocabulary; perhaps the documents only contain stop words\n",
      "Error processing document 19191: empty vocabulary; perhaps the documents only contain stop words\n",
      "Error processing document 21072: empty vocabulary; perhaps the documents only contain stop words\n",
      "Error processing document 23140: empty vocabulary; perhaps the documents only contain stop words\n",
      "Error processing document 23494: empty vocabulary; perhaps the documents only contain stop words\n",
      "Error processing document 23792: empty vocabulary; perhaps the documents only contain stop words\n",
      "Error processing document 23867: empty vocabulary; perhaps the documents only contain stop words\n",
      "Error processing document 24774: empty vocabulary; perhaps the documents only contain stop words\n",
      "Error processing document 26789: empty vocabulary; perhaps the documents only contain stop words\n",
      "Error processing document 26868: empty vocabulary; perhaps the documents only contain stop words\n",
      "Error processing document 27420: empty vocabulary; perhaps the documents only contain stop words\n",
      "Error processing document 28958: empty vocabulary; perhaps the documents only contain stop words\n",
      "Error processing document 29510: empty vocabulary; perhaps the documents only contain stop words\n",
      "Error processing document 29983: empty vocabulary; perhaps the documents only contain stop words\n",
      "Error processing document 30200: empty vocabulary; perhaps the documents only contain stop words\n",
      "Error processing document 32094: empty vocabulary; perhaps the documents only contain stop words\n",
      "Error processing document 33372: empty vocabulary; perhaps the documents only contain stop words\n",
      "Error processing document 33733: empty vocabulary; perhaps the documents only contain stop words\n",
      "Error processing document 34153: empty vocabulary; perhaps the documents only contain stop words\n",
      "Error processing document 34405: empty vocabulary; perhaps the documents only contain stop words\n",
      "Error processing document 34877: empty vocabulary; perhaps the documents only contain stop words\n",
      "Error processing document 39953: empty vocabulary; perhaps the documents only contain stop words\n",
      "Error processing document 39954: empty vocabulary; perhaps the documents only contain stop words\n",
      "Error processing document 39969: empty vocabulary; perhaps the documents only contain stop words\n",
      "Error processing document 41403: empty vocabulary; perhaps the documents only contain stop words\n",
      "Error processing document 45374: empty vocabulary; perhaps the documents only contain stop words\n",
      "Error processing document 45760: empty vocabulary; perhaps the documents only contain stop words\n",
      "Error processing document 46049: empty vocabulary; perhaps the documents only contain stop words\n",
      "Error processing document 46334: empty vocabulary; perhaps the documents only contain stop words\n",
      "Error processing document 46439: empty vocabulary; perhaps the documents only contain stop words\n",
      "Error processing document 46636: empty vocabulary; perhaps the documents only contain stop words\n",
      "Error processing document 47210: empty vocabulary; perhaps the documents only contain stop words\n"
     ]
    }
   ],
   "source": [
    "#df = add_computed_feats(df)\n",
    "#df = add_sentiment_polarity(df)\n",
    "#df = add_cosine_similarity(df)\n",
    "\n",
    "df_train = Utils.extract_all_features(df_train)"
   ]
  },
  {
   "cell_type": "code",
   "execution_count": 41,
   "metadata": {},
   "outputs": [
    {
     "data": {
      "text/html": [
       "<div>\n",
       "<style scoped>\n",
       "    .dataframe tbody tr th:only-of-type {\n",
       "        vertical-align: middle;\n",
       "    }\n",
       "\n",
       "    .dataframe tbody tr th {\n",
       "        vertical-align: top;\n",
       "    }\n",
       "\n",
       "    .dataframe thead th {\n",
       "        text-align: right;\n",
       "    }\n",
       "</style>\n",
       "<table border=\"1\" class=\"dataframe\">\n",
       "  <thead>\n",
       "    <tr style=\"text-align: right;\">\n",
       "      <th></th>\n",
       "      <th>id</th>\n",
       "      <th>prompt</th>\n",
       "      <th>response_a</th>\n",
       "      <th>response_b</th>\n",
       "      <th>winner</th>\n",
       "      <th>language</th>\n",
       "      <th>class_label</th>\n",
       "      <th>prompt_len</th>\n",
       "      <th>response_a_len</th>\n",
       "      <th>response_b_len</th>\n",
       "      <th>...</th>\n",
       "      <th>prompt_chinese</th>\n",
       "      <th>prompt_round_balance</th>\n",
       "      <th>prompt_curly_balance</th>\n",
       "      <th>prompt_json</th>\n",
       "      <th>prompt_sentiment</th>\n",
       "      <th>response_a_sentiment</th>\n",
       "      <th>response_b_sentiment</th>\n",
       "      <th>cosine_similarity_a</th>\n",
       "      <th>cosine_similarity_b</th>\n",
       "      <th>cosine_similarity_diff</th>\n",
       "    </tr>\n",
       "  </thead>\n",
       "  <tbody>\n",
       "    <tr>\n",
       "      <th>0</th>\n",
       "      <td>00007cff95d7f7974642a785aca248b0f26e60d3312fac...</td>\n",
       "      <td>vieš po Slovensky?</td>\n",
       "      <td>Áno, hovorím po slovensky. Ako vám môžem pomôcť?</td>\n",
       "      <td>Áno, veď som tu! Môžem ti pomôcť s otázkami al...</td>\n",
       "      <td>model_a</td>\n",
       "      <td>Slovak</td>\n",
       "      <td>0</td>\n",
       "      <td>18</td>\n",
       "      <td>48</td>\n",
       "      <td>194</td>\n",
       "      <td>...</td>\n",
       "      <td>0.0</td>\n",
       "      <td>0</td>\n",
       "      <td>0</td>\n",
       "      <td>0</td>\n",
       "      <td>0.000000</td>\n",
       "      <td>0.00000</td>\n",
       "      <td>0.00</td>\n",
       "      <td>0.816497</td>\n",
       "      <td>0.000000</td>\n",
       "      <td>0.816497</td>\n",
       "    </tr>\n",
       "    <tr>\n",
       "      <th>1</th>\n",
       "      <td>00010ed04b536f56ebe43eef1100c13906abea12bf9855...</td>\n",
       "      <td>You will be given a piece of news. Analyze it ...</td>\n",
       "      <td>Let's break down the news and analyze it accor...</td>\n",
       "      <td>```json\\n{\\n  \"contains_orgs\": true,\\n  \"orgs\"...</td>\n",
       "      <td>model_a</td>\n",
       "      <td>Russian</td>\n",
       "      <td>0</td>\n",
       "      <td>2838</td>\n",
       "      <td>1414</td>\n",
       "      <td>183</td>\n",
       "      <td>...</td>\n",
       "      <td>0.0</td>\n",
       "      <td>0</td>\n",
       "      <td>0</td>\n",
       "      <td>1</td>\n",
       "      <td>0.055303</td>\n",
       "      <td>0.00793</td>\n",
       "      <td>-0.26</td>\n",
       "      <td>0.504042</td>\n",
       "      <td>0.213789</td>\n",
       "      <td>0.290253</td>\n",
       "    </tr>\n",
       "  </tbody>\n",
       "</table>\n",
       "<p>2 rows × 70 columns</p>\n",
       "</div>"
      ],
      "text/plain": [
       "                                                  id  \\\n",
       "0  00007cff95d7f7974642a785aca248b0f26e60d3312fac...   \n",
       "1  00010ed04b536f56ebe43eef1100c13906abea12bf9855...   \n",
       "\n",
       "                                              prompt  \\\n",
       "0                                 vieš po Slovensky?   \n",
       "1  You will be given a piece of news. Analyze it ...   \n",
       "\n",
       "                                          response_a  \\\n",
       "0   Áno, hovorím po slovensky. Ako vám môžem pomôcť?   \n",
       "1  Let's break down the news and analyze it accor...   \n",
       "\n",
       "                                          response_b   winner language  \\\n",
       "0  Áno, veď som tu! Môžem ti pomôcť s otázkami al...  model_a   Slovak   \n",
       "1  ```json\\n{\\n  \"contains_orgs\": true,\\n  \"orgs\"...  model_a  Russian   \n",
       "\n",
       "   class_label  prompt_len  response_a_len  response_b_len  ...  \\\n",
       "0            0          18              48             194  ...   \n",
       "1            0        2838            1414             183  ...   \n",
       "\n",
       "   prompt_chinese  prompt_round_balance  prompt_curly_balance  prompt_json  \\\n",
       "0             0.0                     0                     0            0   \n",
       "1             0.0                     0                     0            1   \n",
       "\n",
       "   prompt_sentiment  response_a_sentiment  response_b_sentiment  \\\n",
       "0          0.000000               0.00000                  0.00   \n",
       "1          0.055303               0.00793                 -0.26   \n",
       "\n",
       "   cosine_similarity_a  cosine_similarity_b  cosine_similarity_diff  \n",
       "0             0.816497             0.000000                0.816497  \n",
       "1             0.504042             0.213789                0.290253  \n",
       "\n",
       "[2 rows x 70 columns]"
      ]
     },
     "execution_count": 41,
     "metadata": {},
     "output_type": "execute_result"
    }
   ],
   "source": [
    "df_train.head(2)"
   ]
  },
  {
   "cell_type": "markdown",
   "metadata": {},
   "source": [
    "### check nans"
   ]
  },
  {
   "cell_type": "code",
   "execution_count": 46,
   "metadata": {},
   "outputs": [
    {
     "data": {
      "text/plain": [
       "0"
      ]
     },
     "execution_count": 46,
     "metadata": {},
     "output_type": "execute_result"
    }
   ],
   "source": [
    "df_train.isnull().T.any().sum()"
   ]
  },
  {
   "cell_type": "markdown",
   "metadata": {},
   "source": [
    "# Swap a/b (used for multithreaded trainning DDP)"
   ]
  },
  {
   "cell_type": "code",
   "execution_count": 42,
   "metadata": {},
   "outputs": [],
   "source": [
    "swapped = df_train.copy()"
   ]
  },
  {
   "cell_type": "code",
   "execution_count": 43,
   "metadata": {},
   "outputs": [
    {
     "data": {
      "text/html": [
       "<div>\n",
       "<style scoped>\n",
       "    .dataframe tbody tr th:only-of-type {\n",
       "        vertical-align: middle;\n",
       "    }\n",
       "\n",
       "    .dataframe tbody tr th {\n",
       "        vertical-align: top;\n",
       "    }\n",
       "\n",
       "    .dataframe thead th {\n",
       "        text-align: right;\n",
       "    }\n",
       "</style>\n",
       "<table border=\"1\" class=\"dataframe\">\n",
       "  <thead>\n",
       "    <tr style=\"text-align: right;\">\n",
       "      <th></th>\n",
       "      <th>id</th>\n",
       "      <th>prompt</th>\n",
       "      <th>response_a</th>\n",
       "      <th>response_b</th>\n",
       "      <th>winner</th>\n",
       "      <th>language</th>\n",
       "      <th>class_label</th>\n",
       "      <th>prompt_len</th>\n",
       "      <th>response_a_len</th>\n",
       "      <th>response_b_len</th>\n",
       "      <th>...</th>\n",
       "      <th>prompt_chinese</th>\n",
       "      <th>prompt_round_balance</th>\n",
       "      <th>prompt_curly_balance</th>\n",
       "      <th>prompt_json</th>\n",
       "      <th>prompt_sentiment</th>\n",
       "      <th>response_a_sentiment</th>\n",
       "      <th>response_b_sentiment</th>\n",
       "      <th>cosine_similarity_a</th>\n",
       "      <th>cosine_similarity_b</th>\n",
       "      <th>cosine_similarity_diff</th>\n",
       "    </tr>\n",
       "  </thead>\n",
       "  <tbody>\n",
       "    <tr>\n",
       "      <th>0</th>\n",
       "      <td>00007cff95d7f7974642a785aca248b0f26e60d3312fac...</td>\n",
       "      <td>vieš po Slovensky?</td>\n",
       "      <td>Áno, veď som tu! Môžem ti pomôcť s otázkami al...</td>\n",
       "      <td>Áno, hovorím po slovensky. Ako vám môžem pomôcť?</td>\n",
       "      <td>model_b</td>\n",
       "      <td>Slovak</td>\n",
       "      <td>1</td>\n",
       "      <td>18</td>\n",
       "      <td>194</td>\n",
       "      <td>48</td>\n",
       "      <td>...</td>\n",
       "      <td>0.0</td>\n",
       "      <td>0</td>\n",
       "      <td>0</td>\n",
       "      <td>0</td>\n",
       "      <td>0.000000</td>\n",
       "      <td>0.00</td>\n",
       "      <td>0.00000</td>\n",
       "      <td>0.000000</td>\n",
       "      <td>0.816497</td>\n",
       "      <td>-0.816497</td>\n",
       "    </tr>\n",
       "    <tr>\n",
       "      <th>1</th>\n",
       "      <td>00010ed04b536f56ebe43eef1100c13906abea12bf9855...</td>\n",
       "      <td>You will be given a piece of news. Analyze it ...</td>\n",
       "      <td>```json\\n{\\n  \"contains_orgs\": true,\\n  \"orgs\"...</td>\n",
       "      <td>Let's break down the news and analyze it accor...</td>\n",
       "      <td>model_b</td>\n",
       "      <td>Russian</td>\n",
       "      <td>1</td>\n",
       "      <td>2838</td>\n",
       "      <td>183</td>\n",
       "      <td>1414</td>\n",
       "      <td>...</td>\n",
       "      <td>0.0</td>\n",
       "      <td>0</td>\n",
       "      <td>0</td>\n",
       "      <td>1</td>\n",
       "      <td>0.055303</td>\n",
       "      <td>-0.26</td>\n",
       "      <td>0.00793</td>\n",
       "      <td>0.213789</td>\n",
       "      <td>0.504042</td>\n",
       "      <td>-0.290253</td>\n",
       "    </tr>\n",
       "  </tbody>\n",
       "</table>\n",
       "<p>2 rows × 70 columns</p>\n",
       "</div>"
      ],
      "text/plain": [
       "                                                  id  \\\n",
       "0  00007cff95d7f7974642a785aca248b0f26e60d3312fac...   \n",
       "1  00010ed04b536f56ebe43eef1100c13906abea12bf9855...   \n",
       "\n",
       "                                              prompt  \\\n",
       "0                                 vieš po Slovensky?   \n",
       "1  You will be given a piece of news. Analyze it ...   \n",
       "\n",
       "                                          response_a  \\\n",
       "0  Áno, veď som tu! Môžem ti pomôcť s otázkami al...   \n",
       "1  ```json\\n{\\n  \"contains_orgs\": true,\\n  \"orgs\"...   \n",
       "\n",
       "                                          response_b   winner language  \\\n",
       "0   Áno, hovorím po slovensky. Ako vám môžem pomôcť?  model_b   Slovak   \n",
       "1  Let's break down the news and analyze it accor...  model_b  Russian   \n",
       "\n",
       "   class_label  prompt_len  response_a_len  response_b_len  ...  \\\n",
       "0            1          18             194              48  ...   \n",
       "1            1        2838             183            1414  ...   \n",
       "\n",
       "   prompt_chinese  prompt_round_balance  prompt_curly_balance  prompt_json  \\\n",
       "0             0.0                     0                     0            0   \n",
       "1             0.0                     0                     0            1   \n",
       "\n",
       "   prompt_sentiment  response_a_sentiment  response_b_sentiment  \\\n",
       "0          0.000000                  0.00               0.00000   \n",
       "1          0.055303                 -0.26               0.00793   \n",
       "\n",
       "   cosine_similarity_a  cosine_similarity_b  cosine_similarity_diff  \n",
       "0             0.000000             0.816497               -0.816497  \n",
       "1             0.213789             0.504042               -0.290253  \n",
       "\n",
       "[2 rows x 70 columns]"
      ]
     },
     "execution_count": 43,
     "metadata": {},
     "output_type": "execute_result"
    }
   ],
   "source": [
    "def swap_columns(df, col1, col2):\n",
    "    col_list = list(df.columns)\n",
    "    x, y = df[col1].values, df[col2].values\n",
    "    df[col1] = y\n",
    "    df[col2] = x\n",
    "\n",
    "swap_columns(swapped, f'response_a', f'response_b')\n",
    "\n",
    "for feat in Utils.feature_list_bycol:\n",
    "    swap_columns(swapped, f'response_a{feat}', f'response_b{feat}')\n",
    "\n",
    "swap_columns(swapped, f'cosine_similarity_a', f'cosine_similarity_b')\n",
    "swapped['cosine_similarity_diff'] = swapped['cosine_similarity_diff'] * -1\n",
    "swapped['class_label'] = abs(swapped['class_label'] - 1)\n",
    "\n",
    "def swap_winner(winner):\n",
    "    if winner=='model_b':\n",
    "        return 'model_a'\n",
    "    elif winner=='model_a':\n",
    "        return 'model_b'\n",
    "\n",
    "swapped['winner'] = swapped['winner'].apply(swap_winner)\n",
    "\n",
    "swapped.head(2)"
   ]
  },
  {
   "cell_type": "markdown",
   "metadata": {},
   "source": [
    "# Save CSV"
   ]
  },
  {
   "cell_type": "code",
   "execution_count": 44,
   "metadata": {},
   "outputs": [],
   "source": [
    "runType = \"MINI\" if MINI_RUN else \"FULL\"\n",
    "original = \"original\" if ORIGINAL else \"custom\"\n",
    "\n",
    "\n",
    "df_train.to_csv(f'../Data/Preprocessed/train_preprocessed_{runType}_{original}.csv', index = False)\n",
    "swapped.to_csv(f'../Data/Preprocessed/train_preprocessed_swapped_{runType}_{original}.csv', index = False)"
   ]
  },
  {
   "cell_type": "markdown",
   "metadata": {},
   "source": [
    "# Only English"
   ]
  },
  {
   "cell_type": "code",
   "execution_count": 45,
   "metadata": {},
   "outputs": [],
   "source": [
    "df_en = df_train[df_train['language'] == 'English']\n",
    "df_en.to_csv(f'../Data/Preprocessed/train_preprocessed_{runType}_EN.csv', index = False)\n",
    "df_en_swap = swapped[swapped['language'] == 'English']\n",
    "df_en_swap.to_csv(f'../Data/Preprocessed/train_preprocessed_swapped_{runType}_EN.csv', index = False)"
   ]
  }
 ],
 "metadata": {
  "kernelspec": {
   "display_name": ".venv",
   "language": "python",
   "name": "python3"
  },
  "language_info": {
   "codemirror_mode": {
    "name": "ipython",
    "version": 3
   },
   "file_extension": ".py",
   "mimetype": "text/x-python",
   "name": "python",
   "nbconvert_exporter": "python",
   "pygments_lexer": "ipython3",
   "version": "3.11.5"
  }
 },
 "nbformat": 4,
 "nbformat_minor": 2
}
