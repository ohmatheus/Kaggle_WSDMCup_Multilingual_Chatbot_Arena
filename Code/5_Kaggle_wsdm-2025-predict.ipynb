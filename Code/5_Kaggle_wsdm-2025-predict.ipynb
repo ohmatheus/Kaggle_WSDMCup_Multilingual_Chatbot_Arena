{
 "cells": [
  {
   "cell_type": "markdown",
   "id": "f736e162",
   "metadata": {
    "_cell_guid": "79baff96-0450-4344-905b-73f4686246fd",
    "_uuid": "8fae4cc9-73ea-4ef4-b764-b80717fca22d",
    "collapsed": false,
    "jupyter": {
     "outputs_hidden": false
    },
    "papermill": {
     "duration": 0.006513,
     "end_time": "2025-01-14T07:29:25.776435",
     "exception": false,
     "start_time": "2025-01-14T07:29:25.769922",
     "status": "completed"
    },
    "tags": []
   },
   "source": [
    "# Kaggle Predict"
   ]
  },
  {
   "cell_type": "markdown",
   "id": "9d7c2e6b",
   "metadata": {
    "_cell_guid": "7a2c3012-7628-4774-a95b-3d78b27b747e",
    "_uuid": "60e4fd72-1598-4a25-88c9-52f8b94311d5",
    "collapsed": false,
    "jupyter": {
     "outputs_hidden": false
    },
    "papermill": {
     "duration": 0.005612,
     "end_time": "2025-01-14T07:29:25.787927",
     "exception": false,
     "start_time": "2025-01-14T07:29:25.782315",
     "status": "completed"
    },
    "tags": []
   },
   "source": [
    "## Imports"
   ]
  },
  {
   "cell_type": "code",
   "execution_count": 1,
   "id": "46f6f196",
   "metadata": {
    "_cell_guid": "95b4f567-ccf9-4e5b-8cd2-96493ab6996d",
    "_uuid": "c656c4ac-0537-4fb0-aa0e-92ed1fda11bb",
    "collapsed": false,
    "execution": {
     "iopub.execute_input": "2025-01-14T07:29:25.800139Z",
     "iopub.status.busy": "2025-01-14T07:29:25.799847Z",
     "iopub.status.idle": "2025-01-14T07:29:29.317083Z",
     "shell.execute_reply": "2025-01-14T07:29:29.315839Z"
    },
    "jupyter": {
     "outputs_hidden": false
    },
    "papermill": {
     "duration": 3.52587,
     "end_time": "2025-01-14T07:29:29.319267",
     "exception": false,
     "start_time": "2025-01-14T07:29:25.793397",
     "status": "completed"
    },
    "tags": []
   },
   "outputs": [
    {
     "name": "stdout",
     "output_type": "stream",
     "text": [
      "Transformers: 4.47.1\n"
     ]
    }
   ],
   "source": [
    "import transformers as trsf\n",
    "print(\"Transformers:\", trsf.__version__)"
   ]
  },
  {
   "cell_type": "code",
   "execution_count": 2,
   "id": "ba910a66",
   "metadata": {
    "_cell_guid": "6ee595ee-0b8f-4f49-b73c-566e022c7a53",
    "_uuid": "c1cdab4b-8e3f-4946-bfae-b69377e79b4c",
    "collapsed": false,
    "execution": {
     "iopub.execute_input": "2025-01-14T07:29:29.339745Z",
     "iopub.status.busy": "2025-01-14T07:29:29.339365Z",
     "iopub.status.idle": "2025-01-14T07:29:40.273183Z",
     "shell.execute_reply": "2025-01-14T07:29:40.272467Z"
    },
    "jupyter": {
     "outputs_hidden": false
    },
    "papermill": {
     "duration": 10.943956,
     "end_time": "2025-01-14T07:29:40.274878",
     "exception": false,
     "start_time": "2025-01-14T07:29:29.330922",
     "status": "completed"
    },
    "tags": []
   },
   "outputs": [],
   "source": [
    "import os\n",
    "import copy\n",
    "from dataclasses import dataclass\n",
    "import pickle\n",
    "from timeit import default_timer as timer\n",
    "import numpy as np\n",
    "import pandas as pd\n",
    "\n",
    "import torch\n",
    "import torch.nn as nn\n",
    "import torch.optim as optim\n",
    "from torch.utils.data import Dataset, DataLoader\n",
    "import torch.nn.functional as F\n",
    "from torch import Tensor\n",
    "\n",
    "#from datasets import Dataset\n",
    "\n",
    "from tqdm import tqdm\n",
    "\n",
    "from transformers import (\n",
    "    BitsAndBytesConfig,\n",
    "    GemmaTokenizerFast,\n",
    "    AutoModelForSequenceClassification,\n",
    "    AutoTokenizer,\n",
    "    AutoModel,\n",
    "    get_cosine_schedule_with_warmup,\n",
    ")\n",
    "\n",
    "from peft import PeftModel, LoraConfig, get_peft_model, prepare_model_for_kbit_training, TaskType\n",
    "\n",
    "from sklearn.metrics import log_loss, accuracy_score\n",
    "from sklearn.model_selection import train_test_split\n",
    "\n",
    "#import ModelsUtils as Utils\n",
    "import wsdm_modelutils as Utils"
   ]
  },
  {
   "cell_type": "code",
   "execution_count": 3,
   "id": "2989fe91",
   "metadata": {
    "_cell_guid": "a237db0f-1d0e-4e9c-ac5d-b47d8041584f",
    "_uuid": "08ce20e0-a16a-4c5c-8fcb-f1df3bbb3838",
    "collapsed": false,
    "execution": {
     "iopub.execute_input": "2025-01-14T07:29:40.287992Z",
     "iopub.status.busy": "2025-01-14T07:29:40.287441Z",
     "iopub.status.idle": "2025-01-14T07:29:40.291765Z",
     "shell.execute_reply": "2025-01-14T07:29:40.290989Z"
    },
    "jupyter": {
     "outputs_hidden": false
    },
    "papermill": {
     "duration": 0.011913,
     "end_time": "2025-01-14T07:29:40.293053",
     "exception": false,
     "start_time": "2025-01-14T07:29:40.281140",
     "status": "completed"
    },
    "tags": []
   },
   "outputs": [
    {
     "name": "stdout",
     "output_type": "stream",
     "text": [
      "Peft: 0.14.0\n"
     ]
    }
   ],
   "source": [
    "import peft as pft\n",
    "print(\"Peft:\", pft.__version__)"
   ]
  },
  {
   "cell_type": "code",
   "execution_count": 4,
   "id": "81b0fde5",
   "metadata": {
    "_cell_guid": "00142c87-3b04-42cc-bde3-c5796844a017",
    "_uuid": "adb38371-6423-4abb-a7f2-3c315e689c10",
    "collapsed": false,
    "execution": {
     "iopub.execute_input": "2025-01-14T07:29:40.305239Z",
     "iopub.status.busy": "2025-01-14T07:29:40.305038Z",
     "iopub.status.idle": "2025-01-14T07:29:40.374709Z",
     "shell.execute_reply": "2025-01-14T07:29:40.373831Z"
    },
    "jupyter": {
     "outputs_hidden": false
    },
    "papermill": {
     "duration": 0.077232,
     "end_time": "2025-01-14T07:29:40.376054",
     "exception": false,
     "start_time": "2025-01-14T07:29:40.298822",
     "status": "completed"
    },
    "tags": []
   },
   "outputs": [
    {
     "name": "stdout",
     "output_type": "stream",
     "text": [
      "Torch version: 2.4.1+cu121\n",
      "Torch is build with CUDA: True\n",
      "Torch device : cuda:0\n",
      "------------------------------\n"
     ]
    }
   ],
   "source": [
    "print('Torch version:', torch.__version__)\n",
    "print('Torch is build with CUDA:', torch.cuda.is_available())\n",
    "device = torch.device(\"cuda:0\" if torch.cuda.is_available() else \"cpu\")\n",
    "print(f'Torch device : {device}')\n",
    "print('------------------------------')"
   ]
  },
  {
   "cell_type": "code",
   "execution_count": 5,
   "id": "2c0aea42",
   "metadata": {
    "execution": {
     "iopub.execute_input": "2025-01-14T07:29:40.389012Z",
     "iopub.status.busy": "2025-01-14T07:29:40.388754Z",
     "iopub.status.idle": "2025-01-14T07:29:40.420441Z",
     "shell.execute_reply": "2025-01-14T07:29:40.419816Z"
    },
    "papermill": {
     "duration": 0.039278,
     "end_time": "2025-01-14T07:29:40.421668",
     "exception": false,
     "start_time": "2025-01-14T07:29:40.382390",
     "status": "completed"
    },
    "tags": []
   },
   "outputs": [
    {
     "data": {
      "text/plain": [
       "[0, 1]"
      ]
     },
     "execution_count": 5,
     "metadata": {},
     "output_type": "execute_result"
    }
   ],
   "source": [
    "device_ids = list(range(torch.cuda.device_count()))\n",
    "device_ids"
   ]
  },
  {
   "cell_type": "markdown",
   "id": "a93d9a6a",
   "metadata": {
    "_cell_guid": "4f377040-831f-4219-a96a-87fab76b027e",
    "_uuid": "43e9c741-6dbb-4cbe-9f75-ca7274b7a2f2",
    "collapsed": false,
    "jupyter": {
     "outputs_hidden": false
    },
    "papermill": {
     "duration": 0.00552,
     "end_time": "2025-01-14T07:29:40.433037",
     "exception": false,
     "start_time": "2025-01-14T07:29:40.427517",
     "status": "completed"
    },
    "tags": []
   },
   "source": [
    "## Config"
   ]
  },
  {
   "cell_type": "code",
   "execution_count": 6,
   "id": "2cc64c6c",
   "metadata": {
    "_cell_guid": "a5c3a312-8c21-4708-908b-fe45eb4149d7",
    "_uuid": "9ae40850-0dc1-46a5-ae2b-190c5f35ce1f",
    "collapsed": false,
    "execution": {
     "iopub.execute_input": "2025-01-14T07:29:40.446785Z",
     "iopub.status.busy": "2025-01-14T07:29:40.446534Z",
     "iopub.status.idle": "2025-01-14T07:29:40.456016Z",
     "shell.execute_reply": "2025-01-14T07:29:40.455202Z"
    },
    "jupyter": {
     "outputs_hidden": false
    },
    "papermill": {
     "duration": 0.017181,
     "end_time": "2025-01-14T07:29:40.457342",
     "exception": false,
     "start_time": "2025-01-14T07:29:40.440161",
     "status": "completed"
    },
    "tags": []
   },
   "outputs": [
    {
     "data": {
      "text/plain": [
       "'gemma2_9b_fp16_4bit_h1536'"
      ]
     },
     "execution_count": 6,
     "metadata": {},
     "output_type": "execute_result"
    }
   ],
   "source": [
    "config_file = '/kaggle/input/configs/Configs.py'\n",
    "manager = Utils.ConfigManager(config_file)\n",
    "\n",
    "config = manager.gemma2_9b_fp16_4bit_h1536\n",
    "\n",
    "config.config_name"
   ]
  },
  {
   "cell_type": "code",
   "execution_count": 7,
   "id": "ec505eb0",
   "metadata": {
    "_cell_guid": "f1b5d674-e3f6-40d2-9dfb-5ef078176905",
    "_uuid": "5eb22174-aeec-42db-b05e-7a94ba69f835",
    "collapsed": false,
    "execution": {
     "iopub.execute_input": "2025-01-14T07:29:40.470038Z",
     "iopub.status.busy": "2025-01-14T07:29:40.469821Z",
     "iopub.status.idle": "2025-01-14T07:29:40.473034Z",
     "shell.execute_reply": "2025-01-14T07:29:40.472238Z"
    },
    "jupyter": {
     "outputs_hidden": false
    },
    "papermill": {
     "duration": 0.010704,
     "end_time": "2025-01-14T07:29:40.474288",
     "exception": false,
     "start_time": "2025-01-14T07:29:40.463584",
     "status": "completed"
    },
    "tags": []
   },
   "outputs": [],
   "source": [
    "basemodel_path = '/kaggle/input/gemma2_9b_fp16_4bit/transformers/default/1' #config.basemodel_path #../BaseModel/gemma2_9b_fp16_4bit'\n",
    "#basemodel_path = '/kaggle/input/gemma2_9b_4bit_fp32/other/default/1/gemma2_9b_4bit_fp32' #\"unsloth/gemma-2-9b-it-bnb-4bit\"\n",
    "\n",
    "checkpoint_name = \"Trainned\"\n",
    "kaggle_PeftPath = '/kaggle/input/trainned_2/pytorch/default/1'"
   ]
  },
  {
   "cell_type": "code",
   "execution_count": 8,
   "id": "fe66f61c",
   "metadata": {
    "_cell_guid": "7294f901-d41a-41c4-932c-169ee220b7e7",
    "_uuid": "59f6d093-1b08-430a-b4a3-aea5ebd55d33",
    "collapsed": false,
    "execution": {
     "iopub.execute_input": "2025-01-14T07:29:40.487984Z",
     "iopub.status.busy": "2025-01-14T07:29:40.487700Z",
     "iopub.status.idle": "2025-01-14T07:29:40.624051Z",
     "shell.execute_reply": "2025-01-14T07:29:40.623225Z"
    },
    "jupyter": {
     "outputs_hidden": false
    },
    "papermill": {
     "duration": 0.145161,
     "end_time": "2025-01-14T07:29:40.625340",
     "exception": false,
     "start_time": "2025-01-14T07:29:40.480179",
     "status": "completed"
    },
    "tags": []
   },
   "outputs": [
    {
     "data": {
      "text/plain": [
       "(3, 5)"
      ]
     },
     "execution_count": 8,
     "metadata": {},
     "output_type": "execute_result"
    }
   ],
   "source": [
    "df_test = pd.read_parquet('/kaggle/input/wsdm-cup-multilingual-chatbot-arena/test.parquet', engine='pyarrow') # original\n",
    "\n",
    "#df_train = pd.read_parquet('/kaggle/input/wsdm-cup-multilingual-chatbot-arena/train.parquet', engine='pyarrow') # original\n",
    "#df_test = df_train.iloc[:10200].copy()\n",
    "#df_test = df_train.iloc[:102].copy()\n",
    "\n",
    "#local_max_length = config.max_length\n",
    "local_max_length = 1950\n",
    "#local_batch_size = config.eval_batch\n",
    "local_batch_size = 4\n",
    "\n",
    "df_test.shape"
   ]
  },
  {
   "cell_type": "code",
   "execution_count": 9,
   "id": "654e0c30",
   "metadata": {
    "_cell_guid": "a915795c-5e2c-47ba-967c-81675deb0afa",
    "_uuid": "a3c149b0-3682-452e-a6d4-677a7ddf90c5",
    "collapsed": false,
    "execution": {
     "iopub.execute_input": "2025-01-14T07:29:40.638533Z",
     "iopub.status.busy": "2025-01-14T07:29:40.638309Z",
     "iopub.status.idle": "2025-01-14T07:29:40.646882Z",
     "shell.execute_reply": "2025-01-14T07:29:40.646247Z"
    },
    "jupyter": {
     "outputs_hidden": false
    },
    "papermill": {
     "duration": 0.016211,
     "end_time": "2025-01-14T07:29:40.648090",
     "exception": false,
     "start_time": "2025-01-14T07:29:40.631879",
     "status": "completed"
    },
    "tags": []
   },
   "outputs": [],
   "source": [
    "df_test['prompt'] = df_test['prompt'].astype(str)\n",
    "df_test['response_a'] = df_test['response_a'].astype(str)\n",
    "df_test['response_b'] = df_test['response_b'].astype(str)"
   ]
  },
  {
   "cell_type": "code",
   "execution_count": 10,
   "id": "004711c4",
   "metadata": {
    "_cell_guid": "36967222-638a-4a22-9203-5105b323ddba",
    "_uuid": "b20961d0-3161-44ed-90d0-5d877a3940fb",
    "collapsed": false,
    "execution": {
     "iopub.execute_input": "2025-01-14T07:29:40.660610Z",
     "iopub.status.busy": "2025-01-14T07:29:40.660402Z",
     "iopub.status.idle": "2025-01-14T07:29:40.669646Z",
     "shell.execute_reply": "2025-01-14T07:29:40.669066Z"
    },
    "jupyter": {
     "outputs_hidden": false
    },
    "papermill": {
     "duration": 0.016917,
     "end_time": "2025-01-14T07:29:40.670886",
     "exception": false,
     "start_time": "2025-01-14T07:29:40.653969",
     "status": "completed"
    },
    "tags": []
   },
   "outputs": [],
   "source": [
    "df_test = df_test.apply(Utils.reencode, axis=1)  # Apply the make_pairs function to each row in df\n",
    "df_test = df_test.fillna('')"
   ]
  },
  {
   "cell_type": "code",
   "execution_count": 11,
   "id": "5f2b0ad7",
   "metadata": {
    "_cell_guid": "2b8c0329-8245-4b66-98fe-2a4b8ccc739f",
    "_uuid": "cdfa4688-4226-45c5-b8c0-59182ee32188",
    "collapsed": false,
    "execution": {
     "iopub.execute_input": "2025-01-14T07:29:40.683581Z",
     "iopub.status.busy": "2025-01-14T07:29:40.683378Z",
     "iopub.status.idle": "2025-01-14T07:29:40.788338Z",
     "shell.execute_reply": "2025-01-14T07:29:40.787543Z"
    },
    "jupyter": {
     "outputs_hidden": false
    },
    "papermill": {
     "duration": 0.112689,
     "end_time": "2025-01-14T07:29:40.789650",
     "exception": false,
     "start_time": "2025-01-14T07:29:40.676961",
     "status": "completed"
    },
    "tags": []
   },
   "outputs": [
    {
     "name": "stdout",
     "output_type": "stream",
     "text": [
      "CPU times: user 84.1 ms, sys: 7.21 ms, total: 91.3 ms\n",
      "Wall time: 101 ms\n"
     ]
    }
   ],
   "source": [
    "%%time\n",
    "\n",
    "for col in [\"prompt\", \"response_a\", \"response_b\"]:\n",
    "    df_test[f\"{col}_len\"] = df_test[f\"{col}\"].str.len()\n",
    "\n",
    "df_test = Utils.extract_all_features(df_test)"
   ]
  },
  {
   "cell_type": "markdown",
   "id": "7340edd1",
   "metadata": {
    "_cell_guid": "0b5e00f2-fc48-46a8-b051-acedcae60efa",
    "_uuid": "38889030-2b0d-4dd0-9fd4-ffb488ca8c90",
    "collapsed": false,
    "jupyter": {
     "outputs_hidden": false
    },
    "papermill": {
     "duration": 0.005725,
     "end_time": "2025-01-14T07:29:40.801650",
     "exception": false,
     "start_time": "2025-01-14T07:29:40.795925",
     "status": "completed"
    },
    "tags": []
   },
   "source": [
    "## Tokenize"
   ]
  },
  {
   "cell_type": "code",
   "execution_count": 12,
   "id": "41fd5e51",
   "metadata": {
    "_cell_guid": "f4f7135c-bdcd-46b5-be48-fd09819248be",
    "_uuid": "1e8261e3-d399-408c-b25a-f96a64663590",
    "collapsed": false,
    "execution": {
     "iopub.execute_input": "2025-01-14T07:29:40.814126Z",
     "iopub.status.busy": "2025-01-14T07:29:40.813911Z",
     "iopub.status.idle": "2025-01-14T07:29:42.448576Z",
     "shell.execute_reply": "2025-01-14T07:29:42.447544Z"
    },
    "jupyter": {
     "outputs_hidden": false
    },
    "papermill": {
     "duration": 1.642883,
     "end_time": "2025-01-14T07:29:42.450386",
     "exception": false,
     "start_time": "2025-01-14T07:29:40.807503",
     "status": "completed"
    },
    "tags": []
   },
   "outputs": [],
   "source": [
    "tokenizer = GemmaTokenizerFast.from_pretrained(basemodel_path)\n",
    "tokenizer.add_eos_token = True      # We'll add <eos> at the end\n",
    "tokenizer.padding_side = \"right\""
   ]
  },
  {
   "cell_type": "code",
   "execution_count": 13,
   "id": "bcc2d040",
   "metadata": {
    "_cell_guid": "65b58375-6bfd-46f6-af95-894cbfb14b6d",
    "_uuid": "610c39d0-b26b-4792-957a-8e34416833ee",
    "collapsed": false,
    "execution": {
     "iopub.execute_input": "2025-01-14T07:29:42.464849Z",
     "iopub.status.busy": "2025-01-14T07:29:42.464567Z",
     "iopub.status.idle": "2025-01-14T07:29:42.469474Z",
     "shell.execute_reply": "2025-01-14T07:29:42.468600Z"
    },
    "jupyter": {
     "outputs_hidden": false
    },
    "papermill": {
     "duration": 0.013457,
     "end_time": "2025-01-14T07:29:42.470808",
     "exception": false,
     "start_time": "2025-01-14T07:29:42.457351",
     "status": "completed"
    },
    "tags": []
   },
   "outputs": [
    {
     "data": {
      "text/plain": [
       "(3, 69)"
      ]
     },
     "execution_count": 13,
     "metadata": {},
     "output_type": "execute_result"
    }
   ],
   "source": [
    "df_test.shape"
   ]
  },
  {
   "cell_type": "code",
   "execution_count": 14,
   "id": "21372c0c",
   "metadata": {
    "execution": {
     "iopub.execute_input": "2025-01-14T07:29:42.484117Z",
     "iopub.status.busy": "2025-01-14T07:29:42.483884Z",
     "iopub.status.idle": "2025-01-14T07:29:42.490407Z",
     "shell.execute_reply": "2025-01-14T07:29:42.489796Z"
    },
    "papermill": {
     "duration": 0.014502,
     "end_time": "2025-01-14T07:29:42.491645",
     "exception": false,
     "start_time": "2025-01-14T07:29:42.477143",
     "status": "completed"
    },
    "tags": []
   },
   "outputs": [],
   "source": [
    "#-------------------------------------------------------------------\n",
    "# Tokenization function\n",
    "def tokenize(tokenizer, prompt, response_a, response_b, max_length=256, spread_max_length=False):\n",
    "    prompt = [\"<prompt>: \" + p for p in prompt]\n",
    "    response_a = [\"\\n\\n<response_a>: \" + r_a for r_a in response_a]\n",
    "    response_b = [\"\\n\\n<response_b>: \" + r_b for r_b in response_b]\n",
    "\n",
    "    if spread_max_length:\n",
    "        prompt = tokenizer(prompt, max_length=max_length//3, return_tensors=\"pt\", truncation=True,  padding=\"max_length\").input_ids\n",
    "        response_a = tokenizer(response_a, max_length=max_length//3, return_tensors=\"pt\", truncation=True, padding=\"max_length\").input_ids\n",
    "        response_b = tokenizer(response_b, max_length=max_length//3, return_tensors=\"pt\", truncation=True, padding=\"max_length\").input_ids\n",
    "        input_ids = [p + r_a + r_b for p, r_a, r_b in zip(prompt, response_a, response_b)]\n",
    "        attention_mask = [[1]* len(i) for i in input_ids]\n",
    "    else:\n",
    "        text = [p + r_a + r_b for p, r_a, r_b in zip(prompt, response_a, response_b)]\n",
    "        #tokenized = tokenizer(text, max_length=max_length, return_tensors=\"pt\", padding=False, truncation=True) # padding=False\n",
    "        tokenized = tokenizer(text, max_length=max_length, return_tensors=\"pt\", padding=\"max_length\", truncation=True) # padding=False\n",
    "        input_ids = tokenized.input_ids\n",
    "        attention_mask = tokenized.attention_mask\n",
    "\n",
    "    return {\n",
    "        'input_ids': input_ids,\n",
    "        'attention_mask': attention_mask,\n",
    "        #'token_len': [len(item) for item in input_ids],\n",
    "    }\n",
    "    #return input_ids, attention_mask"
   ]
  },
  {
   "cell_type": "code",
   "execution_count": 15,
   "id": "6dac3f5f",
   "metadata": {
    "execution": {
     "iopub.execute_input": "2025-01-14T07:29:42.504542Z",
     "iopub.status.busy": "2025-01-14T07:29:42.504335Z",
     "iopub.status.idle": "2025-01-14T07:29:42.521265Z",
     "shell.execute_reply": "2025-01-14T07:29:42.520416Z"
    },
    "papermill": {
     "duration": 0.024759,
     "end_time": "2025-01-14T07:29:42.522528",
     "exception": false,
     "start_time": "2025-01-14T07:29:42.497769",
     "status": "completed"
    },
    "tags": []
   },
   "outputs": [
    {
     "name": "stdout",
     "output_type": "stream",
     "text": [
      "CPU times: user 11.9 ms, sys: 1.73 ms, total: 13.6 ms\n",
      "Wall time: 12.6 ms\n"
     ]
    }
   ],
   "source": [
    "%%time\n",
    "def tokenize_df(row):\n",
    "    return tokenize(tokenizer, [row['prompt']], [row['response_a']], [row['response_b']], max_length=local_max_length)\n",
    "\n",
    "df_test['tokens'] = df_test.apply(tokenize_df, axis=1)\n",
    "#df_test[\"input_ids\"], df_test[\"attention_mask\"] = tokenize(tokenizer, df_test['prompt'], df_test['response_a'], df_test['response_b'], max_length=local_max_length)\n"
   ]
  },
  {
   "cell_type": "code",
   "execution_count": 16,
   "id": "e63a7d7e",
   "metadata": {
    "execution": {
     "iopub.execute_input": "2025-01-14T07:29:42.535310Z",
     "iopub.status.busy": "2025-01-14T07:29:42.535104Z",
     "iopub.status.idle": "2025-01-14T07:29:42.538927Z",
     "shell.execute_reply": "2025-01-14T07:29:42.538269Z"
    },
    "papermill": {
     "duration": 0.011423,
     "end_time": "2025-01-14T07:29:42.540043",
     "exception": false,
     "start_time": "2025-01-14T07:29:42.528620",
     "status": "completed"
    },
    "tags": []
   },
   "outputs": [],
   "source": [
    "df_test['len'] = df_test['prompt_len'] + df_test['response_a_len'] + df_test['response_b_len']\n"
   ]
  },
  {
   "cell_type": "code",
   "execution_count": 17,
   "id": "f8a80da9",
   "metadata": {
    "execution": {
     "iopub.execute_input": "2025-01-14T07:29:42.552925Z",
     "iopub.status.busy": "2025-01-14T07:29:42.552685Z",
     "iopub.status.idle": "2025-01-14T07:29:42.751408Z",
     "shell.execute_reply": "2025-01-14T07:29:42.750601Z"
    },
    "papermill": {
     "duration": 0.206695,
     "end_time": "2025-01-14T07:29:42.752853",
     "exception": false,
     "start_time": "2025-01-14T07:29:42.546158",
     "status": "completed"
    },
    "tags": []
   },
   "outputs": [
    {
     "data": {
      "text/html": [
       "<div>\n",
       "<style scoped>\n",
       "    .dataframe tbody tr th:only-of-type {\n",
       "        vertical-align: middle;\n",
       "    }\n",
       "\n",
       "    .dataframe tbody tr th {\n",
       "        vertical-align: top;\n",
       "    }\n",
       "\n",
       "    .dataframe thead th {\n",
       "        text-align: right;\n",
       "    }\n",
       "</style>\n",
       "<table border=\"1\" class=\"dataframe\">\n",
       "  <thead>\n",
       "    <tr style=\"text-align: right;\">\n",
       "      <th></th>\n",
       "      <th>id</th>\n",
       "      <th>prompt</th>\n",
       "      <th>response_a</th>\n",
       "      <th>response_b</th>\n",
       "      <th>scored</th>\n",
       "      <th>encode_fail</th>\n",
       "      <th>prompt_len</th>\n",
       "      <th>response_a_len</th>\n",
       "      <th>response_b_len</th>\n",
       "      <th>response_a_spaces</th>\n",
       "      <th>...</th>\n",
       "      <th>prompt_curly_balance</th>\n",
       "      <th>prompt_json</th>\n",
       "      <th>prompt_sentiment</th>\n",
       "      <th>response_a_sentiment</th>\n",
       "      <th>response_b_sentiment</th>\n",
       "      <th>cosine_similarity_a</th>\n",
       "      <th>cosine_similarity_b</th>\n",
       "      <th>cosine_similarity_diff</th>\n",
       "      <th>tokens</th>\n",
       "      <th>len</th>\n",
       "    </tr>\n",
       "  </thead>\n",
       "  <tbody>\n",
       "    <tr>\n",
       "      <th>0</th>\n",
       "      <td>327228</td>\n",
       "      <td>Caso Clínico: Un hombre de 70 años con anteced...</td>\n",
       "      <td>**Diagnóstico Diferencial de Anemia en Pacient...</td>\n",
       "      <td>Basándonos en el caso clínico presentado, pode...</td>\n",
       "      <td>False</td>\n",
       "      <td>False</td>\n",
       "      <td>855</td>\n",
       "      <td>1961</td>\n",
       "      <td>3412</td>\n",
       "      <td>322</td>\n",
       "      <td>...</td>\n",
       "      <td>0</td>\n",
       "      <td>0</td>\n",
       "      <td>-0.325000</td>\n",
       "      <td>0.150000</td>\n",
       "      <td>0.000000</td>\n",
       "      <td>0.801950</td>\n",
       "      <td>0.683307</td>\n",
       "      <td>0.118643</td>\n",
       "      <td>{'input_ids': [[tensor(2), tensor(235322), ten...</td>\n",
       "      <td>6228</td>\n",
       "    </tr>\n",
       "    <tr>\n",
       "      <th>1</th>\n",
       "      <td>1235630</td>\n",
       "      <td>Há um grave problema com o relógio da torre da...</td>\n",
       "      <td>Dois problemas interessantes!\\n\\n**Problema 1:...</td>\n",
       "      <td>Vamos resolver os dois problemas em sequência....</td>\n",
       "      <td>False</td>\n",
       "      <td>False</td>\n",
       "      <td>802</td>\n",
       "      <td>1997</td>\n",
       "      <td>1658</td>\n",
       "      <td>381</td>\n",
       "      <td>...</td>\n",
       "      <td>0</td>\n",
       "      <td>0</td>\n",
       "      <td>0.000000</td>\n",
       "      <td>0.029688</td>\n",
       "      <td>0.150000</td>\n",
       "      <td>0.667627</td>\n",
       "      <td>0.691822</td>\n",
       "      <td>-0.024195</td>\n",
       "      <td>{'input_ids': [[tensor(2), tensor(235322), ten...</td>\n",
       "      <td>4457</td>\n",
       "    </tr>\n",
       "    <tr>\n",
       "      <th>2</th>\n",
       "      <td>1139415</td>\n",
       "      <td>Peel Company received a cash dividend from a ...</td>\n",
       "      <td>The correct answer is **(a) No   No**. Here's ...</td>\n",
       "      <td>The correct answer is **(a) No No**. Here's wh...</td>\n",
       "      <td>False</td>\n",
       "      <td>False</td>\n",
       "      <td>278</td>\n",
       "      <td>893</td>\n",
       "      <td>831</td>\n",
       "      <td>142</td>\n",
       "      <td>...</td>\n",
       "      <td>0</td>\n",
       "      <td>0</td>\n",
       "      <td>0.366667</td>\n",
       "      <td>0.257143</td>\n",
       "      <td>0.386667</td>\n",
       "      <td>0.610054</td>\n",
       "      <td>0.616745</td>\n",
       "      <td>-0.006691</td>\n",
       "      <td>{'input_ids': [[tensor(2), tensor(235322), ten...</td>\n",
       "      <td>2002</td>\n",
       "    </tr>\n",
       "  </tbody>\n",
       "</table>\n",
       "<p>3 rows × 71 columns</p>\n",
       "</div>"
      ],
      "text/plain": [
       "        id                                             prompt  \\\n",
       "0   327228  Caso Clínico: Un hombre de 70 años con anteced...   \n",
       "1  1235630  Há um grave problema com o relógio da torre da...   \n",
       "2  1139415   Peel Company received a cash dividend from a ...   \n",
       "\n",
       "                                          response_a  \\\n",
       "0  **Diagnóstico Diferencial de Anemia en Pacient...   \n",
       "1  Dois problemas interessantes!\\n\\n**Problema 1:...   \n",
       "2  The correct answer is **(a) No   No**. Here's ...   \n",
       "\n",
       "                                          response_b  scored  encode_fail  \\\n",
       "0  Basándonos en el caso clínico presentado, pode...   False        False   \n",
       "1  Vamos resolver os dois problemas em sequência....   False        False   \n",
       "2  The correct answer is **(a) No No**. Here's wh...   False        False   \n",
       "\n",
       "   prompt_len  response_a_len  response_b_len  response_a_spaces  ...  \\\n",
       "0         855            1961            3412                322  ...   \n",
       "1         802            1997            1658                381  ...   \n",
       "2         278             893             831                142  ...   \n",
       "\n",
       "   prompt_curly_balance  prompt_json  prompt_sentiment  response_a_sentiment  \\\n",
       "0                     0            0         -0.325000              0.150000   \n",
       "1                     0            0          0.000000              0.029688   \n",
       "2                     0            0          0.366667              0.257143   \n",
       "\n",
       "   response_b_sentiment  cosine_similarity_a  cosine_similarity_b  \\\n",
       "0              0.000000             0.801950             0.683307   \n",
       "1              0.150000             0.667627             0.691822   \n",
       "2              0.386667             0.610054             0.616745   \n",
       "\n",
       "   cosine_similarity_diff                                             tokens  \\\n",
       "0                0.118643  {'input_ids': [[tensor(2), tensor(235322), ten...   \n",
       "1               -0.024195  {'input_ids': [[tensor(2), tensor(235322), ten...   \n",
       "2               -0.006691  {'input_ids': [[tensor(2), tensor(235322), ten...   \n",
       "\n",
       "    len  \n",
       "0  6228  \n",
       "1  4457  \n",
       "2  2002  \n",
       "\n",
       "[3 rows x 71 columns]"
      ]
     },
     "execution_count": 17,
     "metadata": {},
     "output_type": "execute_result"
    }
   ],
   "source": [
    "df_test = df_test.sort_values('len', ascending=False).reset_index(drop=True)\n",
    "df_test"
   ]
  },
  {
   "cell_type": "markdown",
   "id": "2554cd8e",
   "metadata": {
    "_cell_guid": "513effd3-5acb-4d5f-8205-75240c312c21",
    "_uuid": "166e0060-c22e-4660-9853-0bacd5dc4c33",
    "collapsed": false,
    "jupyter": {
     "outputs_hidden": false
    },
    "papermill": {
     "duration": 0.006149,
     "end_time": "2025-01-14T07:29:42.765739",
     "exception": false,
     "start_time": "2025-01-14T07:29:42.759590",
     "status": "completed"
    },
    "tags": []
   },
   "source": [
    "## Data Loader"
   ]
  },
  {
   "cell_type": "code",
   "execution_count": 18,
   "id": "8f1a4cc9",
   "metadata": {
    "execution": {
     "iopub.execute_input": "2025-01-14T07:29:42.779428Z",
     "iopub.status.busy": "2025-01-14T07:29:42.779162Z",
     "iopub.status.idle": "2025-01-14T07:29:42.786330Z",
     "shell.execute_reply": "2025-01-14T07:29:42.785520Z"
    },
    "papermill": {
     "duration": 0.015454,
     "end_time": "2025-01-14T07:29:42.787548",
     "exception": false,
     "start_time": "2025-01-14T07:29:42.772094",
     "status": "completed"
    },
    "tags": []
   },
   "outputs": [],
   "source": [
    "\n",
    "#-------------------------------------------------------------------\n",
    "class ChatbotArenaDataset(Dataset):\n",
    "    def __init__(self, dataframe, tokenizer, test=False, max_length=256):\n",
    "        self.data = dataframe\n",
    "        self.tokenizer = tokenizer\n",
    "        self.max_length = max_length\n",
    "        self.num_classes = 2\n",
    "        self.test = test\n",
    "\n",
    "    def __len__(self):\n",
    "        return len(self.data)\n",
    "\n",
    "    def __getitem__(self, idx):\n",
    "        row = self.data.iloc[idx]\n",
    "\n",
    "        # Tokenize the text\n",
    "        #tokens = Utils.tokenize(self.tokenizer, [row['prompt']], [row['response_a']], [row['response_b']], max_length=self.max_length)\n",
    "        tokens = row['tokens']\n",
    "\n",
    "         # Extract features\n",
    "        features = torch.tensor([], dtype=torch.float)\n",
    "\n",
    "        for feat in Utils.feature_list_bycol:\n",
    "            feat = torch.tensor([\n",
    "                row[f'prompt{feat}'],\n",
    "                row[f'response_a{feat}'],\n",
    "                row[f'response_b{feat}']\n",
    "                ], dtype=torch.float)\n",
    "            features = torch.cat((features, feat))\n",
    "\n",
    "        similarity_feat = torch.tensor([\n",
    "                row[f'cosine_similarity_a'],\n",
    "                row[f'cosine_similarity_b'],\n",
    "                row[f'cosine_similarity_diff']\n",
    "                ], dtype=torch.float)\n",
    "\n",
    "        features = torch.cat((features, similarity_feat))\n",
    "        \n",
    "        if not self.test:\n",
    "            # Label\n",
    "            label = torch.nn.functional.one_hot(torch.tensor(row['class_label']), num_classes=self.num_classes).float()\n",
    "            #label = torch.tensor([row['class_label']]).float()\n",
    "\n",
    "            return {\n",
    "                'input_ids': tokens['input_ids'].squeeze(0),\n",
    "                'attention_mask': tokens['attention_mask'].squeeze(0),\n",
    "                'features': features,\n",
    "                'label': label,\n",
    "                'id' : row['id']\n",
    "            }\n",
    "        else:\n",
    "            return {\n",
    "                'input_ids': tokens['input_ids'].squeeze(0),\n",
    "                'attention_mask': tokens['attention_mask'].squeeze(0),\n",
    "                'features': features,\n",
    "                'id' : row['id']\n",
    "            }"
   ]
  },
  {
   "cell_type": "code",
   "execution_count": 19,
   "id": "4cf22356",
   "metadata": {
    "_cell_guid": "b5a912bd-61ad-490e-931a-5a5cc95fd4f5",
    "_uuid": "836e1ad6-1513-4d6c-8d10-2569895956fe",
    "collapsed": false,
    "execution": {
     "iopub.execute_input": "2025-01-14T07:29:42.800803Z",
     "iopub.status.busy": "2025-01-14T07:29:42.800525Z",
     "iopub.status.idle": "2025-01-14T07:29:42.805451Z",
     "shell.execute_reply": "2025-01-14T07:29:42.804912Z"
    },
    "jupyter": {
     "outputs_hidden": false
    },
    "papermill": {
     "duration": 0.01271,
     "end_time": "2025-01-14T07:29:42.806579",
     "exception": false,
     "start_time": "2025-01-14T07:29:42.793869",
     "status": "completed"
    },
    "tags": []
   },
   "outputs": [],
   "source": [
    "sub_0 = df_test.iloc[0::2].copy()\n",
    "sub_1 = df_test.iloc[1::2].copy()\n",
    "\n",
    "# Prepare dataset and dataloader\n",
    "dataset_test_0 = ChatbotArenaDataset(sub_0, tokenizer, max_length=local_max_length, test=True)\n",
    "dataloader_test_0 = Utils.DataLoader(dataset_test_0, batch_size=local_batch_size, shuffle=False)\n",
    "\n",
    "dataset_test_1 = ChatbotArenaDataset(sub_1, tokenizer, max_length=local_max_length, test=True)\n",
    "dataloader_test_1 = Utils.DataLoader(dataset_test_1, batch_size=local_batch_size, shuffle=False)"
   ]
  },
  {
   "cell_type": "markdown",
   "id": "9485b018",
   "metadata": {
    "_cell_guid": "0b43b87c-eb15-416f-9722-5f7bc3a37384",
    "_uuid": "23308a8d-0640-4341-985d-0aa38c501cca",
    "collapsed": false,
    "jupyter": {
     "outputs_hidden": false
    },
    "papermill": {
     "duration": 0.006021,
     "end_time": "2025-01-14T07:29:42.818963",
     "exception": false,
     "start_time": "2025-01-14T07:29:42.812942",
     "status": "completed"
    },
    "tags": []
   },
   "source": [
    "## Model"
   ]
  },
  {
   "cell_type": "code",
   "execution_count": 20,
   "id": "db4e8805",
   "metadata": {
    "_cell_guid": "bb1fccc1-10a0-4042-a1d3-2c508a8c65ba",
    "_uuid": "8c5e52f7-646e-46bb-8059-b15bbcf876c9",
    "collapsed": false,
    "execution": {
     "iopub.execute_input": "2025-01-14T07:29:42.832192Z",
     "iopub.status.busy": "2025-01-14T07:29:42.831991Z",
     "iopub.status.idle": "2025-01-14T07:31:24.328900Z",
     "shell.execute_reply": "2025-01-14T07:31:24.327978Z"
    },
    "jupyter": {
     "outputs_hidden": false
    },
    "papermill": {
     "duration": 101.505121,
     "end_time": "2025-01-14T07:31:24.330283",
     "exception": false,
     "start_time": "2025-01-14T07:29:42.825162",
     "status": "completed"
    },
    "tags": []
   },
   "outputs": [
    {
     "name": "stderr",
     "output_type": "stream",
     "text": [
      "Unused kwargs: ['_load_in_4bit', '_load_in_8bit', 'quant_method']. These kwargs are not used in <class 'transformers.utils.quantization_config.BitsAndBytesConfig'>.\n",
      "/usr/local/lib/python3.10/dist-packages/transformers/quantizers/auto.py:186: UserWarning: You passed `quantization_config` or equivalent parameters to `from_pretrained` but the model you're loading already has a `quantization_config` attribute. The `quantization_config` from the model will be used.\n",
      "  warnings.warn(warning_msg)\n"
     ]
    },
    {
     "data": {
      "application/vnd.jupyter.widget-view+json": {
       "model_id": "5bb55bdc210d4a99aff3170b3e1bc92d",
       "version_major": 2,
       "version_minor": 0
      },
      "text/plain": [
       "Loading checkpoint shards:   0%|          | 0/2 [00:00<?, ?it/s]"
      ]
     },
     "metadata": {},
     "output_type": "display_data"
    },
    {
     "name": "stdout",
     "output_type": "stream",
     "text": [
      "/kaggle/input/trainned_2/pytorch/default/1\n"
     ]
    },
    {
     "name": "stderr",
     "output_type": "stream",
     "text": [
      "/usr/local/lib/python3.10/dist-packages/peft/tuners/lora/bnb.py:355: UserWarning: Merge lora module to 4-bit linear may get different generations due to rounding errors.\n",
      "  warnings.warn(\n",
      "Unused kwargs: ['_load_in_4bit', '_load_in_8bit', 'quant_method']. These kwargs are not used in <class 'transformers.utils.quantization_config.BitsAndBytesConfig'>.\n"
     ]
    },
    {
     "data": {
      "application/vnd.jupyter.widget-view+json": {
       "model_id": "5db73644aa454083a91f57ee2282ab34",
       "version_major": 2,
       "version_minor": 0
      },
      "text/plain": [
       "Loading checkpoint shards:   0%|          | 0/2 [00:00<?, ?it/s]"
      ]
     },
     "metadata": {},
     "output_type": "display_data"
    },
    {
     "name": "stdout",
     "output_type": "stream",
     "text": [
      "/kaggle/input/trainned_2/pytorch/default/1\n"
     ]
    },
    {
     "data": {
      "text/plain": [
       "PreferencePredictionModel(\n",
       "  (gemma_model): Gemma2Model(\n",
       "    (embed_tokens): Embedding(256000, 3584, padding_idx=0)\n",
       "    (layers): ModuleList(\n",
       "      (0-41): 42 x Gemma2DecoderLayer(\n",
       "        (self_attn): Gemma2Attention(\n",
       "          (q_proj): Linear4bit(in_features=3584, out_features=4096, bias=False)\n",
       "          (k_proj): Linear4bit(in_features=3584, out_features=2048, bias=False)\n",
       "          (v_proj): Linear4bit(in_features=3584, out_features=2048, bias=False)\n",
       "          (o_proj): Linear4bit(in_features=4096, out_features=3584, bias=False)\n",
       "          (rotary_emb): Gemma2RotaryEmbedding()\n",
       "        )\n",
       "        (mlp): Gemma2MLP(\n",
       "          (gate_proj): Linear4bit(in_features=3584, out_features=14336, bias=False)\n",
       "          (up_proj): Linear4bit(in_features=3584, out_features=14336, bias=False)\n",
       "          (down_proj): Linear4bit(in_features=14336, out_features=3584, bias=False)\n",
       "          (act_fn): PytorchGELUTanh()\n",
       "        )\n",
       "        (input_layernorm): Gemma2RMSNorm((3584,), eps=1e-06)\n",
       "        (post_attention_layernorm): Gemma2RMSNorm((3584,), eps=1e-06)\n",
       "        (pre_feedforward_layernorm): Gemma2RMSNorm((3584,), eps=1e-06)\n",
       "        (post_feedforward_layernorm): Gemma2RMSNorm((3584,), eps=1e-06)\n",
       "      )\n",
       "    )\n",
       "    (norm): Gemma2RMSNorm((3584,), eps=1e-06)\n",
       "  )\n",
       "  (feature_fc): Linear(in_features=63, out_features=128, bias=True)\n",
       "  (classifier): Sequential(\n",
       "    (0): Linear(in_features=3712, out_features=1536, bias=True)\n",
       "    (1): ReLU()\n",
       "    (2): Dropout(p=0.2, inplace=False)\n",
       "    (3): Linear(in_features=1536, out_features=1, bias=True)\n",
       "    (4): Sigmoid()\n",
       "  )\n",
       ")"
      ]
     },
     "execution_count": 20,
     "metadata": {},
     "output_type": "execute_result"
    }
   ],
   "source": [
    "def load_model(device):\n",
    "    quantization_config=BitsAndBytesConfig(\n",
    "                load_in_4bit=True,\n",
    "                bnb_4bit_compute_dtype=torch.bfloat16,  # bfloat16 is recommended\n",
    "                bnb_4bit_use_double_quant=False,\n",
    "                bnb_4bit_quant_type='nf4',\n",
    "                )\n",
    "\n",
    "    baseModel = AutoModel.from_pretrained(\n",
    "                basemodel_path,\n",
    "                #torch_dtype=torch.float16,\n",
    "                device_map=device,\n",
    "                quantization_config=quantization_config,\n",
    "                use_cache=False,\n",
    "                )\n",
    "\n",
    "    baseModel.eval()\n",
    "    baseModel = prepare_model_for_kbit_training(baseModel)\n",
    "    baseModel.eval()\n",
    "\n",
    "    baseModel.use_cache=False\n",
    "    \n",
    "    peftModelPath=f\"{config.checkpoints_path}/{config.config_name}/\"\n",
    "    loadPath = kaggle_PeftPath if kaggle_PeftPath != \"\" else peftModelPath + checkpoint_name\n",
    "\n",
    "    print(loadPath)\n",
    "\n",
    "    # load peft from base\n",
    "    loraModel_load = PeftModel.from_pretrained(\n",
    "        baseModel,\n",
    "        f'{loadPath}/PEFT',\n",
    "        is_trainable=False)\n",
    "\n",
    "    loraModel_load = loraModel_load.merge_and_unload()\n",
    "    loraModel_load.use_cache=False\n",
    "\n",
    "    predictionModelLoaded = Utils.PreferencePredictionModel(\n",
    "        loraModel_load,\n",
    "        feature_dim=config.feature_dims,\n",
    "        num_classes=config.num_classes,\n",
    "        hidden_dim=config.hidden_dim\n",
    "        )\n",
    "\n",
    "    predictionModelLoaded.use_cache=False\n",
    "    \n",
    "    checkpoint = torch.load(f'{loadPath}/PreferencePredictionModel.pt', weights_only=True)\n",
    "\n",
    "    predictionModelLoaded.feature_fc.load_state_dict(checkpoint['feature_fc_state_dict'])\n",
    "    predictionModelLoaded.classifier.load_state_dict(checkpoint['classifier_state_dict'])\n",
    "    return predictionModelLoaded\n",
    "\n",
    "model_0 = load_model(f\"cuda:{device_ids[0]}\")\n",
    "model_1 = load_model(f\"cuda:{device_ids[1]}\")\n",
    "#model_1\n",
    "model_0"
   ]
  },
  {
   "cell_type": "markdown",
   "id": "c76b29f4",
   "metadata": {
    "_cell_guid": "1041cf58-e44c-4e11-bb84-a0604bbf731c",
    "_uuid": "aa395e73-ef96-498b-be21-7447ae959c6f",
    "collapsed": false,
    "jupyter": {
     "outputs_hidden": false
    },
    "papermill": {
     "duration": 0.007103,
     "end_time": "2025-01-14T07:31:24.344892",
     "exception": false,
     "start_time": "2025-01-14T07:31:24.337789",
     "status": "completed"
    },
    "tags": []
   },
   "source": [
    "## Predict"
   ]
  },
  {
   "cell_type": "code",
   "execution_count": 21,
   "id": "270f248d",
   "metadata": {
    "execution": {
     "iopub.execute_input": "2025-01-14T07:31:24.359882Z",
     "iopub.status.busy": "2025-01-14T07:31:24.359592Z",
     "iopub.status.idle": "2025-01-14T07:31:24.365338Z",
     "shell.execute_reply": "2025-01-14T07:31:24.364698Z"
    },
    "papermill": {
     "duration": 0.014544,
     "end_time": "2025-01-14T07:31:24.366451",
     "exception": false,
     "start_time": "2025-01-14T07:31:24.351907",
     "status": "completed"
    },
    "tags": []
   },
   "outputs": [],
   "source": [
    "def predict_multi_gpu(model, dataloader, device_id=0):\n",
    "    model = model.to(f\"cuda:{device_id}\")\n",
    "    model.eval()\n",
    "    \n",
    "    predictions = []\n",
    "    pred_ids = []\n",
    "\n",
    "    print(f\"cuda:{device_id}\")\n",
    "\n",
    "    start_timer = timer()\n",
    "\n",
    "    with torch.amp.autocast(f\"cuda:{device_id}\", enabled=True):\n",
    "        with torch.no_grad():\n",
    "            for batch in tqdm(dataloader, total=len(dataloader), unit='row') if device_id==0 else dataloader:\n",
    "            #for batch in tqdm(dataloader, total=len(dataloader), unit='row'):\n",
    "                # Move the batch to the primary device\n",
    "                input_ids = batch['input_ids'].to(f\"cuda:{device_id}\")\n",
    "                attention_mask = batch['attention_mask'].to(f\"cuda:{device_id}\")\n",
    "                features = batch['features'].to(f\"cuda:{device_id}\")\n",
    "                ids = batch['id']\n",
    "                # Perform inference\n",
    "                logits = model(input_ids=input_ids, attention_mask=attention_mask, features=features)\n",
    "                #logits = model(input_ids=inputs[\"input_ids\"], attention_mask=inputs[\"attention_mask\"]).logits\n",
    "            \n",
    "                # Normalize logits for binary classification\n",
    "                norm_logits = (logits > 0.5).float()\n",
    "                predictions.extend(norm_logits.cpu().tolist())\n",
    "                pred_ids.extend(ids.tolist())\n",
    "\n",
    "    return {\n",
    "        'winner': predictions, \n",
    "        'id': pred_ids, \n",
    "    }\n",
    "    "
   ]
  },
  {
   "cell_type": "code",
   "execution_count": 22,
   "id": "546af030",
   "metadata": {
    "execution": {
     "iopub.execute_input": "2025-01-14T07:31:24.381820Z",
     "iopub.status.busy": "2025-01-14T07:31:24.381519Z",
     "iopub.status.idle": "2025-01-14T07:31:30.935310Z",
     "shell.execute_reply": "2025-01-14T07:31:30.934201Z"
    },
    "papermill": {
     "duration": 6.562746,
     "end_time": "2025-01-14T07:31:30.936664",
     "exception": false,
     "start_time": "2025-01-14T07:31:24.373918",
     "status": "completed"
    },
    "tags": []
   },
   "outputs": [
    {
     "name": "stdout",
     "output_type": "stream",
     "text": [
      "cuda:0\n"
     ]
    },
    {
     "name": "stderr",
     "output_type": "stream",
     "text": [
      "  0%|          | 0/1 [00:00<?, ?row/s]"
     ]
    },
    {
     "name": "stdout",
     "output_type": "stream",
     "text": [
      "cuda:1\n"
     ]
    },
    {
     "name": "stderr",
     "output_type": "stream",
     "text": [
      "100%|██████████| 1/1 [00:06<00:00,  6.49s/row]\n"
     ]
    }
   ],
   "source": [
    "from concurrent.futures import ThreadPoolExecutor\n",
    "\n",
    "with ThreadPoolExecutor(max_workers=2) as executor:\n",
    "    results_dict = executor.map(predict_multi_gpu, (model_0, model_1), (dataloader_test_0, dataloader_test_1), (0, 1))\n",
    "\n",
    "\n",
    "#predictions = predict_multi_gpu(model_0, dataloader_test, device_id=0)"
   ]
  },
  {
   "cell_type": "code",
   "execution_count": 23,
   "id": "4d264f8f",
   "metadata": {
    "execution": {
     "iopub.execute_input": "2025-01-14T07:31:30.954144Z",
     "iopub.status.busy": "2025-01-14T07:31:30.953893Z",
     "iopub.status.idle": "2025-01-14T07:31:30.964545Z",
     "shell.execute_reply": "2025-01-14T07:31:30.963680Z"
    },
    "papermill": {
     "duration": 0.021083,
     "end_time": "2025-01-14T07:31:30.965936",
     "exception": false,
     "start_time": "2025-01-14T07:31:30.944853",
     "status": "completed"
    },
    "tags": []
   },
   "outputs": [
    {
     "data": {
      "text/html": [
       "<div>\n",
       "<style scoped>\n",
       "    .dataframe tbody tr th:only-of-type {\n",
       "        vertical-align: middle;\n",
       "    }\n",
       "\n",
       "    .dataframe tbody tr th {\n",
       "        vertical-align: top;\n",
       "    }\n",
       "\n",
       "    .dataframe thead th {\n",
       "        text-align: right;\n",
       "    }\n",
       "</style>\n",
       "<table border=\"1\" class=\"dataframe\">\n",
       "  <thead>\n",
       "    <tr style=\"text-align: right;\">\n",
       "      <th></th>\n",
       "      <th>winner</th>\n",
       "      <th>id</th>\n",
       "    </tr>\n",
       "  </thead>\n",
       "  <tbody>\n",
       "    <tr>\n",
       "      <th>0</th>\n",
       "      <td>[1.0]</td>\n",
       "      <td>327228</td>\n",
       "    </tr>\n",
       "    <tr>\n",
       "      <th>1</th>\n",
       "      <td>[0.0]</td>\n",
       "      <td>1139415</td>\n",
       "    </tr>\n",
       "    <tr>\n",
       "      <th>0</th>\n",
       "      <td>[0.0]</td>\n",
       "      <td>1235630</td>\n",
       "    </tr>\n",
       "  </tbody>\n",
       "</table>\n",
       "</div>"
      ],
      "text/plain": [
       "  winner       id\n",
       "0  [1.0]   327228\n",
       "1  [0.0]  1139415\n",
       "0  [0.0]  1235630"
      ]
     },
     "execution_count": 23,
     "metadata": {},
     "output_type": "execute_result"
    }
   ],
   "source": [
    "results = list(results_dict)\n",
    "\n",
    "res_0 = pd.DataFrame.from_dict(results[0])\n",
    "res_1 = pd.DataFrame.from_dict(results[1])\n",
    "res = pd.concat((res_0, res_1))\n",
    "res"
   ]
  },
  {
   "cell_type": "code",
   "execution_count": 24,
   "id": "ec852bcd",
   "metadata": {
    "_cell_guid": "c5cc2305-9b9d-4275-a4dc-7bff38b0c4ed",
    "_uuid": "d4589dd2-3c64-474c-91c9-7c20c0ddce71",
    "collapsed": false,
    "execution": {
     "iopub.execute_input": "2025-01-14T07:31:30.982862Z",
     "iopub.status.busy": "2025-01-14T07:31:30.982597Z",
     "iopub.status.idle": "2025-01-14T07:31:30.990372Z",
     "shell.execute_reply": "2025-01-14T07:31:30.989387Z"
    },
    "jupyter": {
     "outputs_hidden": false
    },
    "papermill": {
     "duration": 0.017607,
     "end_time": "2025-01-14T07:31:30.991828",
     "exception": false,
     "start_time": "2025-01-14T07:31:30.974221",
     "status": "completed"
    },
    "tags": []
   },
   "outputs": [
    {
     "data": {
      "text/html": [
       "<div>\n",
       "<style scoped>\n",
       "    .dataframe tbody tr th:only-of-type {\n",
       "        vertical-align: middle;\n",
       "    }\n",
       "\n",
       "    .dataframe tbody tr th {\n",
       "        vertical-align: top;\n",
       "    }\n",
       "\n",
       "    .dataframe thead th {\n",
       "        text-align: right;\n",
       "    }\n",
       "</style>\n",
       "<table border=\"1\" class=\"dataframe\">\n",
       "  <thead>\n",
       "    <tr style=\"text-align: right;\">\n",
       "      <th></th>\n",
       "      <th>winner</th>\n",
       "      <th>id</th>\n",
       "    </tr>\n",
       "  </thead>\n",
       "  <tbody>\n",
       "    <tr>\n",
       "      <th>0</th>\n",
       "      <td>model_b</td>\n",
       "      <td>327228</td>\n",
       "    </tr>\n",
       "    <tr>\n",
       "      <th>1</th>\n",
       "      <td>model_a</td>\n",
       "      <td>1139415</td>\n",
       "    </tr>\n",
       "    <tr>\n",
       "      <th>0</th>\n",
       "      <td>model_a</td>\n",
       "      <td>1235630</td>\n",
       "    </tr>\n",
       "  </tbody>\n",
       "</table>\n",
       "</div>"
      ],
      "text/plain": [
       "    winner       id\n",
       "0  model_b   327228\n",
       "1  model_a  1139415\n",
       "0  model_a  1235630"
      ]
     },
     "execution_count": 24,
     "metadata": {},
     "output_type": "execute_result"
    }
   ],
   "source": [
    "def transcript(x):\n",
    "    if x[0] > 0.5:\n",
    "        return 'model_b'\n",
    "    else:\n",
    "        return 'model_a'\n",
    "\n",
    "res['winner'] = res['winner'].apply(transcript)\n",
    "res\n"
   ]
  },
  {
   "cell_type": "code",
   "execution_count": 25,
   "id": "f8584542",
   "metadata": {
    "_cell_guid": "ad879332-41e5-40e0-aa4b-7e86c46cf0dd",
    "_uuid": "a92c685c-494b-4e17-9188-98a07acd43e2",
    "collapsed": false,
    "execution": {
     "iopub.execute_input": "2025-01-14T07:31:31.009513Z",
     "iopub.status.busy": "2025-01-14T07:31:31.009265Z",
     "iopub.status.idle": "2025-01-14T07:31:31.025900Z",
     "shell.execute_reply": "2025-01-14T07:31:31.024978Z"
    },
    "jupyter": {
     "outputs_hidden": false
    },
    "papermill": {
     "duration": 0.02639,
     "end_time": "2025-01-14T07:31:31.027245",
     "exception": false,
     "start_time": "2025-01-14T07:31:31.000855",
     "status": "completed"
    },
    "tags": []
   },
   "outputs": [
    {
     "data": {
      "text/html": [
       "<div>\n",
       "<style scoped>\n",
       "    .dataframe tbody tr th:only-of-type {\n",
       "        vertical-align: middle;\n",
       "    }\n",
       "\n",
       "    .dataframe tbody tr th {\n",
       "        vertical-align: top;\n",
       "    }\n",
       "\n",
       "    .dataframe thead th {\n",
       "        text-align: right;\n",
       "    }\n",
       "</style>\n",
       "<table border=\"1\" class=\"dataframe\">\n",
       "  <thead>\n",
       "    <tr style=\"text-align: right;\">\n",
       "      <th></th>\n",
       "      <th>id</th>\n",
       "      <th>winner</th>\n",
       "    </tr>\n",
       "  </thead>\n",
       "  <tbody>\n",
       "    <tr>\n",
       "      <th>0</th>\n",
       "      <td>327228</td>\n",
       "      <td>model_b</td>\n",
       "    </tr>\n",
       "    <tr>\n",
       "      <th>1</th>\n",
       "      <td>1235630</td>\n",
       "      <td>model_a</td>\n",
       "    </tr>\n",
       "    <tr>\n",
       "      <th>2</th>\n",
       "      <td>1139415</td>\n",
       "      <td>model_a</td>\n",
       "    </tr>\n",
       "  </tbody>\n",
       "</table>\n",
       "</div>"
      ],
      "text/plain": [
       "        id   winner\n",
       "0   327228  model_b\n",
       "1  1235630  model_a\n",
       "2  1139415  model_a"
      ]
     },
     "execution_count": 25,
     "metadata": {},
     "output_type": "execute_result"
    }
   ],
   "source": [
    "sub_df = df_test[[\"id\"]].copy()\n",
    "sub_df = sub_df.merge(res, how='outer', on='id')\n",
    "sub_df.head()"
   ]
  },
  {
   "cell_type": "code",
   "execution_count": 26,
   "id": "e6914a4f",
   "metadata": {
    "_cell_guid": "4f404a69-fd25-49cd-bcc5-aee302b3f6bd",
    "_uuid": "bcbf359a-5bbc-4e5b-840a-e1ed9ea511e7",
    "collapsed": false,
    "execution": {
     "iopub.execute_input": "2025-01-14T07:31:31.043082Z",
     "iopub.status.busy": "2025-01-14T07:31:31.042867Z",
     "iopub.status.idle": "2025-01-14T07:31:31.048339Z",
     "shell.execute_reply": "2025-01-14T07:31:31.047773Z"
    },
    "jupyter": {
     "outputs_hidden": false
    },
    "papermill": {
     "duration": 0.014594,
     "end_time": "2025-01-14T07:31:31.049561",
     "exception": false,
     "start_time": "2025-01-14T07:31:31.034967",
     "status": "completed"
    },
    "tags": []
   },
   "outputs": [],
   "source": [
    "sub_df.to_csv(\"submission.csv\", index=False)"
   ]
  }
 ],
 "metadata": {
  "kaggle": {
   "accelerator": "nvidiaTeslaT4",
   "dataSources": [
    {
     "databundleVersionId": 10131489,
     "sourceId": 86946,
     "sourceType": "competition"
    },
    {
     "datasetId": 6470200,
     "sourceId": 10453844,
     "sourceType": "datasetVersion"
    },
    {
     "sourceId": 217419226,
     "sourceType": "kernelVersion"
    },
    {
     "modelId": 215970,
     "modelInstanceId": 194055,
     "sourceId": 227614,
     "sourceType": "modelInstanceVersion"
    },
    {
     "modelId": 216118,
     "modelInstanceId": 194202,
     "sourceId": 227778,
     "sourceType": "modelInstanceVersion"
    },
    {
     "modelId": 217229,
     "modelInstanceId": 195332,
     "sourceId": 229060,
     "sourceType": "modelInstanceVersion"
    }
   ],
   "dockerImageVersionId": 30823,
   "isGpuEnabled": true,
   "isInternetEnabled": false,
   "language": "python",
   "sourceType": "notebook"
  },
  "kernelspec": {
   "display_name": "Python 3",
   "language": "python",
   "name": "python3"
  },
  "language_info": {
   "codemirror_mode": {
    "name": "ipython",
    "version": 3
   },
   "file_extension": ".py",
   "mimetype": "text/x-python",
   "name": "python",
   "nbconvert_exporter": "python",
   "pygments_lexer": "ipython3",
   "version": "3.10.12"
  },
  "papermill": {
   "default_parameters": {},
   "duration": 130.744632,
   "end_time": "2025-01-14T07:31:34.391213",
   "environment_variables": {},
   "exception": null,
   "input_path": "__notebook__.ipynb",
   "output_path": "__notebook__.ipynb",
   "parameters": {},
   "start_time": "2025-01-14T07:29:23.646581",
   "version": "2.6.0"
  },
  "widgets": {
   "application/vnd.jupyter.widget-state+json": {
    "state": {
     "05429c268f654b44a268e08b50938544": {
      "model_module": "@jupyter-widgets/controls",
      "model_module_version": "2.0.0",
      "model_name": "HTMLModel",
      "state": {
       "_dom_classes": [],
       "_model_module": "@jupyter-widgets/controls",
       "_model_module_version": "2.0.0",
       "_model_name": "HTMLModel",
       "_view_count": null,
       "_view_module": "@jupyter-widgets/controls",
       "_view_module_version": "2.0.0",
       "_view_name": "HTMLView",
       "description": "",
       "description_allow_html": false,
       "layout": "IPY_MODEL_c6c0a91d025b4beabee886e75b209371",
       "placeholder": "​",
       "style": "IPY_MODEL_5a9f4baf38b64e01a2ee601e81d6d6ed",
       "tabbable": null,
       "tooltip": null,
       "value": "Loading checkpoint shards: 100%"
      }
     },
     "40263707dd7b43efa1d0c06f0bf138d0": {
      "model_module": "@jupyter-widgets/base",
      "model_module_version": "2.0.0",
      "model_name": "LayoutModel",
      "state": {
       "_model_module": "@jupyter-widgets/base",
       "_model_module_version": "2.0.0",
       "_model_name": "LayoutModel",
       "_view_count": null,
       "_view_module": "@jupyter-widgets/base",
       "_view_module_version": "2.0.0",
       "_view_name": "LayoutView",
       "align_content": null,
       "align_items": null,
       "align_self": null,
       "border_bottom": null,
       "border_left": null,
       "border_right": null,
       "border_top": null,
       "bottom": null,
       "display": null,
       "flex": null,
       "flex_flow": null,
       "grid_area": null,
       "grid_auto_columns": null,
       "grid_auto_flow": null,
       "grid_auto_rows": null,
       "grid_column": null,
       "grid_gap": null,
       "grid_row": null,
       "grid_template_areas": null,
       "grid_template_columns": null,
       "grid_template_rows": null,
       "height": null,
       "justify_content": null,
       "justify_items": null,
       "left": null,
       "margin": null,
       "max_height": null,
       "max_width": null,
       "min_height": null,
       "min_width": null,
       "object_fit": null,
       "object_position": null,
       "order": null,
       "overflow": null,
       "padding": null,
       "right": null,
       "top": null,
       "visibility": null,
       "width": null
      }
     },
     "4403a33866f2447a9e8774d5850ce71e": {
      "model_module": "@jupyter-widgets/controls",
      "model_module_version": "2.0.0",
      "model_name": "ProgressStyleModel",
      "state": {
       "_model_module": "@jupyter-widgets/controls",
       "_model_module_version": "2.0.0",
       "_model_name": "ProgressStyleModel",
       "_view_count": null,
       "_view_module": "@jupyter-widgets/base",
       "_view_module_version": "2.0.0",
       "_view_name": "StyleView",
       "bar_color": null,
       "description_width": ""
      }
     },
     "46828b643c7841c793f7f9acdd239d29": {
      "model_module": "@jupyter-widgets/controls",
      "model_module_version": "2.0.0",
      "model_name": "HTMLModel",
      "state": {
       "_dom_classes": [],
       "_model_module": "@jupyter-widgets/controls",
       "_model_module_version": "2.0.0",
       "_model_name": "HTMLModel",
       "_view_count": null,
       "_view_module": "@jupyter-widgets/controls",
       "_view_module_version": "2.0.0",
       "_view_name": "HTMLView",
       "description": "",
       "description_allow_html": false,
       "layout": "IPY_MODEL_9d94e0d027fd4744bafe99b80381d317",
       "placeholder": "​",
       "style": "IPY_MODEL_a01ffc5709e2419ab9fcce01c535f0b0",
       "tabbable": null,
       "tooltip": null,
       "value": " 2/2 [00:54&lt;00:00, 24.80s/it]"
      }
     },
     "46e4447b21864ef3be839790644e93ac": {
      "model_module": "@jupyter-widgets/base",
      "model_module_version": "2.0.0",
      "model_name": "LayoutModel",
      "state": {
       "_model_module": "@jupyter-widgets/base",
       "_model_module_version": "2.0.0",
       "_model_name": "LayoutModel",
       "_view_count": null,
       "_view_module": "@jupyter-widgets/base",
       "_view_module_version": "2.0.0",
       "_view_name": "LayoutView",
       "align_content": null,
       "align_items": null,
       "align_self": null,
       "border_bottom": null,
       "border_left": null,
       "border_right": null,
       "border_top": null,
       "bottom": null,
       "display": null,
       "flex": null,
       "flex_flow": null,
       "grid_area": null,
       "grid_auto_columns": null,
       "grid_auto_flow": null,
       "grid_auto_rows": null,
       "grid_column": null,
       "grid_gap": null,
       "grid_row": null,
       "grid_template_areas": null,
       "grid_template_columns": null,
       "grid_template_rows": null,
       "height": null,
       "justify_content": null,
       "justify_items": null,
       "left": null,
       "margin": null,
       "max_height": null,
       "max_width": null,
       "min_height": null,
       "min_width": null,
       "object_fit": null,
       "object_position": null,
       "order": null,
       "overflow": null,
       "padding": null,
       "right": null,
       "top": null,
       "visibility": null,
       "width": null
      }
     },
     "5a9f4baf38b64e01a2ee601e81d6d6ed": {
      "model_module": "@jupyter-widgets/controls",
      "model_module_version": "2.0.0",
      "model_name": "HTMLStyleModel",
      "state": {
       "_model_module": "@jupyter-widgets/controls",
       "_model_module_version": "2.0.0",
       "_model_name": "HTMLStyleModel",
       "_view_count": null,
       "_view_module": "@jupyter-widgets/base",
       "_view_module_version": "2.0.0",
       "_view_name": "StyleView",
       "background": null,
       "description_width": "",
       "font_size": null,
       "text_color": null
      }
     },
     "5ac6ab4481924c349daf7a43d7f104f3": {
      "model_module": "@jupyter-widgets/base",
      "model_module_version": "2.0.0",
      "model_name": "LayoutModel",
      "state": {
       "_model_module": "@jupyter-widgets/base",
       "_model_module_version": "2.0.0",
       "_model_name": "LayoutModel",
       "_view_count": null,
       "_view_module": "@jupyter-widgets/base",
       "_view_module_version": "2.0.0",
       "_view_name": "LayoutView",
       "align_content": null,
       "align_items": null,
       "align_self": null,
       "border_bottom": null,
       "border_left": null,
       "border_right": null,
       "border_top": null,
       "bottom": null,
       "display": null,
       "flex": null,
       "flex_flow": null,
       "grid_area": null,
       "grid_auto_columns": null,
       "grid_auto_flow": null,
       "grid_auto_rows": null,
       "grid_column": null,
       "grid_gap": null,
       "grid_row": null,
       "grid_template_areas": null,
       "grid_template_columns": null,
       "grid_template_rows": null,
       "height": null,
       "justify_content": null,
       "justify_items": null,
       "left": null,
       "margin": null,
       "max_height": null,
       "max_width": null,
       "min_height": null,
       "min_width": null,
       "object_fit": null,
       "object_position": null,
       "order": null,
       "overflow": null,
       "padding": null,
       "right": null,
       "top": null,
       "visibility": null,
       "width": null
      }
     },
     "5bb55bdc210d4a99aff3170b3e1bc92d": {
      "model_module": "@jupyter-widgets/controls",
      "model_module_version": "2.0.0",
      "model_name": "HBoxModel",
      "state": {
       "_dom_classes": [],
       "_model_module": "@jupyter-widgets/controls",
       "_model_module_version": "2.0.0",
       "_model_name": "HBoxModel",
       "_view_count": null,
       "_view_module": "@jupyter-widgets/controls",
       "_view_module_version": "2.0.0",
       "_view_name": "HBoxView",
       "box_style": "",
       "children": [
        "IPY_MODEL_de42fad2912b454f86af206fa4285345",
        "IPY_MODEL_9f130ee6aac445b98611b3b3018b1aeb",
        "IPY_MODEL_46828b643c7841c793f7f9acdd239d29"
       ],
       "layout": "IPY_MODEL_5ac6ab4481924c349daf7a43d7f104f3",
       "tabbable": null,
       "tooltip": null
      }
     },
     "5c925fa59f3a479da9581b8e419995fb": {
      "model_module": "@jupyter-widgets/controls",
      "model_module_version": "2.0.0",
      "model_name": "ProgressStyleModel",
      "state": {
       "_model_module": "@jupyter-widgets/controls",
       "_model_module_version": "2.0.0",
       "_model_name": "ProgressStyleModel",
       "_view_count": null,
       "_view_module": "@jupyter-widgets/base",
       "_view_module_version": "2.0.0",
       "_view_name": "StyleView",
       "bar_color": null,
       "description_width": ""
      }
     },
     "5db73644aa454083a91f57ee2282ab34": {
      "model_module": "@jupyter-widgets/controls",
      "model_module_version": "2.0.0",
      "model_name": "HBoxModel",
      "state": {
       "_dom_classes": [],
       "_model_module": "@jupyter-widgets/controls",
       "_model_module_version": "2.0.0",
       "_model_name": "HBoxModel",
       "_view_count": null,
       "_view_module": "@jupyter-widgets/controls",
       "_view_module_version": "2.0.0",
       "_view_name": "HBoxView",
       "box_style": "",
       "children": [
        "IPY_MODEL_05429c268f654b44a268e08b50938544",
        "IPY_MODEL_cd21b04723624e699c0a5d7bd6db5ca4",
        "IPY_MODEL_aa8179527532415a90eb69664391a38b"
       ],
       "layout": "IPY_MODEL_46e4447b21864ef3be839790644e93ac",
       "tabbable": null,
       "tooltip": null
      }
     },
     "656e7460e26a4a43a5de75889e431922": {
      "model_module": "@jupyter-widgets/controls",
      "model_module_version": "2.0.0",
      "model_name": "HTMLStyleModel",
      "state": {
       "_model_module": "@jupyter-widgets/controls",
       "_model_module_version": "2.0.0",
       "_model_name": "HTMLStyleModel",
       "_view_count": null,
       "_view_module": "@jupyter-widgets/base",
       "_view_module_version": "2.0.0",
       "_view_name": "StyleView",
       "background": null,
       "description_width": "",
       "font_size": null,
       "text_color": null
      }
     },
     "880e54194e6f4306ada801c1e59714ee": {
      "model_module": "@jupyter-widgets/controls",
      "model_module_version": "2.0.0",
      "model_name": "HTMLStyleModel",
      "state": {
       "_model_module": "@jupyter-widgets/controls",
       "_model_module_version": "2.0.0",
       "_model_name": "HTMLStyleModel",
       "_view_count": null,
       "_view_module": "@jupyter-widgets/base",
       "_view_module_version": "2.0.0",
       "_view_name": "StyleView",
       "background": null,
       "description_width": "",
       "font_size": null,
       "text_color": null
      }
     },
     "9d94e0d027fd4744bafe99b80381d317": {
      "model_module": "@jupyter-widgets/base",
      "model_module_version": "2.0.0",
      "model_name": "LayoutModel",
      "state": {
       "_model_module": "@jupyter-widgets/base",
       "_model_module_version": "2.0.0",
       "_model_name": "LayoutModel",
       "_view_count": null,
       "_view_module": "@jupyter-widgets/base",
       "_view_module_version": "2.0.0",
       "_view_name": "LayoutView",
       "align_content": null,
       "align_items": null,
       "align_self": null,
       "border_bottom": null,
       "border_left": null,
       "border_right": null,
       "border_top": null,
       "bottom": null,
       "display": null,
       "flex": null,
       "flex_flow": null,
       "grid_area": null,
       "grid_auto_columns": null,
       "grid_auto_flow": null,
       "grid_auto_rows": null,
       "grid_column": null,
       "grid_gap": null,
       "grid_row": null,
       "grid_template_areas": null,
       "grid_template_columns": null,
       "grid_template_rows": null,
       "height": null,
       "justify_content": null,
       "justify_items": null,
       "left": null,
       "margin": null,
       "max_height": null,
       "max_width": null,
       "min_height": null,
       "min_width": null,
       "object_fit": null,
       "object_position": null,
       "order": null,
       "overflow": null,
       "padding": null,
       "right": null,
       "top": null,
       "visibility": null,
       "width": null
      }
     },
     "9f130ee6aac445b98611b3b3018b1aeb": {
      "model_module": "@jupyter-widgets/controls",
      "model_module_version": "2.0.0",
      "model_name": "FloatProgressModel",
      "state": {
       "_dom_classes": [],
       "_model_module": "@jupyter-widgets/controls",
       "_model_module_version": "2.0.0",
       "_model_name": "FloatProgressModel",
       "_view_count": null,
       "_view_module": "@jupyter-widgets/controls",
       "_view_module_version": "2.0.0",
       "_view_name": "ProgressView",
       "bar_style": "success",
       "description": "",
       "description_allow_html": false,
       "layout": "IPY_MODEL_ddf574422cfa4b4688bfbe2dd44e0eb7",
       "max": 2.0,
       "min": 0.0,
       "orientation": "horizontal",
       "style": "IPY_MODEL_5c925fa59f3a479da9581b8e419995fb",
       "tabbable": null,
       "tooltip": null,
       "value": 2.0
      }
     },
     "a01ffc5709e2419ab9fcce01c535f0b0": {
      "model_module": "@jupyter-widgets/controls",
      "model_module_version": "2.0.0",
      "model_name": "HTMLStyleModel",
      "state": {
       "_model_module": "@jupyter-widgets/controls",
       "_model_module_version": "2.0.0",
       "_model_name": "HTMLStyleModel",
       "_view_count": null,
       "_view_module": "@jupyter-widgets/base",
       "_view_module_version": "2.0.0",
       "_view_name": "StyleView",
       "background": null,
       "description_width": "",
       "font_size": null,
       "text_color": null
      }
     },
     "aa8179527532415a90eb69664391a38b": {
      "model_module": "@jupyter-widgets/controls",
      "model_module_version": "2.0.0",
      "model_name": "HTMLModel",
      "state": {
       "_dom_classes": [],
       "_model_module": "@jupyter-widgets/controls",
       "_model_module_version": "2.0.0",
       "_model_name": "HTMLModel",
       "_view_count": null,
       "_view_module": "@jupyter-widgets/controls",
       "_view_module_version": "2.0.0",
       "_view_name": "HTMLView",
       "description": "",
       "description_allow_html": false,
       "layout": "IPY_MODEL_40263707dd7b43efa1d0c06f0bf138d0",
       "placeholder": "​",
       "style": "IPY_MODEL_880e54194e6f4306ada801c1e59714ee",
       "tabbable": null,
       "tooltip": null,
       "value": " 2/2 [00:03&lt;00:00,  1.61s/it]"
      }
     },
     "aac8e837e6914c61a862ce27abe8738c": {
      "model_module": "@jupyter-widgets/base",
      "model_module_version": "2.0.0",
      "model_name": "LayoutModel",
      "state": {
       "_model_module": "@jupyter-widgets/base",
       "_model_module_version": "2.0.0",
       "_model_name": "LayoutModel",
       "_view_count": null,
       "_view_module": "@jupyter-widgets/base",
       "_view_module_version": "2.0.0",
       "_view_name": "LayoutView",
       "align_content": null,
       "align_items": null,
       "align_self": null,
       "border_bottom": null,
       "border_left": null,
       "border_right": null,
       "border_top": null,
       "bottom": null,
       "display": null,
       "flex": null,
       "flex_flow": null,
       "grid_area": null,
       "grid_auto_columns": null,
       "grid_auto_flow": null,
       "grid_auto_rows": null,
       "grid_column": null,
       "grid_gap": null,
       "grid_row": null,
       "grid_template_areas": null,
       "grid_template_columns": null,
       "grid_template_rows": null,
       "height": null,
       "justify_content": null,
       "justify_items": null,
       "left": null,
       "margin": null,
       "max_height": null,
       "max_width": null,
       "min_height": null,
       "min_width": null,
       "object_fit": null,
       "object_position": null,
       "order": null,
       "overflow": null,
       "padding": null,
       "right": null,
       "top": null,
       "visibility": null,
       "width": null
      }
     },
     "ade1a46baf7549e6ad0c1f4c54d60907": {
      "model_module": "@jupyter-widgets/base",
      "model_module_version": "2.0.0",
      "model_name": "LayoutModel",
      "state": {
       "_model_module": "@jupyter-widgets/base",
       "_model_module_version": "2.0.0",
       "_model_name": "LayoutModel",
       "_view_count": null,
       "_view_module": "@jupyter-widgets/base",
       "_view_module_version": "2.0.0",
       "_view_name": "LayoutView",
       "align_content": null,
       "align_items": null,
       "align_self": null,
       "border_bottom": null,
       "border_left": null,
       "border_right": null,
       "border_top": null,
       "bottom": null,
       "display": null,
       "flex": null,
       "flex_flow": null,
       "grid_area": null,
       "grid_auto_columns": null,
       "grid_auto_flow": null,
       "grid_auto_rows": null,
       "grid_column": null,
       "grid_gap": null,
       "grid_row": null,
       "grid_template_areas": null,
       "grid_template_columns": null,
       "grid_template_rows": null,
       "height": null,
       "justify_content": null,
       "justify_items": null,
       "left": null,
       "margin": null,
       "max_height": null,
       "max_width": null,
       "min_height": null,
       "min_width": null,
       "object_fit": null,
       "object_position": null,
       "order": null,
       "overflow": null,
       "padding": null,
       "right": null,
       "top": null,
       "visibility": null,
       "width": null
      }
     },
     "c6c0a91d025b4beabee886e75b209371": {
      "model_module": "@jupyter-widgets/base",
      "model_module_version": "2.0.0",
      "model_name": "LayoutModel",
      "state": {
       "_model_module": "@jupyter-widgets/base",
       "_model_module_version": "2.0.0",
       "_model_name": "LayoutModel",
       "_view_count": null,
       "_view_module": "@jupyter-widgets/base",
       "_view_module_version": "2.0.0",
       "_view_name": "LayoutView",
       "align_content": null,
       "align_items": null,
       "align_self": null,
       "border_bottom": null,
       "border_left": null,
       "border_right": null,
       "border_top": null,
       "bottom": null,
       "display": null,
       "flex": null,
       "flex_flow": null,
       "grid_area": null,
       "grid_auto_columns": null,
       "grid_auto_flow": null,
       "grid_auto_rows": null,
       "grid_column": null,
       "grid_gap": null,
       "grid_row": null,
       "grid_template_areas": null,
       "grid_template_columns": null,
       "grid_template_rows": null,
       "height": null,
       "justify_content": null,
       "justify_items": null,
       "left": null,
       "margin": null,
       "max_height": null,
       "max_width": null,
       "min_height": null,
       "min_width": null,
       "object_fit": null,
       "object_position": null,
       "order": null,
       "overflow": null,
       "padding": null,
       "right": null,
       "top": null,
       "visibility": null,
       "width": null
      }
     },
     "cd21b04723624e699c0a5d7bd6db5ca4": {
      "model_module": "@jupyter-widgets/controls",
      "model_module_version": "2.0.0",
      "model_name": "FloatProgressModel",
      "state": {
       "_dom_classes": [],
       "_model_module": "@jupyter-widgets/controls",
       "_model_module_version": "2.0.0",
       "_model_name": "FloatProgressModel",
       "_view_count": null,
       "_view_module": "@jupyter-widgets/controls",
       "_view_module_version": "2.0.0",
       "_view_name": "ProgressView",
       "bar_style": "success",
       "description": "",
       "description_allow_html": false,
       "layout": "IPY_MODEL_aac8e837e6914c61a862ce27abe8738c",
       "max": 2.0,
       "min": 0.0,
       "orientation": "horizontal",
       "style": "IPY_MODEL_4403a33866f2447a9e8774d5850ce71e",
       "tabbable": null,
       "tooltip": null,
       "value": 2.0
      }
     },
     "ddf574422cfa4b4688bfbe2dd44e0eb7": {
      "model_module": "@jupyter-widgets/base",
      "model_module_version": "2.0.0",
      "model_name": "LayoutModel",
      "state": {
       "_model_module": "@jupyter-widgets/base",
       "_model_module_version": "2.0.0",
       "_model_name": "LayoutModel",
       "_view_count": null,
       "_view_module": "@jupyter-widgets/base",
       "_view_module_version": "2.0.0",
       "_view_name": "LayoutView",
       "align_content": null,
       "align_items": null,
       "align_self": null,
       "border_bottom": null,
       "border_left": null,
       "border_right": null,
       "border_top": null,
       "bottom": null,
       "display": null,
       "flex": null,
       "flex_flow": null,
       "grid_area": null,
       "grid_auto_columns": null,
       "grid_auto_flow": null,
       "grid_auto_rows": null,
       "grid_column": null,
       "grid_gap": null,
       "grid_row": null,
       "grid_template_areas": null,
       "grid_template_columns": null,
       "grid_template_rows": null,
       "height": null,
       "justify_content": null,
       "justify_items": null,
       "left": null,
       "margin": null,
       "max_height": null,
       "max_width": null,
       "min_height": null,
       "min_width": null,
       "object_fit": null,
       "object_position": null,
       "order": null,
       "overflow": null,
       "padding": null,
       "right": null,
       "top": null,
       "visibility": null,
       "width": null
      }
     },
     "de42fad2912b454f86af206fa4285345": {
      "model_module": "@jupyter-widgets/controls",
      "model_module_version": "2.0.0",
      "model_name": "HTMLModel",
      "state": {
       "_dom_classes": [],
       "_model_module": "@jupyter-widgets/controls",
       "_model_module_version": "2.0.0",
       "_model_name": "HTMLModel",
       "_view_count": null,
       "_view_module": "@jupyter-widgets/controls",
       "_view_module_version": "2.0.0",
       "_view_name": "HTMLView",
       "description": "",
       "description_allow_html": false,
       "layout": "IPY_MODEL_ade1a46baf7549e6ad0c1f4c54d60907",
       "placeholder": "​",
       "style": "IPY_MODEL_656e7460e26a4a43a5de75889e431922",
       "tabbable": null,
       "tooltip": null,
       "value": "Loading checkpoint shards: 100%"
      }
     }
    },
    "version_major": 2,
    "version_minor": 0
   }
  }
 },
 "nbformat": 4,
 "nbformat_minor": 5
}
